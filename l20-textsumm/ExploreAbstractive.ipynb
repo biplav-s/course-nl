{
 "cells": [
  {
   "cell_type": "markdown",
   "metadata": {},
   "source": [
    "### Based on Tutorial\n",
    "https://www.analyticsvidhya.com/blog/2019/06/comprehensive-guide-text-summarization-using-deep-learning-python/"
   ]
  },
  {
   "cell_type": "code",
   "execution_count": 1,
   "metadata": {},
   "outputs": [],
   "source": [
    "import numpy as np  \n",
    "import pandas as pd \n",
    "import re           \n",
    "from bs4 import BeautifulSoup \n",
    "from keras.preprocessing.text import Tokenizer \n",
    "from keras.preprocessing.sequence import pad_sequences\n",
    "from nltk.corpus import stopwords   \n",
    "from tensorflow.keras.layers import Input, LSTM, Embedding, Dense, Concatenate, TimeDistributed, Bidirectional\n",
    "from tensorflow.keras.models import Model\n",
    "from tensorflow.keras.callbacks import EarlyStopping\n",
    "import warnings\n",
    "pd.set_option(\"display.max_colwidth\", 200)\n",
    "warnings.filterwarnings(\"ignore\")"
   ]
  },
  {
   "cell_type": "code",
   "execution_count": 2,
   "metadata": {},
   "outputs": [],
   "source": [
    "# Load data\n",
    "data=pd.read_csv(\"../common-data/Reviews.csv\")"
   ]
  },
  {
   "cell_type": "code",
   "execution_count": 3,
   "metadata": {},
   "outputs": [
    {
     "data": {
      "text/plain": [
       "<bound method NDFrame.head of          Id   ProductId          UserId                      ProfileName  \\\n",
       "0         1  B001E4KFG0  A3SGXH7AUHU8GW                       delmartian   \n",
       "1         2  B00813GRG4  A1D87F6ZCVE5NK                           dll pa   \n",
       "2         3  B000LQOCH0   ABXLMWJIXXAIN  Natalia Corres \"Natalia Corres\"   \n",
       "3         4  B000UA0QIQ  A395BORC6FGVXV                             Karl   \n",
       "4         5  B006K2ZZ7K  A1UQRSCLF8GW1T    Michael D. Bigham \"M. Wassir\"   \n",
       "...     ...         ...             ...                              ...   \n",
       "9995   9996  B000P41A28  A3A63RACXR1XIL            A. Boodhoo \"deaddodo\"   \n",
       "9996   9997  B000P41A28    A5VVRGL8JA7R                             Adam   \n",
       "9997   9998  B000P41A28  A2TGDTJ8YCU6PD                          geena77   \n",
       "9998   9999  B000P41A28   AUV4GIZZE693O              Susan Coe \"sueysis\"   \n",
       "9999  10000  B000P41A28   A82WIMR4RSVLI                       Emrose mom   \n",
       "\n",
       "      HelpfulnessNumerator  HelpfulnessDenominator  Score        Time  \\\n",
       "0                        1                       1      5  1303862400   \n",
       "1                        0                       0      1  1346976000   \n",
       "2                        1                       1      4  1219017600   \n",
       "3                        3                       3      2  1307923200   \n",
       "4                        0                       0      5  1350777600   \n",
       "...                    ...                     ...    ...         ...   \n",
       "9995                    10                      15      1  1204502400   \n",
       "9996                     2                       3      5  1306368000   \n",
       "9997                     0                       0      5  1347494400   \n",
       "9998                     1                       2      5  1203638400   \n",
       "9999                     0                       1      4  1337472000   \n",
       "\n",
       "                               Summary  \\\n",
       "0                Good Quality Dog Food   \n",
       "1                    Not as Advertised   \n",
       "2                \"Delight\" says it all   \n",
       "3                       Cough Medicine   \n",
       "4                          Great taffy   \n",
       "...                                ...   \n",
       "9995                      constipation   \n",
       "9996  Constipation Not A Problem if...   \n",
       "9997                Love this formula!   \n",
       "9998                   very convenient   \n",
       "9999        The best weve tried so far   \n",
       "\n",
       "                                                                                                                                                                                                         Text  \n",
       "0     I have bought several of the Vitality canned dog food products and have found them all to be of good quality. The product looks more like a stew than a processed meat and it smells better. My Labr...  \n",
       "1              Product arrived labeled as Jumbo Salted Peanuts...the peanuts were actually small sized unsalted. Not sure if this was an error or if the vendor intended to represent the product as \"Jumbo\".  \n",
       "2     This is a confection that has been around a few centuries.  It is a light, pillowy citrus gelatin with nuts - in this case Filberts. And it is cut into tiny squares and then liberally coated with ...  \n",
       "3     If you are looking for the secret ingredient in Robitussin I believe I have found it.  I got this in addition to the Root Beer Extract I ordered (which was good) and made some cherry soda.  The fl...  \n",
       "4                                                                Great taffy at a great price.  There was a wide assortment of yummy taffy.  Delivery was very quick.  If your a taffy lover, this is a deal.  \n",
       "...                                                                                                                                                                                                       ...  \n",
       "9995  we switched from the advance similac to the organic product thinking it would be better as we prefer organic foods ourselves. it was a disaster with our 2 month old baby getting constipated and pr...  \n",
       "9996  Like the bad reviews say, the organic formula constipated our daughter. However, by alternating every other feeding with regular (non-organic) formula the problem was resolved. I'm a believer that...  \n",
       "9997  I wanted to solely breastfeed but was unable to keep up and had to supplement formula.  I chose Similac because they are a very reputable company and I had a ton of it from the hospital.  We have ...  \n",
       "9998                                                                                   i love the fact that i can get this delieved to my house with no delievy charge.it is so hard to find organic formular  \n",
       "9999  We have a 7 week old... He had gas and constipation problems for the first 5 weeks. We tried two different kinds of similac including for fussiness and gas and neither seemed to work. We switched ...  \n",
       "\n",
       "[10000 rows x 10 columns]>"
      ]
     },
     "execution_count": 3,
     "metadata": {},
     "output_type": "execute_result"
    }
   ],
   "source": [
    "# Checking data\n",
    "data.head"
   ]
  },
  {
   "cell_type": "code",
   "execution_count": 4,
   "metadata": {},
   "outputs": [
    {
     "name": "stdout",
     "output_type": "stream",
     "text": [
      "<class 'pandas.core.frame.DataFrame'>\n",
      "RangeIndex: 10000 entries, 0 to 9999\n",
      "Data columns (total 10 columns):\n",
      " #   Column                  Non-Null Count  Dtype \n",
      "---  ------                  --------------  ----- \n",
      " 0   Id                      10000 non-null  int64 \n",
      " 1   ProductId               10000 non-null  object\n",
      " 2   UserId                  10000 non-null  object\n",
      " 3   ProfileName             10000 non-null  object\n",
      " 4   HelpfulnessNumerator    10000 non-null  int64 \n",
      " 5   HelpfulnessDenominator  10000 non-null  int64 \n",
      " 6   Score                   10000 non-null  int64 \n",
      " 7   Time                    10000 non-null  int64 \n",
      " 8   Summary                 10000 non-null  object\n",
      " 9   Text                    10000 non-null  object\n",
      "dtypes: int64(5), object(5)\n",
      "memory usage: 781.4+ KB\n"
     ]
    }
   ],
   "source": [
    "# Checking data stats\n",
    "data.info()"
   ]
  },
  {
   "cell_type": "code",
   "execution_count": 5,
   "metadata": {},
   "outputs": [
    {
     "name": "stdout",
     "output_type": "stream",
     "text": [
      "<class 'pandas.core.frame.DataFrame'>\n",
      "Int64Index: 9513 entries, 0 to 9999\n",
      "Data columns (total 10 columns):\n",
      " #   Column                  Non-Null Count  Dtype \n",
      "---  ------                  --------------  ----- \n",
      " 0   Id                      9513 non-null   int64 \n",
      " 1   ProductId               9513 non-null   object\n",
      " 2   UserId                  9513 non-null   object\n",
      " 3   ProfileName             9513 non-null   object\n",
      " 4   HelpfulnessNumerator    9513 non-null   int64 \n",
      " 5   HelpfulnessDenominator  9513 non-null   int64 \n",
      " 6   Score                   9513 non-null   int64 \n",
      " 7   Time                    9513 non-null   int64 \n",
      " 8   Summary                 9513 non-null   object\n",
      " 9   Text                    9513 non-null   object\n",
      "dtypes: int64(5), object(5)\n",
      "memory usage: 817.5+ KB\n"
     ]
    }
   ],
   "source": [
    "# Checking data and cleaning\n",
    "data.drop_duplicates(subset=['Text'],inplace=True)  #dropping duplicates\n",
    "data.dropna(axis=0,inplace=True)   #dropping na\n",
    "data.info()"
   ]
  },
  {
   "cell_type": "code",
   "execution_count": 6,
   "metadata": {},
   "outputs": [],
   "source": [
    "# Data cleaning\n",
    "contraction_mapping = {\"ain't\": \"is not\", \"aren't\": \"are not\",\"can't\": \"cannot\", \"'cause\": \"because\", \"could've\": \"could have\", \"couldn't\": \"could not\",\n",
    "\n",
    "                           \"didn't\": \"did not\", \"doesn't\": \"does not\", \"don't\": \"do not\", \"hadn't\": \"had not\", \"hasn't\": \"has not\", \"haven't\": \"have not\",\n",
    "\n",
    "                           \"he'd\": \"he would\",\"he'll\": \"he will\", \"he's\": \"he is\", \"how'd\": \"how did\", \"how'd'y\": \"how do you\", \"how'll\": \"how will\", \"how's\": \"how is\",\n",
    "\n",
    "                           \"I'd\": \"I would\", \"I'd've\": \"I would have\", \"I'll\": \"I will\", \"I'll've\": \"I will have\",\"I'm\": \"I am\", \"I've\": \"I have\", \"i'd\": \"i would\",\n",
    "\n",
    "                           \"i'd've\": \"i would have\", \"i'll\": \"i will\",  \"i'll've\": \"i will have\",\"i'm\": \"i am\", \"i've\": \"i have\", \"isn't\": \"is not\", \"it'd\": \"it would\",\n",
    "\n",
    "                           \"it'd've\": \"it would have\", \"it'll\": \"it will\", \"it'll've\": \"it will have\",\"it's\": \"it is\", \"let's\": \"let us\", \"ma'am\": \"madam\",\n",
    "\n",
    "                           \"mayn't\": \"may not\", \"might've\": \"might have\",\"mightn't\": \"might not\",\"mightn't've\": \"might not have\", \"must've\": \"must have\",\n",
    "\n",
    "                           \"mustn't\": \"must not\", \"mustn't've\": \"must not have\", \"needn't\": \"need not\", \"needn't've\": \"need not have\",\"o'clock\": \"of the clock\",\n",
    "\n",
    "                           \"oughtn't\": \"ought not\", \"oughtn't've\": \"ought not have\", \"shan't\": \"shall not\", \"sha'n't\": \"shall not\", \"shan't've\": \"shall not have\",\n",
    "\n",
    "                           \"she'd\": \"she would\", \"she'd've\": \"she would have\", \"she'll\": \"she will\", \"she'll've\": \"she will have\", \"she's\": \"she is\",\n",
    "\n",
    "                           \"should've\": \"should have\", \"shouldn't\": \"should not\", \"shouldn't've\": \"should not have\", \"so've\": \"so have\",\"so's\": \"so as\",\n",
    "\n",
    "                           \"this's\": \"this is\",\"that'd\": \"that would\", \"that'd've\": \"that would have\", \"that's\": \"that is\", \"there'd\": \"there would\",\n",
    "\n",
    "                           \"there'd've\": \"there would have\", \"there's\": \"there is\", \"here's\": \"here is\",\"they'd\": \"they would\", \"they'd've\": \"they would have\",\n",
    "\n",
    "                           \"they'll\": \"they will\", \"they'll've\": \"they will have\", \"they're\": \"they are\", \"they've\": \"they have\", \"to've\": \"to have\",\n",
    "\n",
    "                           \"wasn't\": \"was not\", \"we'd\": \"we would\", \"we'd've\": \"we would have\", \"we'll\": \"we will\", \"we'll've\": \"we will have\", \"we're\": \"we are\",\n",
    "\n",
    "                           \"we've\": \"we have\", \"weren't\": \"were not\", \"what'll\": \"what will\", \"what'll've\": \"what will have\", \"what're\": \"what are\",\n",
    "\n",
    "                           \"what's\": \"what is\", \"what've\": \"what have\", \"when's\": \"when is\", \"when've\": \"when have\", \"where'd\": \"where did\", \"where's\": \"where is\",\n",
    "\n",
    "                           \"where've\": \"where have\", \"who'll\": \"who will\", \"who'll've\": \"who will have\", \"who's\": \"who is\", \"who've\": \"who have\",\n",
    "\n",
    "                           \"why's\": \"why is\", \"why've\": \"why have\", \"will've\": \"will have\", \"won't\": \"will not\", \"won't've\": \"will not have\",\n",
    "\n",
    "                           \"would've\": \"would have\", \"wouldn't\": \"would not\", \"wouldn't've\": \"would not have\", \"y'all\": \"you all\",\n",
    "\n",
    "                           \"y'all'd\": \"you all would\",\"y'all'd've\": \"you all would have\",\"y'all're\": \"you all are\",\"y'all've\": \"you all have\",\n",
    "\n",
    "                           \"you'd\": \"you would\", \"you'd've\": \"you would have\", \"you'll\": \"you will\", \"you'll've\": \"you will have\",\n",
    "\n",
    "                           \"you're\": \"you are\", \"you've\": \"you have\"}\n",
    "\n",
    "\"\"\"\n",
    "Convert everything to lowercase\n",
    "Remove HTML tags\n",
    "Contraction mapping\n",
    "Remove (‘s)\n",
    "Remove any text inside the parenthesis ( )\n",
    "Eliminate punctuations and special characters\n",
    "Remove stopwords\n",
    "\"\"\"\n",
    "\n",
    "stop_words = set(stopwords.words('english')) \n",
    "def text_cleaner(text):\n",
    "    newString = text.lower()\n",
    "    newString = BeautifulSoup(newString, \"lxml\").text\n",
    "    newString = re.sub(r'\\([^)]*\\)', '', newString)\n",
    "    newString = re.sub('\"','', newString)\n",
    "    newString = ' '.join([contraction_mapping[t] if t in contraction_mapping else t for t in newString.split(\" \")])    \n",
    "    newString = re.sub(r\"'s\\b\",\"\",newString)\n",
    "    newString = re.sub(\"[^a-zA-Z]\", \" \", newString) \n",
    "    tokens = [w for w in newString.split() if not w in stop_words]\n",
    "    return (\" \".join(tokens)).strip()\n",
    "  "
   ]
  },
  {
   "cell_type": "code",
   "execution_count": 7,
   "metadata": {},
   "outputs": [],
   "source": [
    "# Clean text\n",
    "cleaned_text = []\n",
    "for t in data['Text']:\n",
    "    cleaned_text.append(text_cleaner(t))\n",
    "data['Cleaned_Text']=cleaned_text\n",
    "# Clean summary text\n",
    "cleaned_text = []\n",
    "for t in data['Summary']:\n",
    "    cleaned_text.append(text_cleaner(t))\n",
    "data['Cleaned_Summary']=cleaned_text"
   ]
  },
  {
   "cell_type": "code",
   "execution_count": 8,
   "metadata": {},
   "outputs": [
    {
     "data": {
      "text/html": [
       "<div>\n",
       "<style scoped>\n",
       "    .dataframe tbody tr th:only-of-type {\n",
       "        vertical-align: middle;\n",
       "    }\n",
       "\n",
       "    .dataframe tbody tr th {\n",
       "        vertical-align: top;\n",
       "    }\n",
       "\n",
       "    .dataframe thead th {\n",
       "        text-align: right;\n",
       "    }\n",
       "</style>\n",
       "<table border=\"1\" class=\"dataframe\">\n",
       "  <thead>\n",
       "    <tr style=\"text-align: right;\">\n",
       "      <th></th>\n",
       "      <th>Id</th>\n",
       "      <th>ProductId</th>\n",
       "      <th>UserId</th>\n",
       "      <th>ProfileName</th>\n",
       "      <th>HelpfulnessNumerator</th>\n",
       "      <th>HelpfulnessDenominator</th>\n",
       "      <th>Score</th>\n",
       "      <th>Time</th>\n",
       "      <th>Summary</th>\n",
       "      <th>Text</th>\n",
       "      <th>Cleaned_Text</th>\n",
       "      <th>Cleaned_Summary</th>\n",
       "    </tr>\n",
       "  </thead>\n",
       "  <tbody>\n",
       "    <tr>\n",
       "      <th>0</th>\n",
       "      <td>1</td>\n",
       "      <td>B001E4KFG0</td>\n",
       "      <td>A3SGXH7AUHU8GW</td>\n",
       "      <td>delmartian</td>\n",
       "      <td>1</td>\n",
       "      <td>1</td>\n",
       "      <td>5</td>\n",
       "      <td>1303862400</td>\n",
       "      <td>Good Quality Dog Food</td>\n",
       "      <td>I have bought several of the Vitality canned dog food products and have found them all to be of good quality. The product looks more like a stew than a processed meat and it smells better. My Labr...</td>\n",
       "      <td>bought several vitality canned dog food products found good quality product looks like stew processed meat smells better labrador finicky appreciates product better</td>\n",
       "      <td>good quality dog food</td>\n",
       "    </tr>\n",
       "    <tr>\n",
       "      <th>1</th>\n",
       "      <td>2</td>\n",
       "      <td>B00813GRG4</td>\n",
       "      <td>A1D87F6ZCVE5NK</td>\n",
       "      <td>dll pa</td>\n",
       "      <td>0</td>\n",
       "      <td>0</td>\n",
       "      <td>1</td>\n",
       "      <td>1346976000</td>\n",
       "      <td>Not as Advertised</td>\n",
       "      <td>Product arrived labeled as Jumbo Salted Peanuts...the peanuts were actually small sized unsalted. Not sure if this was an error or if the vendor intended to represent the product as \"Jumbo\".</td>\n",
       "      <td>product arrived labeled jumbo salted peanuts peanuts actually small sized unsalted sure error vendor intended represent product jumbo</td>\n",
       "      <td>advertised</td>\n",
       "    </tr>\n",
       "    <tr>\n",
       "      <th>2</th>\n",
       "      <td>3</td>\n",
       "      <td>B000LQOCH0</td>\n",
       "      <td>ABXLMWJIXXAIN</td>\n",
       "      <td>Natalia Corres \"Natalia Corres\"</td>\n",
       "      <td>1</td>\n",
       "      <td>1</td>\n",
       "      <td>4</td>\n",
       "      <td>1219017600</td>\n",
       "      <td>\"Delight\" says it all</td>\n",
       "      <td>This is a confection that has been around a few centuries.  It is a light, pillowy citrus gelatin with nuts - in this case Filberts. And it is cut into tiny squares and then liberally coated with ...</td>\n",
       "      <td>confection around centuries light pillowy citrus gelatin nuts case filberts cut tiny squares liberally coated powdered sugar tiny mouthful heaven chewy flavorful highly recommend yummy treat famil...</td>\n",
       "      <td>delight says</td>\n",
       "    </tr>\n",
       "    <tr>\n",
       "      <th>3</th>\n",
       "      <td>4</td>\n",
       "      <td>B000UA0QIQ</td>\n",
       "      <td>A395BORC6FGVXV</td>\n",
       "      <td>Karl</td>\n",
       "      <td>3</td>\n",
       "      <td>3</td>\n",
       "      <td>2</td>\n",
       "      <td>1307923200</td>\n",
       "      <td>Cough Medicine</td>\n",
       "      <td>If you are looking for the secret ingredient in Robitussin I believe I have found it.  I got this in addition to the Root Beer Extract I ordered (which was good) and made some cherry soda.  The fl...</td>\n",
       "      <td>looking secret ingredient robitussin believe found got addition root beer extract ordered made cherry soda flavor medicinal</td>\n",
       "      <td>cough medicine</td>\n",
       "    </tr>\n",
       "    <tr>\n",
       "      <th>4</th>\n",
       "      <td>5</td>\n",
       "      <td>B006K2ZZ7K</td>\n",
       "      <td>A1UQRSCLF8GW1T</td>\n",
       "      <td>Michael D. Bigham \"M. Wassir\"</td>\n",
       "      <td>0</td>\n",
       "      <td>0</td>\n",
       "      <td>5</td>\n",
       "      <td>1350777600</td>\n",
       "      <td>Great taffy</td>\n",
       "      <td>Great taffy at a great price.  There was a wide assortment of yummy taffy.  Delivery was very quick.  If your a taffy lover, this is a deal.</td>\n",
       "      <td>great taffy great price wide assortment yummy taffy delivery quick taffy lover deal</td>\n",
       "      <td>great taffy</td>\n",
       "    </tr>\n",
       "  </tbody>\n",
       "</table>\n",
       "</div>"
      ],
      "text/plain": [
       "   Id   ProductId          UserId                      ProfileName  \\\n",
       "0   1  B001E4KFG0  A3SGXH7AUHU8GW                       delmartian   \n",
       "1   2  B00813GRG4  A1D87F6ZCVE5NK                           dll pa   \n",
       "2   3  B000LQOCH0   ABXLMWJIXXAIN  Natalia Corres \"Natalia Corres\"   \n",
       "3   4  B000UA0QIQ  A395BORC6FGVXV                             Karl   \n",
       "4   5  B006K2ZZ7K  A1UQRSCLF8GW1T    Michael D. Bigham \"M. Wassir\"   \n",
       "\n",
       "   HelpfulnessNumerator  HelpfulnessDenominator  Score        Time  \\\n",
       "0                     1                       1      5  1303862400   \n",
       "1                     0                       0      1  1346976000   \n",
       "2                     1                       1      4  1219017600   \n",
       "3                     3                       3      2  1307923200   \n",
       "4                     0                       0      5  1350777600   \n",
       "\n",
       "                 Summary  \\\n",
       "0  Good Quality Dog Food   \n",
       "1      Not as Advertised   \n",
       "2  \"Delight\" says it all   \n",
       "3         Cough Medicine   \n",
       "4            Great taffy   \n",
       "\n",
       "                                                                                                                                                                                                      Text  \\\n",
       "0  I have bought several of the Vitality canned dog food products and have found them all to be of good quality. The product looks more like a stew than a processed meat and it smells better. My Labr...   \n",
       "1           Product arrived labeled as Jumbo Salted Peanuts...the peanuts were actually small sized unsalted. Not sure if this was an error or if the vendor intended to represent the product as \"Jumbo\".   \n",
       "2  This is a confection that has been around a few centuries.  It is a light, pillowy citrus gelatin with nuts - in this case Filberts. And it is cut into tiny squares and then liberally coated with ...   \n",
       "3  If you are looking for the secret ingredient in Robitussin I believe I have found it.  I got this in addition to the Root Beer Extract I ordered (which was good) and made some cherry soda.  The fl...   \n",
       "4                                                             Great taffy at a great price.  There was a wide assortment of yummy taffy.  Delivery was very quick.  If your a taffy lover, this is a deal.   \n",
       "\n",
       "                                                                                                                                                                                              Cleaned_Text  \\\n",
       "0                                     bought several vitality canned dog food products found good quality product looks like stew processed meat smells better labrador finicky appreciates product better   \n",
       "1                                                                    product arrived labeled jumbo salted peanuts peanuts actually small sized unsalted sure error vendor intended represent product jumbo   \n",
       "2  confection around centuries light pillowy citrus gelatin nuts case filberts cut tiny squares liberally coated powdered sugar tiny mouthful heaven chewy flavorful highly recommend yummy treat famil...   \n",
       "3                                                                              looking secret ingredient robitussin believe found got addition root beer extract ordered made cherry soda flavor medicinal   \n",
       "4                                                                                                                      great taffy great price wide assortment yummy taffy delivery quick taffy lover deal   \n",
       "\n",
       "         Cleaned_Summary  \n",
       "0  good quality dog food  \n",
       "1             advertised  \n",
       "2           delight says  \n",
       "3         cough medicine  \n",
       "4            great taffy  "
      ]
     },
     "execution_count": 8,
     "metadata": {},
     "output_type": "execute_result"
    }
   ],
   "source": [
    "data.head()"
   ]
  },
  {
   "cell_type": "code",
   "execution_count": 9,
   "metadata": {},
   "outputs": [],
   "source": [
    "data['Cleaned_Summary'] = data['Cleaned_Summary'].apply(lambda x : '_START_ '+ x + ' _END_')"
   ]
  },
  {
   "cell_type": "code",
   "execution_count": 10,
   "metadata": {},
   "outputs": [
    {
     "name": "stdout",
     "output_type": "stream",
     "text": [
      "Review: bought several vitality canned dog food products found good quality product looks like stew processed meat smells better labrador finicky appreciates product better\n",
      "Summary: _START_ good quality dog food _END_\n",
      "\n",
      "\n",
      "Review: product arrived labeled jumbo salted peanuts peanuts actually small sized unsalted sure error vendor intended represent product jumbo\n",
      "Summary: _START_ advertised _END_\n",
      "\n",
      "\n",
      "Review: confection around centuries light pillowy citrus gelatin nuts case filberts cut tiny squares liberally coated powdered sugar tiny mouthful heaven chewy flavorful highly recommend yummy treat familiar story c lewis lion witch wardrobe treat seduces edmund selling brother sisters witch\n",
      "Summary: _START_ delight says _END_\n",
      "\n",
      "\n",
      "Review: looking secret ingredient robitussin believe found got addition root beer extract ordered made cherry soda flavor medicinal\n",
      "Summary: _START_ cough medicine _END_\n",
      "\n",
      "\n",
      "Review: great taffy great price wide assortment yummy taffy delivery quick taffy lover deal\n",
      "Summary: _START_ great taffy _END_\n",
      "\n",
      "\n"
     ]
    }
   ],
   "source": [
    "# Printing cleaned text and summary\n",
    "for i in range(5):\n",
    "    print(\"Review:\",data['Cleaned_Text'][i])\n",
    "    print(\"Summary:\",data['Cleaned_Summary'][i])\n",
    "    print(\"\\n\")"
   ]
  },
  {
   "cell_type": "markdown",
   "metadata": {},
   "source": [
    "### Learning Summary"
   ]
  },
  {
   "cell_type": "code",
   "execution_count": 11,
   "metadata": {},
   "outputs": [],
   "source": [
    "max_len_text=80 \n",
    "max_len_summary=10"
   ]
  },
  {
   "cell_type": "code",
   "execution_count": 12,
   "metadata": {},
   "outputs": [],
   "source": [
    "from sklearn.model_selection import train_test_split\n",
    "x_tr,x_val,y_tr,y_val=train_test_split(data['Cleaned_Text'],data['Cleaned_Summary'],test_size=0.1,random_state=0,shuffle=True) "
   ]
  },
  {
   "cell_type": "code",
   "execution_count": 13,
   "metadata": {},
   "outputs": [],
   "source": [
    "# Text tokenizer \n",
    "x_tokenizer = Tokenizer()\n",
    "x_tokenizer.fit_on_texts(list(x_tr))\n",
    "\n",
    "#convert text sequences into integer sequences\n",
    "x_tr    =   x_tokenizer.texts_to_sequences(x_tr) \n",
    "x_val   =   x_tokenizer.texts_to_sequences(x_val)\n",
    "\n",
    "#padding zero upto maximum length\n",
    "x_tr    =   pad_sequences(x_tr,  maxlen=max_len_text, padding='post') \n",
    "x_val   =   pad_sequences(x_val, maxlen=max_len_text, padding='post')\n",
    "\n",
    "x_voc_size   =  len(x_tokenizer.word_index) +1"
   ]
  },
  {
   "cell_type": "code",
   "execution_count": 14,
   "metadata": {},
   "outputs": [],
   "source": [
    "# Summary tokenizer\n",
    "y_tokenizer = Tokenizer()\n",
    "y_tokenizer.fit_on_texts(list(y_tr))\n",
    "\n",
    "#convert summary sequences into integer sequences\n",
    "y_tr    =   y_tokenizer.texts_to_sequences(y_tr) \n",
    "y_val   =   y_tokenizer.texts_to_sequences(y_val) \n",
    "\n",
    "#padding zero upto maximum length\n",
    "y_tr    =   pad_sequences(y_tr, maxlen=max_len_summary, padding='post')\n",
    "y_val   =   pad_sequences(y_val, maxlen=max_len_summary, padding='post')\n",
    "\n",
    "y_voc_size  =   len(y_tokenizer.word_index) +1"
   ]
  },
  {
   "cell_type": "code",
   "execution_count": 15,
   "metadata": {},
   "outputs": [],
   "source": [
    "# Attention\n",
    "from attention import AttentionLayer"
   ]
  },
  {
   "cell_type": "code",
   "execution_count": 16,
   "metadata": {},
   "outputs": [
    {
     "name": "stdout",
     "output_type": "stream",
     "text": [
      "Model: \"functional_1\"\n",
      "__________________________________________________________________________________________________\n",
      "Layer (type)                    Output Shape         Param #     Connected to                     \n",
      "==================================================================================================\n",
      "input_1 (InputLayer)            [(None, 80)]         0                                            \n",
      "__________________________________________________________________________________________________\n",
      "embedding (Embedding)           (None, 80, 500)      8536000     input_1[0][0]                    \n",
      "__________________________________________________________________________________________________\n",
      "lstm (LSTM)                     [(None, 80, 500), (N 2002000     embedding[0][0]                  \n",
      "__________________________________________________________________________________________________\n",
      "input_2 (InputLayer)            [(None, None)]       0                                            \n",
      "__________________________________________________________________________________________________\n",
      "lstm_1 (LSTM)                   [(None, 80, 500), (N 2002000     lstm[0][0]                       \n",
      "__________________________________________________________________________________________________\n",
      "embedding_1 (Embedding)         (None, None, 500)    2039500     input_2[0][0]                    \n",
      "__________________________________________________________________________________________________\n",
      "lstm_2 (LSTM)                   [(None, 80, 500), (N 2002000     lstm_1[0][0]                     \n",
      "__________________________________________________________________________________________________\n",
      "lstm_3 (LSTM)                   [(None, None, 500),  2002000     embedding_1[0][0]                \n",
      "                                                                 lstm_2[0][1]                     \n",
      "                                                                 lstm_2[0][2]                     \n",
      "__________________________________________________________________________________________________\n",
      "attention_layer (AttentionLayer ((None, None, 500),  500500      lstm_2[0][0]                     \n",
      "                                                                 lstm_3[0][0]                     \n",
      "__________________________________________________________________________________________________\n",
      "concat_layer (Concatenate)      (None, None, 1000)   0           lstm_3[0][0]                     \n",
      "                                                                 attention_layer[0][0]            \n",
      "__________________________________________________________________________________________________\n",
      "time_distributed (TimeDistribut (None, None, 4079)   4083079     concat_layer[0][0]               \n",
      "==================================================================================================\n",
      "Total params: 23,167,079\n",
      "Trainable params: 23,167,079\n",
      "Non-trainable params: 0\n",
      "__________________________________________________________________________________________________\n"
     ]
    }
   ],
   "source": [
    "from keras import backend as K \n",
    "K.clear_session() \n",
    "latent_dim = 500 \n",
    "\n",
    "# Encoder \n",
    "encoder_inputs = Input(shape=(max_len_text,)) \n",
    "enc_emb = Embedding(x_voc_size, latent_dim,trainable=True)(encoder_inputs) \n",
    "\n",
    "#LSTM 1 \n",
    "encoder_lstm1 = LSTM(latent_dim,return_sequences=True,return_state=True) \n",
    "encoder_output1, state_h1, state_c1 = encoder_lstm1(enc_emb) \n",
    "\n",
    "#LSTM 2 \n",
    "encoder_lstm2 = LSTM(latent_dim,return_sequences=True,return_state=True) \n",
    "encoder_output2, state_h2, state_c2 = encoder_lstm2(encoder_output1) \n",
    "\n",
    "#LSTM 3 \n",
    "encoder_lstm3=LSTM(latent_dim, return_state=True, return_sequences=True) \n",
    "encoder_outputs, state_h, state_c= encoder_lstm3(encoder_output2) \n",
    "\n",
    "# Set up the decoder. \n",
    "decoder_inputs = Input(shape=(None,)) \n",
    "dec_emb_layer = Embedding(y_voc_size, latent_dim,trainable=True) \n",
    "dec_emb = dec_emb_layer(decoder_inputs) \n",
    "\n",
    "#LSTM using encoder_states as initial state\n",
    "decoder_lstm = LSTM(latent_dim, return_sequences=True, return_state=True) \n",
    "decoder_outputs,decoder_fwd_state, decoder_back_state = decoder_lstm(dec_emb,initial_state=[state_h, state_c]) \n",
    "\n",
    "#Attention Layer\n",
    "attn_layer = AttentionLayer(name='attention_layer') \n",
    "attn_out, attn_states = attn_layer([encoder_outputs, decoder_outputs]) \n",
    "\n",
    "# Concat attention output and decoder LSTM output \n",
    "decoder_concat_input = Concatenate(axis=-1, name='concat_layer')([decoder_outputs, attn_out])\n",
    "\n",
    "#Dense layer\n",
    "decoder_dense = TimeDistributed(Dense(y_voc_size, activation='softmax')) \n",
    "decoder_outputs = decoder_dense(decoder_concat_input) \n",
    "\n",
    "# Define the model\n",
    "model = Model([encoder_inputs, decoder_inputs], decoder_outputs) \n",
    "model.summary()"
   ]
  },
  {
   "cell_type": "code",
   "execution_count": 17,
   "metadata": {},
   "outputs": [
    {
     "name": "stdout",
     "output_type": "stream",
     "text": [
      "Epoch 1/5\n",
      "17/17 [==============================] - 299s 18s/step - loss: 3.5669 - val_loss: 2.3398\n",
      "Epoch 2/5\n",
      "17/17 [==============================] - 308s 18s/step - loss: 2.5066 - val_loss: 2.1513\n",
      "Epoch 3/5\n",
      "17/17 [==============================] - 307s 18s/step - loss: 2.3363 - val_loss: 2.0657\n",
      "Epoch 4/5\n",
      "17/17 [==============================] - 308s 18s/step - loss: 2.2758 - val_loss: 2.0557\n",
      "Epoch 5/5\n",
      "17/17 [==============================] - 308s 18s/step - loss: 2.2318 - val_loss: 2.0383\n"
     ]
    }
   ],
   "source": [
    "# Setting up and running the model\n",
    "model.compile(optimizer='rmsprop', loss='sparse_categorical_crossentropy')\n",
    "es = EarlyStopping(monitor='val_loss', mode='min', verbose=1)\n",
    "history=model.fit([x_tr,y_tr[:,:-1]], y_tr.reshape(y_tr.shape[0],y_tr.shape[1], 1)[:,1:] ,epochs=5,callbacks=[es],batch_size=512, validation_data=([x_val,y_val[:,:-1]], y_val.reshape(y_val.shape[0],y_val.shape[1], 1)[:,1:]))\n"
   ]
  },
  {
   "cell_type": "code",
   "execution_count": 18,
   "metadata": {},
   "outputs": [
    {
     "data": {
      "image/png": "[encoded data removed]",
      "text/plain": [
       "<Figure size 432x288 with 1 Axes>"
      ]
     },
     "metadata": {
      "needs_background": "light"
     },
     "output_type": "display_data"
    }
   ],
   "source": [
    "from matplotlib import pyplot \n",
    "pyplot.plot(history.history['loss'], label='train') \n",
    "pyplot.plot(history.history['val_loss'], label='test') \n",
    "pyplot.legend() \n",
    "pyplot.show()"
   ]
  },
  {
   "cell_type": "markdown",
   "metadata": {},
   "source": [
    "### Deconding results"
   ]
  },
  {
   "cell_type": "code",
   "execution_count": 19,
   "metadata": {},
   "outputs": [],
   "source": [
    "reverse_target_word_index=y_tokenizer.index_word \n",
    "reverse_source_word_index=x_tokenizer.index_word \n",
    "target_word_index=y_tokenizer.word_index"
   ]
  },
  {
   "cell_type": "code",
   "execution_count": 20,
   "metadata": {},
   "outputs": [
    {
     "name": "stdout",
     "output_type": "stream",
     "text": [
      "{'start': 1, 'end': 2, 'great': 3, 'good': 4, 'best': 5, 'coffee': 6, 'love': 7, 'product': 8, 'taste': 9, 'delicious': 10, 'tea': 11, 'flavor': 12, 'food': 13, 'excellent': 14, 'dog': 15, 'yummy': 16, 'tasty': 17, 'chips': 18, 'like': 19, 'price': 20, 'ever': 21, 'hot': 22, 'favorite': 23, 'chocolate': 24, 'stuff': 25, 'free': 26, 'better': 27, 'k': 28, 'healthy': 29, 'sweet': 30, 'perfect': 31, 'awesome': 32, 'loves': 33, 'cup': 34, 'snack': 35, 'nice': 36, 'really': 37, 'mix': 38, 'bad': 39, 'yum': 40, 'one': 41, 'quality': 42, 'tasting': 43, 'gluten': 44, 'cocoa': 45, 'wonderful': 46, 'tastes': 47, 'easy': 48, 'little': 49, 'cups': 50, 'cat': 51, 'much': 52, 'buy': 53, 'cats': 54, 'dogs': 55, 'organic': 56, 'drink': 57, 'ok': 58, 'treat': 59, 'baby': 60, 'sugar': 61, 'treats': 62, 'soda': 63, 'pretty': 64, 'alternative': 65, 'fresh': 66, 'way': 67, 'works': 68, 'amazing': 69, 'water': 70, 'value': 71, 'popcorn': 72, 'cookies': 73, 'low': 74, 'find': 75, 'sauce': 76, 'fantastic': 77, 'real': 78, 'decaf': 79, 'juice': 80, 'amazon': 81, 'use': 82, 'milk': 83, 'smooth': 84, 'beans': 85, 'hard': 86, 'gift': 87, 'makes': 88, 'expensive': 89, 'natural': 90, 'pop': 91, 'happy': 92, 'eat': 93, 'orange': 94, 'vanilla': 95, 'pancakes': 96, 'deal': 97, 'new': 98, 'get': 99, 'make': 100, 'energy': 101, 'go': 102, 'small': 103, 'nothing': 104, 'work': 105, 'gum': 106, 'disappointed': 107, 'breakfast': 108, 'right': 109, 'high': 110, 'salt': 111, 'money': 112, 'chip': 113, 'bit': 114, 'far': 115, 'service': 116, 'licorice': 117, 'bread': 118, 'cannot': 119, 'would': 120, 'coconut': 121, 'bisquick': 122, 'spicy': 123, 'okay': 124, 'decent': 125, 'seeds': 126, 'item': 127, 'strong': 128, 'wow': 129, 'popchips': 130, 'green': 131, 'made': 132, 'convenient': 133, 'baking': 134, 'variety': 135, 'without': 136, 'awful': 137, 'keurig': 138, 'refreshing': 139, 'candy': 140, 'white': 141, 'puck': 142, 'review': 143, 'rich': 144, 'fruit': 145, 'old': 146, 'worth': 147, 'well': 148, 'soup': 149, 'light': 150, 'could': 151, 'blend': 152, 'poor': 153, 'expected': 154, 'instant': 155, 'disposakups': 156, 'wolfgang': 157, 'calorie': 158, 'packaging': 159, 'shipping': 160, 'fun': 161, 'enough': 162, 'rice': 163, 'time': 164, 'potato': 165, 'tasted': 166, 'absolutely': 167, 'special': 168, 'never': 169, 'substitute': 170, 'roast': 171, 'quick': 172, 'switch': 173, 'jerky': 174, 'flavored': 175, 'worst': 176, 'choice': 177, 'still': 178, 'flavors': 179, 'loved': 180, 'oil': 181, 'super': 182, 'weak': 183, 'big': 184, 'kettle': 185, 'terrible': 186, 'got': 187, 'size': 188, 'bitter': 189, 'first': 190, 'wrong': 191, 'gf': 192, 'kids': 193, 'different': 194, 'order': 195, 'horrible': 196, 'diet': 197, 'corn': 198, 'salty': 199, 'powder': 200, 'bag': 201, 'dark': 202, 'stale': 203, 'almost': 204, 'disappointing': 205, 'whole': 206, 'mild': 207, 'found': 208, 'brand': 209, 'life': 210, 'vinegar': 211, 'french': 212, 'simply': 213, 'senseo': 214, 'fat': 215, 'pricey': 216, 'fast': 217, 'even': 218, 'goodness': 219, 'formula': 220, 'day': 221, 'crunchy': 222, 'surprisingly': 223, 'pods': 224, 'earth': 225, 'flavorful': 226, 'pancake': 227, 'chicken': 228, 'e': 229, 'regular': 230, 'beware': 231, 'cereal': 232, 'hazelnut': 233, 'fan': 234, 'nuts': 235, 'soy': 236, 'oz': 237, 'yuck': 238, 'grass': 239, 'honey': 240, 'butter': 241, 'picky': 242, 'cake': 243, 'idea': 244, 'disposable': 245, 'unique': 246, 'crackers': 247, 'n': 248, 'something': 249, 'soft': 250, 'store': 251, 'tangerine': 252, 'carbonated': 253, 'try': 254, 'name': 255, 'every': 256, 'nasty': 257, 'beef': 258, 'full': 259, 'family': 260, 'goat': 261, 'true': 262, 'brew': 263, 'canned': 264, 'calories': 265, 'lot': 266, 'pack': 267, 'miracle': 268, 'waste': 269, 'syrup': 270, 'tried': 271, 'spice': 272, 'thing': 273, 'ingredients': 274, 'addictive': 275, 'non': 276, 'red': 277, 'less': 278, 'dessert': 279, 'crunch': 280, 'likes': 281, 'pleased': 282, 'medium': 283, 'another': 284, 'cans': 285, 'beautiful': 286, 'customer': 287, 'cost': 288, 'bland': 289, 'lots': 290, 'snacks': 291, 'sticks': 292, 'used': 293, 'stars': 294, 'highly': 295, 'son': 296, 'cracker': 297, 'must': 298, 'oatmeal': 299, 'yet': 300, 'bought': 301, 'newman': 302, 'smell': 303, 'wish': 304, 'grove': 305, 'available': 306, 'back': 307, 'mini': 308, 'around': 309, 'cookie': 310, 'fabulous': 311, 'pasta': 312, 'needs': 313, 'aftertaste': 314, 'waffles': 315, 'overpriced': 316, 'totally': 317, 'crispy': 318, 'ordered': 319, 'sure': 320, 'bold': 321, 'oh': 322, 'dressing': 323, 'bed': 324, 'cheese': 325, 'always': 326, 'helps': 327, 'espresso': 328, 'please': 329, 'need': 330, 'priced': 331, 'clam': 332, 'finally': 333, 'bbq': 334, 'recommended': 335, 'fine': 336, 'think': 337, 'gravy': 338, 'want': 339, 'quite': 340, 'smells': 341, 'know': 342, 'ground': 343, 'texture': 344, 'two': 345, 'crazy': 346, 'worked': 347, 'muffins': 348, 'thin': 349, 'batch': 350, 'protein': 351, 'products': 352, 'lovers': 353, 'cute': 354, 'cheap': 355, 'packaged': 356, 'english': 357, 'disappointment': 358, 'health': 359, 'caramel': 360, 'lover': 361, 'many': 362, 'received': 363, 'dry': 364, 'bar': 365, 'exactly': 366, 'square': 367, 'say': 368, 'beverage': 369, 'reviews': 370, 'raw': 371, 'tangy': 372, 'plant': 373, 'peanut': 374, 'outstanding': 375, 'iced': 376, 'home': 377, 'things': 378, 'heaven': 379, 'black': 380, 'favorites': 381, 'artificial': 382, 'bars': 383, 'cheaper': 384, 'open': 385, 'mmm': 386, 'delight': 387, 'delish': 388, 'wild': 389, 'interesting': 390, 'delivery': 391, 'loose': 392, 'bags': 393, 'weight': 394, 'maybe': 395, 'slightly': 396, 'arrived': 397, 'hit': 398, 'house': 399, 'simple': 400, 'box': 401, 'bean': 402, 'contains': 403, 'meal': 404, 'aroma': 405, 'solution': 406, 'advertised': 407, 'mustard': 408, 'foods': 409, 'world': 410, 'last': 411, 'market': 412, 'cool': 413, 'thought': 414, 'seasoning': 415, 'chia': 416, 'inexpensive': 417, 'option': 418, 'summer': 419, 'premium': 420, 'though': 421, 'healthier': 422, 'satisfying': 423, 'eating': 424, 'mill': 425, 'leaf': 426, 'grow': 427, 'omg': 428, 'everything': 429, 'misleading': 430, 'gourmet': 431, 'add': 432, 'tart': 433, 'plain': 434, 'ounce': 435, 'cherry': 436, 'agree': 437, 'olive': 438, 'problems': 439, 'cold': 440, 'long': 441, 'em': 442, 'bite': 443, 'tofu': 444, 'chowder': 445, 'flour': 446, 'year': 447, 'kitty': 448, 'away': 449, 'aluminum': 450, 'brown': 451, 'difference': 452, 'salad': 453, 'purchase': 454, 'berry': 455, 'dairy': 456, 'tortilla': 457, 'waffle': 458, 'b': 459, 'dont': 460, 'awsome': 461, 'allergy': 462, 'date': 463, 'looking': 464, 'thai': 465, 'cooking': 466, 'buying': 467, 'surprise': 468, 'us': 469, 'broken': 470, 'lovely': 471, 'china': 472, 'beer': 473, 'oreo': 474, 'baked': 475, 'getting': 476, 'chili': 477, 'people': 478, 'onion': 479, 'edible': 480, 'rock': 481, 'sweetener': 482, 'pineapple': 483, 'greatest': 484, 'gave': 485, 'bpa': 486, 'company': 487, 'addicted': 488, 'sensitive': 489, 'u': 490, 'daughter': 491, 'effective': 492, 'crisps': 493, 'experience': 494, 'anywhere': 495, 'keeps': 496, 'miss': 497, 'top': 498, 'versatile': 499, 'thick': 500, 'looks': 501, 'stevia': 502, 'others': 503, 'watery': 504, 'wine': 505, 'saver': 506, 'everyone': 507, 'sour': 508, 'wanted': 509, 'average': 510, 'nutrition': 511, 'fruity': 512, 'extract': 513, 'mint': 514, 'dinner': 515, 'terrific': 516, 'making': 517, 'homemade': 518, 'key': 519, 'guilt': 520, 'creamy': 521, 'yes': 522, 'sunflower': 523, 'yuban': 524, 'scrumptious': 525, 'hate': 526, 'added': 527, 'boxes': 528, 'g': 529, 'star': 530, 'recipe': 531, 'smaller': 532, 'longer': 533, 'caribou': 534, 'pick': 535, 'damaged': 536, 'lamb': 537, 'days': 538, 'wheat': 539, 'filters': 540, 'jars': 541, 'keep': 542, 'r': 543, 'banana': 544, 'lids': 545, 'ice': 546, 'seems': 547, 'changed': 548, 'man': 549, 'version': 550, 'save': 551, 'allergies': 552, 'huge': 553, 'dr': 554, 'original': 555, 'authentic': 556, 'c': 557, 'earl': 558, 'grey': 559, 'safe': 560, 'false': 561, 'enjoy': 562, 'meh': 563, 'p': 564, 'ginger': 565, 'jelly': 566, 'belly': 567, 'sodium': 568, 'stores': 569, 'amazingly': 570, 'sooo': 571, 'close': 572, 'extremely': 573, 'pound': 574, 'sweetner': 575, 'toddler': 576, 'look': 577, 'coco': 578, 'w': 579, 'pumpkin': 580, 'basket': 581, 'lime': 582, 'hint': 583, 'acidic': 584, 'powdered': 585, 'dented': 586, 'almond': 587, 'biscuits': 588, 'weird': 589, 'fans': 590, 'feel': 591, 'boost': 592, 'machine': 593, 'liquor': 594, 'paris': 595, 'delivered': 596, 'base': 597, 'crisp': 598, 'described': 599, 'single': 600, 'give': 601, 'lacks': 602, 'custard': 603, 'beat': 604, 'brewers': 605, 'paste': 606, 'pizza': 607, 'plastic': 608, 'friend': 609, 'disapointed': 610, 'vegan': 611, 'thanks': 612, 'care': 613, 'runny': 614, 'grandpa': 615, 'po': 616, 'addicting': 617, 'selection': 618, 'chocolates': 619, 'winner': 620, 'salsa': 621, 'kind': 622, 'ones': 623, 'sick': 624, 'clean': 625, 'msg': 626, 'shipped': 627, 'sea': 628, 'mmmmm': 629, 'kona': 630, 'live': 631, 'nutritious': 632, 'panda': 633, 'lunch': 634, 'mic': 635, 'touch': 636, 'fragrant': 637, 'hands': 638, 'heavenly': 639, 'stash': 640, 'glad': 641, 'mixed': 642, 'tell': 643, 'pepper': 644, 'puppy': 645, 'help': 646, 'going': 647, 'warning': 648, 'mouth': 649, 'husband': 650, 'actually': 651, 'liked': 652, 'garlic': 653, 'disgusting': 654, 'surprised': 655, 'watch': 656, 'instead': 657, 'odd': 658, 'carb': 659, 'gone': 660, 'extra': 661, 'brands': 662, 'messy': 663, 'enjoyable': 664, 'jar': 665, 'babies': 666, 'eater': 667, 'j': 668, 'pieces': 669, 'vitamin': 670, 'twice': 671, 'recommend': 672, 'windows': 673, 'training': 674, 'dirty': 675, 'organics': 676, 'rocks': 677, 'line': 678, 'stomach': 679, 'handy': 680, 'else': 681, 'local': 682, 'tasteless': 683, 'bob': 684, 'tummy': 685, 'ate': 686, 'mushy': 687, 'packs': 688, 'impressed': 689, 'may': 690, 'happened': 691, 'solid': 692, 'barely': 693, 'morning': 694, 'replacement': 695, 'caution': 696, 'control': 697, 'moldy': 698, 'perfection': 699, 'side': 700, 'delightful': 701, 'mostly': 702, 'skittles': 703, 'creme': 704, 'online': 705, 'amish': 706, 'rating': 707, 'fizzy': 708, 'serve': 709, 'teeth': 710, 'oreos': 711, 'mellow': 712, 'everyday': 713, 'mediocre': 714, 'issues': 715, 'forever': 716, 'martini': 717, 'goes': 718, 'dishes': 719, 'paws': 720, 'italian': 721, 'liver': 722, 'dried': 723, 'four': 724, 'seed': 725, 'absolute': 726, 'rose': 727, 'coffees': 728, 'superb': 729, 'problem': 730, 'com': 731, 'gross': 732, 'nut': 733, 'change': 734, 'busy': 735, 'bone': 736, 'needed': 737, 'bother': 738, 'pops': 739, 'pearl': 740, 'teas': 741, 'either': 742, 'wife': 743, 'easily': 744, 'sinus': 745, 'sucralose': 746, 'amount': 747, 'rule': 748, 'oily': 749, 'bones': 750, 'sorry': 751, 'month': 752, 'party': 753, 'lemon': 754, 'herbal': 755, 'chews': 756, 'advertising': 757, 'jamaica': 758, 'picture': 759, 'kitchen': 760, 'anything': 761, 'bubble': 762, 'says': 763, 'balance': 764, 'leaves': 765, 'country': 766, 'anytime': 767, 'nearly': 768, 'definitely': 769, 'mahogany': 770, 'compared': 771, 'meat': 772, 'pleasing': 773, 'description': 774, 'curry': 775, 'cuppa': 776, 'thank': 777, 'ingredient': 778, 'thumbs': 779, 'belgian': 780, 'yuk': 781, 'starbucks': 782, 'pay': 783, 'nom': 784, 'potatoes': 785, 'body': 786, 'apple': 787, 'gummy': 788, 'bears': 789, 'come': 790, 'lives': 791, 'daily': 792, 'especially': 793, 'fave': 794, 'lollipops': 795, 'usa': 796, 'stopped': 797, 'tree': 798, 'sometimes': 799, 'tiny': 800, 'vita': 801, 'grocery': 802, 'eh': 803, 'nd': 804, 'five': 805, 'bacon': 806, 'saves': 807, 'cinnamon': 808, 'taffy': 809, 'icicle': 810, 'creamer': 811, 'using': 812, 'put': 813, 'together': 814, 'ghirardelli': 815, 'noodles': 816, 'mrs': 817, 'funny': 818, 'million': 819, 'cow': 820, 'meyenberg': 821, 'joe': 822, 'careful': 823, 'pure': 824, 'brownie': 825, 'ranch': 826, 'truly': 827, 'guess': 828, 'blood': 829, 'someone': 830, 'filling': 831, 'unusual': 832, 'peppermint': 833, 'drops': 834, 'threw': 835, 'wafers': 836, 'nature': 837, 'strips': 838, 'answer': 839, 'strange': 840, 'frosting': 841, 'mueslix': 842, 'pie': 843, 'mocha': 844, 'gotta': 845, 'columbian': 846, 'kcups': 847, 'dream': 848, 'spoiled': 849, 'harbor': 850, 'uncle': 851, 'fluffy': 852, 'done': 853, 'serving': 854, 'satisfied': 855, 'fructose': 856, 'part': 857, 'bubbly': 858, 'except': 859, 'cacao': 860, 'medicine': 861, 'allergic': 862, 'bird': 863, 'expired': 864, 'peppered': 865, 'form': 866, 'stop': 867, 'smokey': 868, 'fair': 869, 'planet': 870, 'least': 871, 'rip': 872, 'reminds': 873, 'de': 874, 'holiday': 875, 'slices': 876, 'bottle': 877, 'affordable': 878, 'package': 879, 'alive': 880, 'came': 881, 'zero': 882, 'gritty': 883, 'limited': 884, 'sodas': 885, 'watermelon': 886, 'pocky': 887, 'air': 888, 'working': 889, 'chewy': 890, 'chipotle': 891, 'gold': 892, 'ahmad': 893, 'hype': 894, 'decaff': 895, 'strawberry': 896, 'serious': 897, 'classic': 898, 'tender': 899, 'actual': 900, 'king': 901, 'elsewhere': 902, 'muffin': 903, 'choc': 904, 'peach': 905, 'fondarific': 906, 'power': 907, 'issue': 908, 'packed': 909, 'cook': 910, 'office': 911, 'bargain': 912, 'source': 913, 'highest': 914, 'kcup': 915, 'slight': 916, 'portable': 917, 'fried': 918, 'naturally': 919, 'snacking': 920, 'altoids': 921, 'mints': 922, 'word': 923, 'mberry': 924, 'cafe': 925, 'mr': 926, 'shelf': 927, 'buster': 928, 'enjoyed': 929, 'heat': 930, 'tang': 931, 'ugh': 932, 'v': 933, 'design': 934, 'mixes': 935, 'winter': 936, 'night': 937, 'cream': 938, 'iron': 939, 'pups': 940, 'hodgson': 941, 'condiment': 942, 'convenience': 943, 'wake': 944, 'oats': 945, 'lobster': 946, 'half': 947, 'mushrooms': 948, 'lol': 949, 'standard': 950, 'egg': 951, 'prefer': 952, 'granola': 953, 'dissapointed': 954, 'short': 955, 'spot': 956, 'chi': 957, 'plocky': 958, 'acid': 959, 'packets': 960, 'tablets': 961, 'cakes': 962, 'raspberry': 963, 'somewhat': 964, 'concept': 965, 'lemons': 966, 'finicky': 967, 'mmmm': 968, 'inconsistent': 969, 'sardines': 970, 'soothing': 971, 'tad': 972, 'pricy': 973, 'christmas': 974, 'boring': 975, 'stonewall': 976, 'rodeo': 977, 'drive': 978, 'gets': 979, 'stock': 980, 'vs': 981, 'mmmmmm': 982, 'balanced': 983, 'digestion': 984, 'caviar': 985, 'scratch': 986, 'set': 987, 'grain': 988, 'lightly': 989, 'agar': 990, 'newmans': 991, 'gives': 992, 'gas': 993, 'doggie': 994, 'count': 995, 'guests': 996, 'consistency': 997, 'erin': 998, 'toddlers': 999, 'describe': 1000, 'pre': 1001, 'take': 1002, 'pounds': 1003, 'city': 1004, 'terribly': 1005, 'arrival': 1006, 'pink': 1007, 'fav': 1008, 'easier': 1009, 'buffalo': 1010, 'deliver': 1011, 'america': 1012, 'filled': 1013, 'vidalia': 1014, 'dish': 1015, 'deliciously': 1016, 'sugars': 1017, 'latte': 1018, 'st': 1019, 'rate': 1020, 'dipping': 1021, 'community': 1022, 'monitor': 1023, 'action': 1024, 'pets': 1025, 'cough': 1026, 'shows': 1027, 'colic': 1028, 'also': 1029, 'lb': 1030, 'cal': 1031, 'harvest': 1032, 'eb': 1033, 'believe': 1034, 'locally': 1035, 'overall': 1036, 'pet': 1037, 'acquired': 1038, 'grammy': 1039, 'pot': 1040, 'risotto': 1041, 'strength': 1042, 'rave': 1043, 'vegetable': 1044, 'melitta': 1045, 'bitterness': 1046, 'similac': 1047, 'barbeque': 1048, 'definately': 1049, 'oils': 1050, 'inside': 1051, 'news': 1052, 'vomiting': 1053, 'plum': 1054, 'lifesaver': 1055, 'jack': 1056, 'usual': 1057, 'firm': 1058, 'maker': 1059, 'quickly': 1060, 'drinks': 1061, 'soo': 1062, 'sugary': 1063, 'subscription': 1064, 'tastey': 1065, 'chemicals': 1066, 'ramen': 1067, 'blueberries': 1068, 'soups': 1069, 'reasonably': 1070, 'place': 1071, 'ketchup': 1072, 'barbecue': 1073, 'mountain': 1074, 'delicate': 1075, 'crumbs': 1076, 'hooked': 1077, 'meats': 1078, 'pressure': 1079, 'overly': 1080, 'despite': 1081, 'aid': 1082, 'success': 1083, 'x': 1084, 'break': 1085, 'neat': 1086, 'brewer': 1087, 'relief': 1088, 'pod': 1089, 'offer': 1090, 'chemical': 1091, 'budget': 1092, 'exceptional': 1093, 'beats': 1094, 'shipment': 1095, 'juices': 1096, 'incredible': 1097, 'pleasant': 1098, 'drinkers': 1099, 'additive': 1100, 'sauces': 1101, 'check': 1102, 'marinade': 1103, 'drop': 1104, 'digestive': 1105, 'rather': 1106, 'twizzlers': 1107, 'anymore': 1108, 'larger': 1109, 'dop': 1110, 'major': 1111, 'breed': 1112, 'hand': 1113, 'oolong': 1114, 'yay': 1115, 'mother': 1116, 'late': 1117, 'peanuts': 1118, 'pictured': 1119, 'uses': 1120, 'american': 1121, 'diets': 1122, 'caveat': 1123, 'fondant': 1124, 'chew': 1125, 'island': 1126, 'starter': 1127, 'via': 1128, 'period': 1129, 'years': 1130, 'quantity': 1131, 'combination': 1132, 'carbonation': 1133, 'cheaply': 1134, 'superior': 1135, 'pudding': 1136, 'certified': 1137, 'mango': 1138, 'shot': 1139, 'senior': 1140, 'aromatic': 1141, 'bottles': 1142, 'wasa': 1143, 'indeed': 1144, 'comes': 1145, 'graham': 1146, 'effect': 1147, 'kick': 1148, 'unbelievable': 1149, 'rest': 1150, 'dipped': 1151, 'trans': 1152, 'escapes': 1153, 'purpose': 1154, 'job': 1155, 'called': 1156, 'brownies': 1157, 'pleasure': 1158, 'fly': 1159, 'pb': 1160, 'sandwich': 1161, 'poorly': 1162, 'sealed': 1163, 'doctor': 1164, 'nutty': 1165, 'hidden': 1166, 'hawaiian': 1167, 'sold': 1168, 'um': 1169, 'large': 1170, 'risk': 1171, 'asian': 1172, 'mary': 1173, 'avoid': 1174, 'vitakraft': 1175, 'constipation': 1176, 'smoked': 1177, 'crowd': 1178, 'fooled': 1179, 'reliable': 1180, 'sweetness': 1181, 'killed': 1182, 'expiration': 1183, 'warm': 1184, 'keebler': 1185, 'cheddar': 1186, 'slow': 1187, 'pretzel': 1188, 'impressive': 1189, 'clams': 1190, 'mine': 1191, 'call': 1192, 'nana': 1193, 'ummm': 1194, 'might': 1195, 'aware': 1196, 'kups': 1197, 'pretzels': 1198, 'grape': 1199, 'surprising': 1200, 'perfectly': 1201, 'weeks': 1202, 'reviewers': 1203, 'definite': 1204, 'golden': 1205, 'shells': 1206, 'leave': 1207, 'shop': 1208, 'list': 1209, 'yummmmm': 1210, 'unless': 1211, 'ol': 1212, 'packages': 1213, 'lost': 1214, 'habanero': 1215, 'robust': 1216, 'however': 1217, 'berries': 1218, 'garbage': 1219, 'omaha': 1220, 'koma': 1221, 'sugarless': 1222, 'higher': 1223, 'trip': 1224, 'friendly': 1225, 'greek': 1226, 'pleasantly': 1227, 'hopes': 1228, 'deceptive': 1229, 'venus': 1230, 'bright': 1231, 'ole': 1232, 'next': 1233, 'said': 1234, 'mate': 1235, 'near': 1236, 'ener': 1237, 'contain': 1238, 'seller': 1239, 'cigars': 1240, 'finish': 1241, 'darn': 1242, 'relaxing': 1243, 'hey': 1244, 'lite': 1245, 'molasses': 1246, 'yummo': 1247, 'case': 1248, 'yummm': 1249, 'colombian': 1250, 'approved': 1251, 'macaroni': 1252, 'assortment': 1253, 'mac': 1254, 'popular': 1255, 'pantry': 1256, 'plus': 1257, 'basic': 1258, 'cha': 1259, 'flat': 1260, 'wash': 1261, 'thats': 1262, 'staple': 1263, 'throw': 1264, 'truffle': 1265, 'defective': 1266, 'read': 1267, 'since': 1268, 'secret': 1269, 'h': 1270, 'rotten': 1271, 'snyder': 1272, 'hannah': 1273, 'tahini': 1274, 'tough': 1275, 'completely': 1276, 'hour': 1277, 'tuna': 1278, 'agave': 1279, 'nectar': 1280, 'difficult': 1281, 'wont': 1282, 'mistake': 1283, 'breath': 1284, 'soooo': 1285, 'color': 1286, 'jacks': 1287, 'mm': 1288, 'dieters': 1289, 'partially': 1290, 'hydrogenated': 1291, 'seriously': 1292, 'spices': 1293, 'naturals': 1294, 'walnut': 1295, 'tops': 1296, 'shots': 1297, 'kosher': 1298, 'see': 1299, 'diabetic': 1300, 'golf': 1301, 'tic': 1302, 'noodle': 1303, 'children': 1304, 'ordering': 1305, 'spiced': 1306, 'tested': 1307, 'yummers': 1308, 'adult': 1309, 'infant': 1310, 'beyond': 1311, 'paprika': 1312, 'results': 1313, 'traditional': 1314, 'dulce': 1315, 'leche': 1316, 'disposa': 1317, 'goats': 1318, 'caffeine': 1319, 'snob': 1320, 'sticky': 1321, 'greasy': 1322, 'im': 1323, 'delicioso': 1324, 'lays': 1325, 'eats': 1326, 'feed': 1327, 'childhood': 1328, 'glass': 1329, 'jarred': 1330, 'peas': 1331, 'ch': 1332, 'shake': 1333, 'bake': 1334, 'rishi': 1335, 'glorified': 1336, 'java': 1337, 'tip': 1338, 'cayenne': 1339, 'items': 1340, 'penny': 1341, 'gums': 1342, 'baker': 1343, 'experiment': 1344, 'brilliant': 1345, 'ounces': 1346, 'remembered': 1347, 'god': 1348, 'coriander': 1349, 'hawaii': 1350, 'swiss': 1351, 'usda': 1352, 'involved': 1353, 'tripping': 1354, 'tartlets': 1355, 'holy': 1356, 'felt': 1357, 'restaurant': 1358, 'refused': 1359, 'appealing': 1360, 'peace': 1361, 'prize': 1362, 'steam': 1363, 'dreams': 1364, 'nummy': 1365, 'jittery': 1366, 'powerful': 1367, 'fake': 1368, 'volume': 1369, 'adequate': 1370, 'horizon': 1371, 'cartons': 1372, 'stew': 1373, 'grows': 1374, 'sf': 1375, 'tortillas': 1376, 'human': 1377, 'knows': 1378, 'suprisingly': 1379, 'recording': 1380, 'missing': 1381, 'xylichew': 1382, 'spread': 1383, 'plug': 1384, 'play': 1385, 'theres': 1386, 'pc': 1387, 'beefeaters': 1388, 'lifestyle': 1389, 'remember': 1390, 'stix': 1391, 'past': 1392, 'combo': 1393, 'fragrance': 1394, 'min': 1395, 'identity': 1396, 'crisis': 1397, 'deception': 1398, 'wheats': 1399, 'moms': 1400, 'alright': 1401, 'jeremiah': 1402, 'zuke': 1403, 'turn': 1404, 'pesticide': 1405, 'rooibos': 1406, 'cento': 1407, 'san': 1408, 'kisses': 1409, 'died': 1410, 'freeze': 1411, 'seemed': 1412, 'bigger': 1413, 'flax': 1414, 'outthere': 1415, 'unremarkable': 1416, 'evening': 1417, 'england': 1418, 'splash': 1419, 'takes': 1420, 'pleases': 1421, 'economical': 1422, 'rays': 1423, 'ray': 1424, 'buyer': 1425, 'scam': 1426, 'woof': 1427, 'business': 1428, 'rancid': 1429, 'ages': 1430, 'vegetarians': 1431, 'addition': 1432, 'craving': 1433, 'ms': 1434, 'amazed': 1435, 'formulas': 1436, 'pioneer': 1437, 'purina': 1438, 'subscriber': 1439, 'nutritional': 1440, 'content': 1441, 'meaty': 1442, 'blueberry': 1443, 'brewed': 1444, 'tomatoes': 1445, 'melted': 1446, 'runts': 1447, 'carefully': 1448, 'meant': 1449, 'dane': 1450, 'thirst': 1451, 'jasmine': 1452, 'stephens': 1453, 'move': 1454, 'revolution': 1455, 'oyster': 1456, 'kavli': 1457, 'guy': 1458, 'bye': 1459, 'noisy': 1460, 'test': 1461, 'f': 1462, 'sleep': 1463, 'baxter': 1464, 'paper': 1465, 'pamela': 1466, 'healthful': 1467, 'raisins': 1468, 'kill': 1469, 'sports': 1470, 'imo': 1471, 'sell': 1472, 'l': 1473, 'crush': 1474, 'penta': 1475, 'paid': 1476, 'zesty': 1477, 'tight': 1478, 'containers': 1479, 'correct': 1480, 'grind': 1481, 'crab': 1482, 'hates': 1483, 'enriched': 1484, 'guilty': 1485, 'dinners': 1486, 'solved': 1487, 'straight': 1488, 'eaten': 1489, 'taters': 1490, 'roasted': 1491, 'puppies': 1492, 'spray': 1493, 'chocolatey': 1494, 'dissappointed': 1495, 'magical': 1496, 'carry': 1497, 'rescue': 1498, 'heavy': 1499, 'liquid': 1500, 'ass': 1501, 'kickin': 1502, 'sons': 1503, 'fussy': 1504, 'wanna': 1505, 'extreme': 1506, 'adorable': 1507, 'presentation': 1508, 'none': 1509, 'cut': 1510, 'users': 1511, 'indigestion': 1512, 'layer': 1513, 'contents': 1514, 'note': 1515, 'processed': 1516, 'grainy': 1517, 'benefit': 1518, 'acceptable': 1519, 'increased': 1520, 'gatorade': 1521, 'discovery': 1522, 'colors': 1523, 'intense': 1524, 'excellant': 1525, 'whey': 1526, 'bites': 1527, 'nutrient': 1528, 'preserves': 1529, 'jerkey': 1530, 'carries': 1531, 'excelent': 1532, 'candies': 1533, 'dough': 1534, 'earthy': 1535, 'mainly': 1536, 'exciting': 1537, 'pinch': 1538, 'versus': 1539, 'woeber': 1540, 'onions': 1541, 'dirt': 1542, 'puts': 1543, 'india': 1544, 'concentrated': 1545, 'worse': 1546, 'delighted': 1547, 'show': 1548, 'otherwise': 1549, 'decaffeinated': 1550, 'pringles': 1551, 'tins': 1552, 'blah': 1553, 'hoped': 1554, 'dad': 1555, 'shredded': 1556, 'point': 1557, 'ww': 1558, 'general': 1559, 'normal': 1560, 'trap': 1561, 'skip': 1562, 'mean': 1563, 'reason': 1564, 'happier': 1565, 'rub': 1566, 'doubt': 1567, 'mccormick': 1568, 'feline': 1569, 'stains': 1570, 'eaters': 1571, 'expect': 1572, 'improved': 1573, 'bloody': 1574, 'juicy': 1575, 'cents': 1576, 'inedible': 1577, 'condition': 1578, 'neither': 1579, 'words': 1580, 'confused': 1581, 'kitties': 1582, 'pg': 1583, 'tips': 1584, 'fix': 1585, 'usb': 1586, 'sound': 1587, 'setup': 1588, 'os': 1589, 'attention': 1590, 'bang': 1591, 'jell': 1592, 'satay': 1593, 'charges': 1594, 'excessive': 1595, 'aunt': 1596, 'garbanzo': 1597, 'madagascar': 1598, 'bedtime': 1599, 'car': 1600, 'sickness': 1601, 'stick': 1602, 'category': 1603, 'stay': 1604, 'wintergreen': 1605, 'citrus': 1606, 'music': 1607, 'palate': 1608, 'paradise': 1609, 'chopped': 1610, 'gmo': 1611, 'slice': 1612, 'om': 1613, 'trouble': 1614, 'giving': 1615, 'concentrate': 1616, 'steak': 1617, 'experimental': 1618, 'intolerance': 1619, 'carob': 1620, 'doggy': 1621, 'pricing': 1622, 'nespresso': 1623, 'child': 1624, 'insane': 1625, 'bummer': 1626, 'flavour': 1627, 'stir': 1628, 'barley': 1629, 'happen': 1630, 'oranges': 1631, 'godsend': 1632, 'infants': 1633, 'patty': 1634, 'hartz': 1635, 'yep': 1636, 'grounds': 1637, 'holder': 1638, 'reasonable': 1639, 'biscotti': 1640, 'pug': 1641, 'eukanuba': 1642, 'coating': 1643, 'wait': 1644, 'bakery': 1645, 'davidson': 1646, 'munchies': 1647, 'options': 1648, 'bits': 1649, 'refined': 1650, 'possibly': 1651, 'tassimo': 1652, 'educational': 1653, 'junk': 1654, 'preserve': 1655, 'extraordinary': 1656, 'mess': 1657, 'sufferer': 1658, 'ripoff': 1659, 'bucks': 1660, 'cravings': 1661, 'pill': 1662, 'basically': 1663, 'supplement': 1664, 'plenty': 1665, 'sooner': 1666, 'vegetables': 1667, 'gummi': 1668, 'considering': 1669, 'grapefruit': 1670, 'sweeter': 1671, 'refreshingly': 1672, 'recipes': 1673, 'incorrect': 1674, 'biscuit': 1675, 'worries': 1676, 'shocked': 1677, 'mae': 1678, 'ploy': 1679, 'hours': 1680, 'ridiculously': 1681, 'delicous': 1682, 'able': 1683, 'celiac': 1684, 'gag': 1685, 'twinings': 1686, 'moist': 1687, 'lip': 1688, 'trying': 1689, 'hfcs': 1690, 'reviewer': 1691, 'medicinal': 1692, 'gods': 1693, 'fortune': 1694, 'among': 1695, 'flytrap': 1696, 'chiclets': 1697, 'memories': 1698, 'deserves': 1699, 'thomy': 1700, 'alert': 1701, 'oooh': 1702, 'cajun': 1703, 'bubbles': 1704, 'anyone': 1705, 'vendor': 1706, 'smalls': 1707, 'birthday': 1708, 'wary': 1709, 'impossible': 1710, 'skinny': 1711, 'fyi': 1712, 'addiction': 1713, 'drinking': 1714, 'maple': 1715, 'supposed': 1716, 'become': 1717, 'chippoisseur': 1718, 'kit': 1719, 'brittle': 1720, 'thoughts': 1721, 'imitation': 1722, 'sorrento': 1723, 'lazzaroni': 1724, 'celebration': 1725, 'hibiscus': 1726, 'pat': 1727, 'microwave': 1728, 'popper': 1729, 'hull': 1730, 'outrageous': 1731, 'chef': 1732, 'unimpressed': 1733, 'second': 1734, 'pumkin': 1735, 'strongly': 1736, 'seasoned': 1737, 'farts': 1738, 'babka': 1739, 'cobbler': 1740, 'swedish': 1741, 'term': 1742, 'grains': 1743, 'sampler': 1744, 'hope': 1745, 'sized': 1746, 'satisfy': 1747, 'gerber': 1748, 'york': 1749, 'normally': 1750, 'earths': 1751, 'benefits': 1752, 'iffy': 1753, 'olives': 1754, 'directions': 1755, 'snappy': 1756, 'adults': 1757, 'trips': 1758, 'positive': 1759, 'tired': 1760, 'horrid': 1761, 'lavazza': 1762, 'mona': 1763, 'lisa': 1764, 'hemp': 1765, 'blue': 1766, 'style': 1767, 'seasonings': 1768, 'costco': 1769, 'kept': 1770, 'adds': 1771, 'mmmmmmmm': 1772, 'loss': 1773, 'stephen': 1774, 'rules': 1775, 'dents': 1776, 'anti': 1777, 'hmmm': 1778, 'flavoring': 1779, 'roasts': 1780, 'yogurt': 1781, 'uh': 1782, 'pickled': 1783, 'sausage': 1784, 'jr': 1785, 'rolls': 1786, 'azing': 1787, 'miraculous': 1788, 'filter': 1789, 'southwest': 1790, 'bank': 1791, 'friends': 1792, 'sumatra': 1793, 'kopi': 1794, 'perhaps': 1795, 'means': 1796, 'silken': 1797, 'mom': 1798, 'specialty': 1799, 'head': 1800, 'muddy': 1801, 'travel': 1802, 'soooooo': 1803, 'sausages': 1804, 'pub': 1805, 'italy': 1806, 'disposacups': 1807, 'spring': 1808, 'causes': 1809, 'poo': 1810, 'disposakup': 1811, 'pain': 1812, 'ton': 1813, 'royal': 1814, 'canin': 1815, 'matches': 1816, 'spritzer': 1817, 'fresca': 1818, 'trade': 1819, 'pastry': 1820, 'standards': 1821, 'club': 1822, 'deliciousness': 1823, 'izze': 1824, 'jalapeno': 1825, 'boy': 1826, 'multi': 1827, 'roses': 1828, 'shape': 1829, 'melt': 1830, 'cane': 1831, 'usually': 1832, 'saved': 1833, 'starch': 1834, 'wolfgand': 1835, 'brewing': 1836, 'ear': 1837, 'metallic': 1838, 'consistently': 1839, 'bring': 1840, 'purist': 1841, 'truffles': 1842, 'months': 1843, 'sparkling': 1844, 'harmony': 1845, 'vegetarian': 1846, 'carrying': 1847, 'keeping': 1848, 'feeding': 1849, 'school': 1850, 'lunches': 1851, 'skin': 1852, 'vomit': 1853, 'waiting': 1854, 'convienent': 1855, 'schnauzer': 1856, 'fiber': 1857, 'bills': 1858, 'lbs': 1859, 'la': 1860, 'forget': 1861, 'sooooo': 1862, 'veggie': 1863, 'clumpy': 1864, 'shortbread': 1865, 'bomb': 1866, 'overpowering': 1867, 'apriva': 1868, 'gravel': 1869, 'units': 1870, 'promised': 1871, 'empty': 1872, 'yucky': 1873, 'century': 1874, 'tradition': 1875, 'fizz': 1876, 'furniture': 1877, 'polish': 1878, 'tac': 1879, 'timely': 1880, 'harsh': 1881, 'fl': 1882, 'torn': 1883, 'ham': 1884, 'supermarket': 1885, 'salts': 1886, 'punch': 1887, 'celiacs': 1888, 'poop': 1889, 'seaweed': 1890, 'bliss': 1891, 'ripped': 1892, 'safety': 1893, 'tooth': 1894, 'sad': 1895, 'twists': 1896, 'listed': 1897, 'dental': 1898, 'thyme': 1899, 'japanese': 1900, 'jiffy': 1901, 'intolerant': 1902, 'prices': 1903, 'scored': 1904, 'lasting': 1905, 'gain': 1906, 'hits': 1907, 'doubled': 1908, 'photo': 1909, 'kernels': 1910, 'refreshment': 1911, 'bodied': 1912, 'trail': 1913, 'meals': 1914, 'hanover': 1915, 'smokies': 1916, 'ahoy': 1917, 'stuffed': 1918, 'senses': 1919, 'choco': 1920, 'container': 1921, 'gevalia': 1922, 'nite': 1923, 'bully': 1924, 'offering': 1925, 'heart': 1926, 'german': 1927, 'shepherd': 1928, 'cheesecake': 1929, 'returning': 1930, 'kernals': 1931, 'umm': 1932, 'covered': 1933, 'went': 1934, 'stride': 1935, 'tub': 1936, 'improving': 1937, 'google': 1938, 'reports': 1939, 'suspected': 1940, 'poisoning': 1941, 'jgk': 1942, 'transformed': 1943, 'wafer': 1944, 'spicey': 1945, 'successful': 1946, 'mc': 1947, 'cormicks': 1948, 'alfredo': 1949, 'signature': 1950, 'slurp': 1951, 'weigh': 1952, 'fluid': 1953, 'places': 1954, 'newsflash': 1955, 'kobe': 1956, 'jamaca': 1957, 'expecting': 1958, 'reconsider': 1959, 'entire': 1960, 'chalet': 1961, 'bailey': 1962, 'lemonylicious': 1963, 'preferred': 1964, 'guys': 1965, 'elegant': 1966, 'moly': 1967, 'isnt': 1968, 'thief': 1969, 'football': 1970, 'habla': 1971, 'espanol': 1972, 'nobel': 1973, 'smithinsight': 1974, 'mouse': 1975, 'tantalizing': 1976, 'scattered': 1977, 'distribution': 1978, 'ghiardelli': 1979, 'palatable': 1980, 'cause': 1981, 'clogged': 1982, 'decaaff': 1983, 'aseptic': 1984, 'proper': 1985, 'taco': 1986, 'bringing': 1987, 'cows': 1988, 'minority': 1989, 'stepens': 1990, 'candycane': 1991, 'oat': 1992, 'bistro': 1993, 'fazer': 1994, 'charred': 1995, 'lowers': 1996, 'cinn': 1997, 'tst': 1998, 'women': 1999, 'project': 2000, 'trusted': 2001, 'merits': 2002, 'galaxymoney': 2003, 'chain': 2004, 'ehhh': 2005, 'ideas': 2006, 'floral': 2007, 'latency': 2008, 'guiltless': 2009, 'delisious': 2010, 'wherever': 2011, 'type': 2012, 'swizzles': 2013, 'tripe': 2014, 'inch': 2015, 'pixy': 2016, 'tunnel': 2017, 'follow': 2018, 'sublime': 2019, 'pin': 2020, 'skeptical': 2021, 'sunchang': 2022, 'gochujang': 2023, 'cornflour': 2024, 'regualr': 2025, 'jo': 2026, 'cramping': 2027, 'jules': 2028, 'pulp': 2029, 'fiction': 2030, 'margherita': 2031, 'smoky': 2032, 'yowzah': 2033, 'chemo': 2034, 'patient': 2035, 'language': 2036, 'barrier': 2037, 'ricore': 2038, 'perversion': 2039, 'undrinkable': 2040, 'kuhflecken': 2041, 'nose': 2042, 'uuuuum': 2043, 'knees': 2044, 'expires': 2045, 'soon': 2046, 'piggie': 2047, 'skins': 2048, 'marzano': 2049, 'verge': 2050, 'three': 2051, 'receiving': 2052, 'grandson': 2053, 'flamingo': 2054, 'timey': 2055, 'casual': 2056, 'crappy': 2057, 'grew': 2058, 'commercial': 2059, 'originals': 2060, 'greenbox': 2061, 'customers': 2062, 'cashew': 2063, 'mainstream': 2064, 'solves': 2065, 'within': 2066, 'based': 2067, 'yummie': 2068, 'deeelicious': 2069, 'fallin': 2070, 'apart': 2071, 'corroded': 2072, 'west': 2073, 'hella': 2074, 'buffet': 2075, 'trashcan': 2076, 'shell': 2077, 'jitters': 2078, 'smokin': 2079, 'scottie': 2080, 'drain': 2081, 'goji': 2082, 'maca': 2083, 'instruction': 2084, 'translation': 2085, 'solvers': 2086, 'acne': 2087, 'tiniest': 2088, 'plan': 2089, 'sharing': 2090, 'number': 2091, 'eggcellent': 2092, 'supplemental': 2093, 'correction': 2094, 'satisfies': 2095, 'cry': 2096, 'tears': 2097, 'addicitive': 2098, 'sugarfree': 2099, 'ahhhh': 2100, 'salsas': 2101, 'iodine': 2102, 'valentine': 2103, 'teabags': 2104, 'gagging': 2105, 'wet': 2106, 'disguising': 2107, 'dutch': 2108, 'herr': 2109, 'lethal': 2110, 'weighs': 2111, 'label': 2112, 'sharp': 2113, 'object': 2114, 'defend': 2115, 'self': 2116, 'da': 2117, 'vinci': 2118, 'lid': 2119, 'twins': 2120, 'basics': 2121, 'twist': 2122, 'modern': 2123, 'fanastic': 2124, 'match': 2125, 'francisco': 2126, 'bay': 2127, 'subsitute': 2128, 'door': 2129, 'adding': 2130, 'mellowed': 2131, 'quenching': 2132, 'specks': 2133, 'initially': 2134, 'peet': 2135, 'dominant': 2136, 'personally': 2137, 'es': 2138, 'muy': 2139, 'buena': 2140, 'para': 2141, 'bebes': 2142, 'con': 2143, 'problemas': 2144, 'alergias': 2145, 'alimenticias': 2146, 'teaching': 2147, 'quencher': 2148, 'questionable': 2149, 'outta': 2150, 'holistic': 2151, 'select': 2152, 'crumbly': 2153, 'aguas': 2154, 'frescas': 2155, 'greenie': 2156, 'brachs': 2157, 'manderin': 2158, 'rocket': 2159, 'lucini': 2160, 'thumb': 2161, 'rated': 2162, 'frozen': 2163, 'unnatural': 2164, 'schmaffles': 2165, 'blind': 2166, 'wrappers': 2167, 'bulk': 2168, 'sweeteners': 2169, 'restaurants': 2170, 'worry': 2171, 'ladies': 2172, 'dances': 2173, 'spirit': 2174, 'aloha': 2175, 'scared': 2176, 'sophia': 2177, 'diarhea': 2178, 'cozy': 2179, 'listened': 2180, 'cliff': 2181, 'recovery': 2182, 'enjoys': 2183, 'patchi': 2184, 'alcohol': 2185, 'hear': 2186, 'grandma': 2187, 'shopper': 2188, 'oprah': 2189, 'chaser': 2190, 'fleshed': 2191, 'filler': 2192, 'smooooth': 2193, 'wheaten': 2194, 'terrier': 2195, 'tummies': 2196, 'twin': 2197, 'niece': 2198, 'nephew': 2199, 'shower': 2200, 'favor': 2201, 'website': 2202, 'eastern': 2203, 'spearmint': 2204, 'modulated': 2205, 'substantial': 2206, 'potion': 2207, 'measured': 2208, 'storage': 2209, 'figured': 2210, 'eliminate': 2211, 'fibergourmet': 2212, 'penne': 2213, 'competitor': 2214, 'unbeleivable': 2215, 'feeling': 2216, 'bugs': 2217, 'accurate': 2218, 'kebob': 2219, 'ew': 2220, 'gaain': 2221, 'twenty': 2222, 'whatsoever': 2223, 'horribly': 2224, 'heinz': 2225, 'utterly': 2226, 'reviewing': 2227, 'mistakes': 2228, 'safeway': 2229, 'carried': 2230, 'weve': 2231, 'sooooooooooo': 2232, 'imperial': 2233, 'chunky': 2234, 'corral': 2235, 'horse': 2236, 'additional': 2237, 'electric': 2238, 'tape': 2239, 'kittens': 2240, 'ibd': 2241, 'beautifuly': 2242, 'citrusy': 2243, 'menu': 2244, 'reusable': 2245, 'mashed': 2246, 'claims': 2247, 'person': 2248, 'countries': 2249, 'cadbury': 2250, 'pup': 2251, 'hc': 2252, 'lethargic': 2253, 'storm': 2254, 'sass': 2255, 'hulless': 2256, 'ick': 2257, 'cleansing': 2258, 'cloying': 2259, 'funky': 2260, 'canidae': 2261, 'possible': 2262, 'rawhides': 2263, 'scores': 2264, 'risks': 2265, 'comsumers': 2266, 'slim': 2267, 'jim': 2268, 'indonesia': 2269, 'loooooooove': 2270, 'law': 2271, 'graces': 2272, 'un': 2273, 'pschologically': 2274, 'franch': 2275, 'cherrybrook': 2276, 'petite': 2277, 'fabuloous': 2278, 'bladder': 2279, 'cysts': 2280, 'deeeeelicious': 2281, 'blows': 2282, 'majorly': 2283, 'matcha': 2284, 'olate': 2285, 'chest': 2286, 'blow': 2287, 'marry': 2288, 'breezy': 2289, 'crunchiness': 2290, 'moisture': 2291, 'gaaak': 2292, 'choked': 2293, 'crushed': 2294, 'restricted': 2295, 'reflect': 2296, 'mccanns': 2297, 'steel': 2298, 'patience': 2299, 'emptor': 2300, 'dropped': 2301, 'plane': 2302, 'buttercream': 2303, 'hater': 2304, 'proportions': 2305, 'triscuits': 2306, 'deadly': 2307, 'south': 2308, 'enfamil': 2309, 'pk': 2310, 'js': 2311, 'alcoholic': 2312, 'yumminess': 2313, 'wolfgan': 2314, 'bottled': 2315, 'determine': 2316, 'ive': 2317, 'itching': 2318, 'adzuki': 2319, 'mxl': 2320, 'micmate': 2321, 'happiness': 2322, 'deep': 2323, 'hill': 2324, 'painful': 2325, 'al': 2326, 'agricultural': 2327, 'practices': 2328, 'satisfactory': 2329, 'wide': 2330, 'choices': 2331, 'tiki': 2332, 'mays': 2333, 'truely': 2334, 'andrew': 2335, 'weil': 2336, 'recommends': 2337, 'stimulate': 2338, 'flow': 2339, 'allergen': 2340, 'condensor': 2341, 'citizens': 2342, 'fro': 2343, 'camper': 2344, 'tv': 2345, 'bissinger': 2346, 'opening': 2347, 'sees': 2348, 'barbeques': 2349, 'macchiatos': 2350, 'disfigured': 2351, 'unusable': 2352, 'napoletana': 2353, 'mangia': 2354, 'ultra': 2355, 'hail': 2356, 'israelis': 2357, 'popocorn': 2358, 'intro': 2359, 'spherification': 2360, 'seem': 2361, 'carrots': 2362, 'turned': 2363, 'taro': 2364, 'slimy': 2365, 'def': 2366, 'known': 2367, 'fisher': 2368, 'pecan': 2369, 'wolf': 2370, 'gang': 2371, 'sleeper': 2372, 'supreme': 2373, 'gram': 2374, 'apparently': 2375, 'chalk': 2376, 'chalkolate': 2377, 'wu': 2378, 'yi': 2379, 'ehh': 2380, 'rejoice': 2381, 'ye': 2382, 'texans': 2383, 'southerners': 2384, 'uk': 2385, 'natures': 2386, 'logic': 2387, 'venisen': 2388, 'consumer': 2389, 'laser': 2390, 'awesomness': 2391, 'pruduct': 2392, 'stupid': 2393, 'poured': 2394, 'turkey': 2395, 'leads': 2396, 'mmmmmmmmm': 2397, 'cornmeal': 2398, 'grand': 2399, 'cross': 2400, 'bonus': 2401, 'complain': 2402, 'hamburger': 2403, 'eleteamazon': 2404, 'pwdr': 2405, 'cranberries': 2406, 'butters': 2407, 'salmon': 2408, 'purchaser': 2409, 'booster': 2410, 'talked': 2411, 'gal': 2412, 'amout': 2413, 'pomeranian': 2414, 'dash': 2415, 'amedei': 2416, 'melts': 2417, 'uneatable': 2418, 'tulsi': 2419, 'minor': 2420, 'flaws': 2421, 'vinegary': 2422, 'scoffee': 2423, 'buzz': 2424, 'famous': 2425, 'mmmmmmmmmmmmmmmmmmmmmmm': 2426, 'site': 2427, 'sources': 2428, 'shaped': 2429, 'informed': 2430, 'largest': 2431, 'ingrident': 2432, 'revolting': 2433, 'ii': 2434, 'burggirl': 2435, 'sorta': 2436, 'buzzzzzzzzzz': 2437, 'butlers': 2438, 'nutrisentials': 2439, 'lean': 2440, 'decorative': 2441, 'vomits': 2442, 'dandy': 2443, 'warms': 2444, 'soul': 2445, 'shattering': 2446, 'flatter': 2447, 'timothy': 2448, 'dest': 2449, 'level': 2450, 'rumford': 2451, 'double': 2452, 'lugubrious': 2453, 'mcclures': 2454, 'weightwatchers': 2455, 'popcorrn': 2456, 'seloler': 2457, 'chocolately': 2458, 'occassions': 2459, 'per': 2460, 'classy': 2461, 'orbit': 2462, 'weekend': 2463, 'mucus': 2464, 'drainage': 2465, 'sharkies': 2466, 'peaches': 2467, 'imported': 2468, 'hong': 2469, 'kong': 2470, 'intolerable': 2471, 'upon': 2472, 'hickory': 2473, 'families': 2474, 'pleaser': 2475, 'nunaturals': 2476, 'nustevia': 2477, 'chai': 2478, 'cholesterol': 2479, 'fail': 2480, 'problematic': 2481, 'feeder': 2482, 'burnt': 2483, 'toast': 2484, 'xlr': 2485, 'interfaces': 2486, 'helpful': 2487, 'grainfree': 2488, 'liquibuy': 2489, 'create': 2490, 'exquisite': 2491, 'decorations': 2492, 'warmth': 2493, 'dunkin': 2494, 'donuts': 2495, 'cooper': 2496, 'lager': 2497, 'soso': 2498, 'helped': 2499, 'route': 2500, 'compatible': 2501, 'delightfully': 2502, 'gussies': 2503, 'highfat': 2504, 'millet': 2505, 'chocolaty': 2506, 'tijuana': 2507, 'flats': 2508, 'lowered': 2509, 'smelling': 2510, 'bourbon': 2511, 'geliva': 2512, 'motion': 2513, 'village': 2514, 'basmati': 2515, 'marathon': 2516, 'shining': 2517, 'kikkoman': 2518, 'antimo': 2519, 'capputo': 2520, 'matinis': 2521, 'looseleaf': 2522, 'alison': 2523, 'elves': 2524, 'dijon': 2525, 'ny': 2526, 'schrumshist': 2527, 'yah': 2528, 'page': 2529, 'shrunk': 2530, 'took': 2531, 'sweeatners': 2532, 'dead': 2533, 'entree': 2534, 'unpopular': 2535, 'happens': 2536, 'kentucky': 2537, 'sickening': 2538, 'attack': 2539, 'equals': 2540, 'dare': 2541, 'verona': 2542, 'beaufort': 2543, 'decaffeninated': 2544, 'costly': 2545, 'prepare': 2546, 'faygo': 2547, 'pressed': 2548, 'varieties': 2549, 'shure': 2550, 'sm': 2551, 'lacking': 2552, 'happymorning': 2553, 'smoothest': 2554, 'coofee': 2555, 'david': 2556, 'thinking': 2557, 'trial': 2558, 'error': 2559, 'eden': 2560, 'useful': 2561, 'lactose': 2562, 'dandelion': 2563, 'closer': 2564, 'toasty': 2565, 'grandkids': 2566, 'differently': 2567, 'whee': 2568, 'settle': 2569, 'nonthing': 2570, 'deadheads': 2571, 'attacks': 2572, 'particular': 2573, 'table': 2574, 'slipped': 2575, 'award': 2576, 'winning': 2577, 'mmmmmmm': 2578, 'fruitcake': 2579, 'june': 2580, 'champions': 2581, 'exalant': 2582, 'blech': 2583, 'liking': 2584, 'sense': 2585, 'sensation': 2586, 'rudolph': 2587, 'gingerbread': 2588, 'trees': 2589, 'doubtful': 2590, 'whiskers': 2591, 'boulder': 2592, 'malt': 2593, 'heidi': 2594, 'run': 2595, 'diabetics': 2596, 'lows': 2597, 'wp': 2598, 'dine': 2599, 'rawhide': 2600, 'rolled': 2601, 'spews': 2602, 'rode': 2603, 'jamaican': 2604, 'lacey': 2605, 'dorkie': 2606, 'shockingly': 2607, 'prone': 2608, 'resist': 2609, 'pugs': 2610, 'fulfillment': 2611, 'powdery': 2612, 'overdone': 2613, 'aw': 2614, 'ins': 2615, 'popping': 2616, 'manga': 2617, 'till': 2618, 'fall': 2619, 'easter': 2620, 'quaker': 2621, 'darjeeling': 2622, 'madhouse': 2623, 'halal': 2624, 'colcafe': 2625, 'greaatt': 2626, 'wired': 2627, 'skeptic': 2628, 'ignored': 2629, 'mixer': 2630, 'quanty': 2631, 'tropicana': 2632, 'holes': 2633, 'bolder': 2634, 'perplexed': 2635, 'nobody': 2636, 'rosey': 2637, 'oatcakes': 2638, 'wimps': 2639, 'innocence': 2640, 'ddjj': 2641, 'hisbiscus': 2642, 'vallys': 2643, 'thins': 2644, 'lack': 2645, 'coffeemaker': 2646, 'essentials': 2647, 'fantastically': 2648, 'doodle': 2649, 'ferret': 2650, 'thus': 2651, 'capsules': 2652, 'gusta': 2653, 'guayusa': 2654, 'sunbutter': 2655, 'ic': 2656, 'monopoly': 2657, 'told': 2658, 'merchandise': 2659, 'reduced': 2660, 'spit': 2661, 'duncan': 2662, 'hines': 2663, 'penguin': 2664, 'pooper': 2665, 'discouraged': 2666, 'thirty': 2667, 'wallpaper': 2668, 'aspetic': 2669, 'rat': 2670, 'terriers': 2671, 'queen': 2672, 'gravies': 2673, 'flintstone': 2674, 'anticipated': 2675, 'az': 2676, 'notice': 2677, 'lower': 2678, 'er': 2679, 'carbers': 2680, 'fridge': 2681, 'chomping': 2682, 'batman': 2683, 'coma': 2684, 'lumps': 2685, 'stronger': 2686, 'blowing': 2687, 'reeks': 2688, 'lighter': 2689, 'nowadays': 2690, 'mexico': 2691, 'mid': 2692, 'retail': 2693, 'cautious': 2694, 'resealable': 2695, 'ounc': 2696, 'catfish': 2697, 'confirmed': 2698, 'laxative': 2699, 'sells': 2700, 'talent': 2701, 'roy': 2702, 'columbia': 2703, 'ct': 2704, 'acai': 2705, 'brainer': 2706, 'goooood': 2707, 'altering': 2708, 'wonderfully': 2709, 'jello': 2710, 'absotively': 2711, 'posilutely': 2712, 'ummmm': 2713, 'losing': 2714, 'tamer': 2715, 'stated': 2716, 'smackin': 2717, 'flavorice': 2718, 'yea': 2719, 'wilted': 2720, 'zing': 2721, 'previous': 2722, 'reflux': 2723, 'bucket': 2724, 'angel': 2725, 'puffs': 2726, 'stocking': 2727, 'adaptor': 2728, 'computer': 2729, 'pico': 2730, 'pica': 2731, 'wrapped': 2732, 'securely': 2733, 'produced': 2734, 'chile': 2735, 'medaglia': 2736, 'oro': 2737, 'richest': 2738, 'muesli': 2739, 'bees': 2740, 'jz': 2741, 'fond': 2742, 'fudge': 2743, 'running': 2744, 'batter': 2745, 'scharfer': 2746, 'senf': 2747, 'repeated': 2748, 'deliveries': 2749, 'college': 2750, 'student': 2751, 'biryani': 2752, 'graet': 2753, 'share': 2754, 'tomalley': 2755, 'thinks': 2756, 'carbon': 2757, 'footprint': 2758, 'similar': 2759, 'afford': 2760, 'thailand': 2761, 'iv': 2762, 'lousey': 2763, 'lookin': 2764, 'breaking': 2765, 'saviour': 2766, 'distressed': 2767, 'juniper': 2768, 'kiss': 2769, 'yerba': 2770, 'superhot': 2771, 'seemingly': 2772, 'minty': 2773, 'premade': 2774, 'nutter': 2775, 'tabs': 2776, 'opposed': 2777, 'rewarding': 2778, 'rubber': 2779, 'carbs': 2780, 'decadent': 2781, 'porcini': 2782, 'watching': 2783, 'intake': 2784, 'personal': 2785, 'kup': 2786, 'chutney': 2787, 'princess': 2788, 'latin': 2789, 'disco': 2790, 'fever': 2791, 'teeny': 2792, 'reward': 2793, 'following': 2794, 'commands': 2795, 'spam': 2796, 'farmhouse': 2797, 'kidding': 2798, 'goo': 2799, 'ridiculous': 2800, 'soothingly': 2801, 'amarettini': 2802, 'apfelsaftschorle': 2803, 'americans': 2804, 'cheat': 2805, 'superlative': 2806, 'awesomely': 2807, 'glycemic': 2808, 'aritfical': 2809, 'ohgave': 2810, 'dependable': 2811, 'announcement': 2812, 'smokers': 2813, 'tatsy': 2814, 'monin': 2815, 'sassafrass': 2816, 'herbals': 2817, 'recommendation': 2818, 'saba': 2819, 'poppin': 2820, 'easiest': 2821, 'burning': 2822, 'ex': 2823, 'australian': 2824, 'glorious': 2825, 'transportable': 2826, 'buen': 2827, 'sonido': 2828, 'champagne': 2829, 'intend': 2830, 'decorate': 2831, 'outdated': 2832, 'comment': 2833, 'casablanca': 2834, 'changes': 2835, 'sweeeeet': 2836, 'tot': 2837, 'enthusiasm': 2838, 'zukes': 2839, 'goatmilkdrinker': 2840, 'exceptions': 2841, 'rotel': 2842, 'basis': 2843, 'ehkkkkkkkkkkkkkkk': 2844, 'hefty': 2845, 'kiwi': 2846, 'martinis': 2847, 'standout': 2848, 'yumm': 2849, 'fish': 2850, 'burn': 2851, 'awesomeness': 2852, 'morton': 2853, 'quanity': 2854, 'discontinued': 2855, 'seasonal': 2856, 'superfoods': 2857, 'xmas': 2858, 'motto': 2859, 'fits': 2860, 'walley': 2861, 'movies': 2862, 'ways': 2863, 'rounded': 2864, 'relationship': 2865, 'smiles': 2866, 'bait': 2867, 'target': 2868, 'according': 2869, 'stinger': 2870, 'moderately': 2871, 'spongetastic': 2872, 'girls': 2873, 'diappointed': 2874, 'yummmyyyy': 2875, 'bisphenol': 2876, 'scarce': 2877, 'honest': 2878, 'politicians': 2879, 'fully': 2880, 'choloate': 2881, 'fencing': 2882, 'saddlebag': 2883, 'dispenser': 2884, 'ziwipeak': 2885, 'fluorescent': 2886, 'mishmash': 2887, 'unfortunately': 2888, 'pathetic': 2889, 'response': 2890, 'info': 2891, 'weavers': 2892, 'temptations': 2893, 'belong': 2894, 'various': 2895, 'elaborate': 2896, 'hight': 2897, 'dessicated': 2898, 'pepperoni': 2899, 'dee': 2900, 'lish': 2901, 'imagined': 2902, 'calming': 2903, 'allows': 2904, 'relax': 2905, 'hydration': 2906, 'zippy': 2907, 'refrigeration': 2908, 'hormones': 2909, 'antibiotics': 2910, 'chinese': 2911, 'titled': 2912, 'sweets': 2913, 'au': 2914, 'gratin': 2915, 'birds': 2916, 'critters': 2917, 'halves': 2918, 'preventing': 2919, 'cramps': 2920, 'seen': 2921, 'twangy': 2922, 'shopping': 2923, 'displayed': 2924, 'woofs': 2925, 'eeevvveeerrr': 2926, 'squism': 2927, 'saying': 2928, 'mackeral': 2929, 'artifical': 2930, 'riviera': 2931, 'sunset': 2932, 'wowwie': 2933, 'tepid': 2934, 'mmmmmmmeeeeeeeeeeooooooooooowwwwwww': 2935, 'grrrrrreat': 2936, 'dissapointing': 2937, 'amended': 2938, 'death': 2939, 'increasing': 2940, 'fiesta': 2941, 'fudgy': 2942, 'wudgy': 2943, 'unparalleled': 2944, 'gingery': 2945, 'kefir': 2946, 'grreat': 2947, 'tropical': 2948, 'styrofoam': 2949, 'mention': 2950, 'evaporated': 2951, 'orgasmic': 2952, 'folgers': 2953, 'inorganic': 2954, 'arsenic': 2955, 'throat': 2956, 'flavia': 2957, 'explosion': 2958, 'unbeatable': 2959, 'oldest': 2960, 'nescafe': 2961, 'availability': 2962, 'flaxseed': 2963, 'bagged': 2964, 'cofffee': 2965, 'promising': 2966, 'guaranteed': 2967, 'pluses': 2968, 'texasgirl': 2969, 'jv': 2970, 'envelope': 2971, 'guidance': 2972, 'americano': 2973, 'mist': 2974, 'kibble': 2975, 'habit': 2976, 'forming': 2977, 'bent': 2978, 'michigan': 2979, 'sheds': 2980, 'patties': 2981, 'puked': 2982, 'slop': 2983, 'alittle': 2984, 'soupy': 2985, 'reorder': 2986, 'poison': 2987, 'presence': 2988, 'pez': 2989, 'scott': 2990, 'chowda': 2991, 'replicator': 2992, 'neighborhood': 2993, 'festival': 2994, 'baldwin': 2995, 'dachshunds': 2996, 'perker': 2997, 'upper': 2998, 'oxidant': 2999, 'smoothie': 3000, 'hated': 3001, 'simplicity': 3002, 'teen': 3003, 'hmmmm': 3004, 'ehhhhhh': 3005, 'cavemen': 3006, 'wealthy': 3007, 'anyway': 3008, 'argentina': 3009, 'wasabi': 3010, 'traveling': 3011, 'throwing': 3012, 'diaper': 3013, 'ho': 3014, 'hum': 3015, 'woflgang': 3016, 'yuh': 3017, 'gallon': 3018, 'unlisted': 3019, 'bisque': 3020, 'dehydrated': 3021, 'unsafe': 3022, 'specialties': 3023, 'royce': 3024, 'providers': 3025, 'reminiscent': 3026, 'irish': 3027, 'appreciate': 3028, 'aight': 3029, 'yeah': 3030, 'improvement': 3031, 'due': 3032, 'broke': 3033, 'several': 3034, 'internet': 3035, 'county': 3036, 'remebered': 3037, 'catfood': 3038, 'lucas': 3039, 'lindt': 3040, 'pistachio': 3041, 'bi': 3042, 'witch': 3043, 'moan': 3044, 'pkg': 3045, 'addictively': 3046, 'certain': 3047, 'efforts': 3048, 'raya': 3049, 'oldie': 3050, 'ideal': 3051, 'cornhusker': 3052, 'cured': 3053, 'pregnancy': 3054, 'heartburn': 3055, 'themed': 3056, 'ewwwww': 3057, 'misnamed': 3058, 'sucks': 3059, 'cloudy': 3060, 'impurities': 3061, 'strictly': 3062, 'wallop': 3063, 'marley': 3064, 'mood': 3065, 'lemonade': 3066, 'costa': 3067, 'rican': 3068, 'export': 3069, 'luzianne': 3070, 'bellini': 3071, 'sourced': 3072, 'searching': 3073, 'q': 3074, 'dye': 3075, 'bulldogs': 3076, 'decilious': 3077, 'planning': 3078, 'mori': 3079, 'nu': 3080, 'chives': 3081, 'soap': 3082, 'ceral': 3083, 'overweight': 3084, 'orphan': 3085, 'foal': 3086, 'backup': 3087, 'minutes': 3088, 'lucy': 3089, 'dogfood': 3090, 'dripping': 3091, 'flu': 3092, 'seconds': 3093, 'heals': 3094, 'mug': 3095, 'spectrum': 3096, 'otto': 3097, 'moment': 3098, 'smash': 3099, 'shabby': 3100, 'saving': 3101, 'amyjon': 3102, 'polenta': 3103, 'legendary': 3104, 'delicioius': 3105, 'talkingrain': 3106, 'beaver': 3107, 'mayonnaise': 3108, 'endurance': 3109, 'athletes': 3110, 'indian': 3111, 'dhall': 3112, 'bisquik': 3113, 'toss': 3114, 'gadget': 3115, 'tortill': 3116, 'thymes': 3117, 'meyer': 3118, 'train': 3119, 'stage': 3120, 'dill': 3121, 'healing': 3122, 'conversation': 3123, 'piece': 3124, 'crown': 3125, 'jewels': 3126, 'sheltie': 3127, 'adores': 3128, 'defeat': 3129, 'nanas': 3130, 'orzo': 3131, 'cholestrol': 3132, 'snaggle': 3133, 'toothed': 3134, 'riceworks': 3135, 'mongolian': 3136, 'tasten': 3137, 'olds': 3138, 'prime': 3139, 'rib': 3140, 'qaulity': 3141, 'nestle': 3142, 'unavailable': 3143, 'meeeeeeowwwwwww': 3144, 'performance': 3145, 'thses': 3146, 'dining': 3147, 'dentest': 3148, 'chair': 3149, 'amazingclubs': 3150, 'lou': 3151, 'offers': 3152, 'wallet': 3153, 'multiple': 3154, 'settings': 3155, 'claimed': 3156, 'potent': 3157, 'dachshund': 3158, 'early': 3159, 'pace': 3160, 'ultimate': 3161, 'goody': 3162, 'ahead': 3163, 'worthy': 3164, 'thrilled': 3165, 'lame': 3166, 'skim': 3167, 'germ': 3168, 'minimal': 3169, 'cupcakes': 3170, 'laden': 3171, 'cooked': 3172, 'hydrating': 3173, 'ewweee': 3174, 'wazoo': 3175, 'girl': 3176, 'scout': 3177, 'milka': 3178, 'sounds': 3179, 'attractive': 3180, 'eggs': 3181, 'masters': 3182, 'cutter': 3183, 'unnaturally': 3184, 'formed': 3185, 'sporting': 3186, 'carbing': 3187, 'diamond': 3188, 'maximum': 3189, 'smoothies': 3190, 'shavings': 3191, 'doh': 3192, 'wonka': 3193, 'tarts': 3194, 'art': 3195, 'finished': 3196, 'tacs': 3197, 'wants': 3198, 'written': 3199, 'fowl': 3200, 'turducken': 3201, 'pasty': 3202, 'mash': 3203, 'parties': 3204, 'bleh': 3205, 'rd': 3206, 'ingred': 3207, 'paul': 3208, 'ethical': 3209, 'lousy': 3210, 'gmos': 3211, 'cheetos': 3212, 'paella': 3213, 'decently': 3214, 'cooks': 3215, 'process': 3216, 'sinfully': 3217, 'cereals': 3218, 'twizlers': 3219, 'decreased': 3220, 'yorkiepoo': 3221, 'truthfull': 3222, 'numbers': 3223, 'breaks': 3224, 'grinds': 3225, 'ambrosia': 3226, 'ship': 3227, 'pleasingly': 3228, 'tons': 3229, 'audience': 3230, 'pickup': 3231, 'satisifed': 3232, 'infections': 3233, 'bottoms': 3234, 'cubes': 3235, 'sassafras': 3236, 'placebo': 3237, 'favors': 3238, 'treets': 3239, 'reboot': 3240, 'processors': 3241, 'lea': 3242, 'omega': 3243, 'effervescent': 3244, 'households': 3245, 'particularly': 3246, 'buttah': 3247, 'sheen': 3248, 'airbrush': 3249, 'animals': 3250, 'hormel': 3251, 'compleats': 3252, 'week': 3253, 'scottish': 3254, 'fold': 3255, 'kitten': 3256, 'salted': 3257, 'superbowl': 3258, 'scooores': 3259, 'excellence': 3260, 'caramet': 3261, 'promise': 3262, 'clouds': 3263, 'fattening': 3264, 'corgi': 3265, 'hubby': 3266, 'ky': 3267, 'subscribe': 3268, 'consider': 3269, 'crack': 3270, 'additions': 3271, 'stink': 3272, 'mold': 3273, 'goaty': 3274, 'rosamonte': 3275, 'especial': 3276, 'yummies': 3277, 'tootsie': 3278, 'drip': 3279, 'lively': 3280, 'sumatran': 3281, 'hell': 3282, 'whatever': 3283, 'met': 3284, 'expections': 3285, 'rejuvenating': 3286, 'addict': 3287, 'cofee': 3288, 'greens': 3289, 'range': 3290, 'dublin': 3291, 'fight': 3292, 'beefaroni': 3293, 'awefull': 3294, 'nausea': 3295, 'danger': 3296, 'mouthful': 3297, 'realemon': 3298, 'shiba': 3299, 'inu': 3300, 'eatin': 3301, 'koala': 3302, 'exquisitely': 3303, 'polyvalent': 3304, 'mind': 3305, 'valley': 3306, 'savory': 3307, 'toasted': 3308, 'sesame': 3309, 'topping': 3310, 'culinary': 3311, 'creations': 3312, 'complaints': 3313, 'opinion': 3314, 'vet': 3315, 'tao': 3316, 'latice': 3317, 'lathers': 3318, 'bath': 3319, 'terrrrific': 3320, 'bulldog': 3321, 'bevvie': 3322, 'begin': 3323, 'awesom': 3324, 'palm': 3325, 'canola': 3326, 'detailed': 3327, 'reply': 3328, 'dha': 3329, 'ara': 3330, 'mommy': 3331, 'russell': 3332, 'crumbles': 3333, 'priority': 3334, 'syrupy': 3335, 'fanfreakintastic': 3336, 'anus': 3337, 'weaker': 3338, 'skinless': 3339, 'glitery': 3340, 'jeremiahs': 3341, 'toffifay': 3342, 'sun': 3343, 'selling': 3344, 'geat': 3345, 'origin': 3346, 'calorific': 3347, 'annie': 3348, 'homegrown': 3349, 'bolds': 3350, 'switched': 3351, 'pepsi': 3352, 'br': 3353, 'milder': 3354, 'class': 3355, 'offerings': 3356, 'user': 3357, 'system': 3358, 'brazil': 3359, 'orangy': 3360, 'gumbo': 3361, 'ur': 3362, 'shortcake': 3363, 'stand': 3364, 'devine': 3365, 'miniature': 3366, 'confusing': 3367, 'freely': 3368, 'acutually': 3369, 'trifle': 3370, 'ooooh': 3371, 'ask': 3372, 'tums': 3373, 'tastic': 3374, 'pork': 3375, 'rinds': 3376, 'burger': 3377, 'wellness': 3378, 'citron': 3379, 'jja': 3380, 'appetizing': 3381, 'consistent': 3382, 'nutritionally': 3383, 'cassoulet': 3384, 'unsatisfied': 3385, 'followers': 3386, 'hungarian': 3387, 'obsession': 3388, 'extermely': 3389, 'blackstrap': 3390, 'delights': 3391, 'gravey': 3392, 'film': 3393, 'annual': 3394, 'houseboat': 3395, 'compare': 3396, 'artificially': 3397, 'dalmatian': 3398, 'beast': 3399, 'mode': 3400, 'seahawks': 3401, 'trucker': 3402, 'lentil': 3403, 'oysters': 3404, 'passed': 3405, 'noticablely': 3406, 'affect': 3407, 'wholesome': 3408, 'hints': 3409, 'babybmom': 3410, 'snapple': 3411, 'safely': 3412, 'superfood': 3413, 'chocophile': 3414, 'crispbread': 3415, 'blecch': 3416, 'rum': 3417, 'hummy': 3418, 'makers': 3419, 'worthwhile': 3420, 'kernel': 3421, 'desserts': 3422, 'amaretto': 3423, 'fig': 3424, 'greater': 3425, 'originally': 3426, 'boo': 3427, 'sustainer': 3428, 'scoville': 3429, 'cakesters': 3430, 'appearance': 3431, 'fingers': 3432, 'dollar': 3433, 'chocolot': 3434, 'completly': 3435, 'cant': 3436, 'pina': 3437, 'colada': 3438, 'kool': 3439, 'alternatives': 3440, 'wyzykoski': 3441, 'buble': 3442, 'gun': 3443, 'yahoo': 3444, 'flecks': 3445, 'cuttiest': 3446, 'compensation': 3447, 'organinc': 3448, 'disposacup': 3449, 'jolokia': 3450, 'infusion': 3451, 'dragon': 3452, 'ovine': 3453, 'maniac': 3454, 'secretly': 3455, 'speedy': 3456, 'quailty': 3457, 'region': 3458, 'ruby': 3459, 'yummmmmmmmmm': 3460, 'greenies': 3461, 'shcoked': 3462, 'handle': 3463, 'matters': 3464, 'bueno': 3465, 'duty': 3466, 'fit': 3467, 'consumption': 3468, 'road': 3469, 'yoli': 3470, 'frankenwheat': 3471, 'gfcfsf': 3472, 'discription': 3473, 'lead': 3474, 'article': 3475, 'marathons': 3476, 'labradors': 3477, 'discs': 3478, 'groups': 3479, 'tasking': 3480, 'danes': 3481, 'pamelas': 3482, 'continue': 3483, 'thrives': 3484, 'sardine': 3485, 'weather': 3486, 'co': 3487, 'mamma': 3488, 'mia': 3489, 'plump': 3490, 'master': 3491, 'df': 3492, 'jamica': 3493, 'superman': 3494, 'snacked': 3495, 'jeri': 3496, 'ca': 3497, 'sojos': 3498, 'dietetic': 3499, 'disease': 3500, 'eco': 3501, 'hazard': 3502, 'fennel': 3503, 'sparkles': 3504, 'floor': 3505, 'times': 3506, 'encouragement': 3507, 'preamp': 3508, 'prompt': 3509, 'misrepresented': 3510, 'silly': 3511, 'press': 3512, 'kid': 3513, 'chowdah': 3514, 'hog': 3515, 'nt': 3516, 'peta': 3517, 'pigs': 3518, 'foodie': 3519, 'unhealthy': 3520, 'cocker': 3521, 'vickie': 3522, 'sweetners': 3523, 'doubts': 3524, 'modifications': 3525, 'unsalted': 3526, 'asparagus': 3527, 'bonsai': 3528, 'carrot': 3529, 'slipping': 3530, 'diameter': 3531, 'flavorfull': 3532, 'defacto': 3533, 'coffeei': 3534, 'cultures': 3535, 'vendors': 3536, 'friskies': 3537, 'nevertheless': 3538, 'roland': 3539, 'instructions': 3540, 'coca': 3541, 'afternoon': 3542, 'crumbled': 3543, 'bonk': 3544, 'matter': 3545, 'socks': 3546, 'widely': 3547, 'enjoying': 3548, 'yummmmmazing': 3549, 'toy': 3550, 'sahlen': 3551, 'hollywood': 3552, 'pregnant': 3553, 'lil': 3554, 'munchkins': 3555, 'severe': 3556, 'disposible': 3557, 'outcome': 3558, 'woderful': 3559, 'rasberry': 3560, 'versitile': 3561, 'mmmmmmmmmm': 3562, 'autimatic': 3563, 'started': 3564, 'tinged': 3565, 'fizzlicious': 3566, 'wings': 3567, 'paint': 3568, 'pepermint': 3569, 'kracker': 3570, 'bllue': 3571, 'snackfood': 3572, 'chivey': 3573, 'coffeemate': 3574, 'wished': 3575, 'supermarkets': 3576, 'allays': 3577, 'concerns': 3578, 'yeeeee': 3579, 'hawww': 3580, 'spinach': 3581, 'giants': 3582, 'herbs': 3583, 'awkward': 3584, 'sale': 3585, 'choose': 3586, 'minced': 3587, 'fruits': 3588, 'wayy': 3589, 'wonders': 3590, 'popularity': 3591, 'carousel': 3592, 'anyhoe': 3593, 'unbalanced': 3594, 'flashback': 3595, 'naked': 3596, 'growth': 3597, 'season': 3598, 'mackerels': 3599, 'badly': 3600, 'tomato': 3601, 'spelt': 3602, 'sparkly': 3603, 'whonu': 3604, 'vote': 3605, 'tast': 3606, 'lard': 3607, 'stylish': 3608, 'khz': 3609, 'mono': 3610, 'accidents': 3611, 'favored': 3612, 'hippy': 3613, 'eucharist': 3614, 'hershey': 3615, 'cashews': 3616, 'assembly': 3617, 'alpacas': 3618, 'demi': 3619, 'tasse': 3620, 'subtly': 3621, 'eligible': 3622, 'return': 3623, 'teabag': 3624, 'chance': 3625, 'climbing': 3626, 'finiky': 3627, 'nights': 3628, 'helping': 3629, 'psoriasis': 3630, 'material': 3631, 'hummus': 3632, 'result': 3633, 'companions': 3634, 'greyhounds': 3635, 'existent': 3636, 'eliminates': 3637, 'starbuck': 3638, 'kleri': 3639, 'diversion': 3640, 'colas': 3641, 'luuuv': 3642, 'potatoe': 3643, 'astounding': 3644, 'decafe': 3645, 'petals': 3646, 'yellow': 3647, 'split': 3648, 'burns': 3649, 'preservatives': 3650, 'longtime': 3651, 'containing': 3652, 'turkish': 3653, 'gobble': 3654, 'factor': 3655, 'gem': 3656, 'deelish': 3657, 'bobby': 3658, 'cj': 3659, 'stingers': 3660, 'recomended': 3661, 'banged': 3662, 'brush': 3663, 'already': 3664, 'probably': 3665, 'pok': 3666, 'chops': 3667, 'cocktail': 3668, 'heartier': 3669, 'impression': 3670, 'changing': 3671, 'evaporate': 3672, 'mega': 3673, 'libby': 3674, 'noticeable': 3675, 'noise': 3676, 'output': 3677, 'responce': 3678, 'pickles': 3679, 'mixture': 3680, 'cockers': 3681, 'thickener': 3682, 'hubbard': 3683, 'nuttier': 3684, 'charlee': 3685, 'mentos': 3686, 'unsweetened': 3687, 'demand': 3688, 'shortening': 3689, 'alternate': 3690, 'longest': 3691, 'rj': 3692, 'custom': 3693, 'total': 3694, 'elliott': 3695, 'pass': 3696, 'comparison': 3697, 'alter': 3698, 'swirled': 3699, 'ready': 3700, 'manufacturing': 3701, 'diminish': 3702, 'wonderfulness': 3703, 'fill': 3704, 'perceptible': 3705, 'crisco': 3706, 'useable': 3707, 'buds': 3708, 'pucker': 3709, 'wasting': 3710, 'cucumber': 3711, 'shame': 3712, 'ritual': 3713, 'wouldnt': 3714, 'caibou': 3715, 'runs': 3716, 'babysitter': 3717, 'granules': 3718, 'cheers': 3719, 'improperly': 3720, 'unpopped': 3721, 'unsulphered': 3722, 'tagerine': 3723, 'farms': 3724, 'headache': 3725, 'boys': 3726, 'deceitful': 3727, 'gma': 3728, 'satisfaction': 3729, 'skyflakes': 3730, 'glucose': 3731, 'pockets': 3732, 'guinea': 3733, 'pig': 3734, 'sweetly': 3735, 'purchases': 3736, 'wilton': 3737, 'dissatisfied': 3738, 'snickerdoodles': 3739, 'glitter': 3740, 'chrysanthemum': 3741, 'happily': 3742, 'doesnt': 3743, 'por': 3744, 'kwan': 3745, 'chilli': 3746, 'basil': 3747, 'sort': 3748, 'easrly': 3749, 'yey': 3750, 'namaste': 3751, 'donut': 3752, 'customary': 3753, 'vomitting': 3754, 'rita': 3755, 'vimto': 3756, 'yummier': 3757, 'jonesing': 3758, 'marinated': 3759, 'morsals': 3760, 'dingo': 3761, 'unfilled': 3762, 'reasonabale': 3763, 'hardly': 3764, 'skimpy': 3765, 'charged': 3766, 'sore': 3767, 'joints': 3768, 'muscles': 3769, 'untitled': 3770, 'including': 3771, 'willing': 3772, 'provides': 3773, 'flies': 3774, 'begone': 3775, 'falafel': 3776, 'potatoies': 3777, 'wholesale': 3778, 'hat': 3779, 'invention': 3780, 'relatively': 3781, 'cherries': 3782, 'crackerbreads': 3783, 'shedding': 3784, 'toxic': 3785, 'suzie': 3786, 'puffed': 3787, 'smoke': 3788, 'whew': 3789, 'krinos': 3790, 'bill': 3791, 'overrated': 3792, 'plated': 3793, 'godly': 3794, 'pal': 3795, 'molecular': 3796, 'gastronomy': 3797, 'rockes': 3798, 'absolutel': 3799, 'shakes': 3800, 'passion': 3801, 'shared': 3802, 'fronts': 3803, 'flowers': 3804, 'bil': 3805, 'jac': 3806, 'wins': 3807, 'sandwiches': 3808, 'nantucket': 3809, 'coming': 3810, 'ten': 3811, 'doxie': 3812, 'disappoints': 3813, 'luwak': 3814, 'today': 3815, 'leak': 3816, 'inferior': 3817, 'folks': 3818, 'parisian': 3819, 'sevice': 3820, 'wheatgrass': 3821, 'berres': 3822, 'brothers': 3823, 'scovilles': 3824, 'marvelous': 3825, 'figure': 3826, 'uniquely': 3827, 'lacquat': 3828, 'plague': 3829, 'killing': 3830, 'honeybees': 3831, 'claim': 3832, 'prison': 3833, 'die': 3834, 'moisturizing': 3835, 'softener': 3836, 'nicely': 3837, 'buck': 3838, 'comforting': 3839, 'veggies': 3840, 'caused': 3841, 'durable': 3842, 'touchy': 3843, 'freshness': 3844, 'seal': 3845, 'piquillos': 3846, 'inadequate': 3847, 'sayan': 3848, 'bloating': 3849, 'passover': 3850, 'unsorted': 3851, 'assorted': 3852, 'steaks': 3853, 'suger': 3854, 'grrrrrrrreat': 3855, 'wicked': 3856, 'ket': 3857, 'notes': 3858, 'mama': 3859, 'tully': 3860, 'fixed': 3861, 'warnings': 3862, 'appeal': 3863, 'spike': 3864, 'insulin': 3865, 'salads': 3866, 'pear': 3867, 'chardonnay': 3868, 'halfway': 3869, 'receive': 3870, 'shrimp': 3871, 'fry': 3872, 'wore': 3873, 'caf': 3874, 'cakeing': 3875, 'agents': 3876, 'garbonzo': 3877, 'owned': 3878, 'deeee': 3879, 'licious': 3880, 'pupstar': 3881, 'wondering': 3882, 'bet': 3883, 'lilly': 3884, 'nsa': 3885, 'knew': 3886, 'advanced': 3887, 'active': 3888, 'roxy': 3889, 'equidorian': 3890, 'ojio': 3891, 'arriba': 3892, 'carillo': 3893, 'oranic': 3894, 'martha': 3895, 'malta': 3896, 'baffling': 3897, 'model': 3898, 'fishy': 3899, 'devils': 3900, 'kinetic': 3901, 'kraziness': 3902, 'almonds': 3903, 'puroast': 3904, 'hulls': 3905, 'eye': 3906, 'tasteful': 3907, 'tazo': 3908, 'closest': 3909, 'execution': 3910, 'simpliest': 3911, 'labels': 3912, 'munch': 3913, 'systemic': 3914, 'insecticide': 3915, 'born': 3916, 'hammer': 3917, 'conflakes': 3918, 'older': 3919, 'unbelievably': 3920, 'fur': 3921, 'babie': 3922, 'expresso': 3923, 'lie': 3924, 'chase': 3925, 'notification': 3926, 'cancelled': 3927, 'placed': 3928, 'selections': 3929, 'brews': 3930, 'wise': 3931, 'cheapest': 3932, 'escape': 3933, 'popchip': 3934, 'lasts': 3935, 'excuse': 3936, 'starting': 3937, 'eatten': 3938, 'splendid': 3939, 'exceeded': 3940, 'expectations': 3941, 'tho': 3942, 'roasters': 3943, 'chocoholic': 3944, 'view': 3945, 'joke': 3946, 'fats': 3947, 'freakin': 3948, 'barb': 3949, 'hooray': 3950, 'situation': 3951, 'support': 3952, 'students': 3953, 'garrotxa': 3954, 'freezed': 3955, 'grown': 3956, 'ups': 3957, 'attempt': 3958, 'failed': 3959, 'points': 3960, 'watchers': 3961, 'swisshot': 3962, 'oranginaish': 3963, 'indulgence': 3964, 'along': 3965, 'lines': 3966, 'remarkable': 3967, 'congou': 3968, 'hairballs': 3969, 'digs': 3970, 'bulky': 3971, 'cuisinart': 3972, 'game': 3973, 'walnuts': 3974, 'allergens': 3975, 'cage': 3976, 'guayaki': 3977, 'chestnuts': 3978, 'mg': 3979, 'electrolytes': 3980, 'toppings': 3981, 'freah': 3982, 'southeastern': 3983, 'mills': 3984, 'recieved': 3985, 'seals': 3986, 'busting': 3987, 'healtier': 3988, 'rosematic': 3989, 'loyal': 3990, 'melange': 3991, 'maison': 3992, 'corse': 3993, 'kelloggs': 3994, 'muselix': 3995, 'lapped': 3996, 'stablizer': 3997, 'shimmer': 3998, 'vegans': 3999, 'allday': 4000, 'overtones': 4001, 'cardboard': 4002, 'kellogg': 4003, 'dum': 4004, 'dums': 4005, 'twisted': 4006, 'feliciaflan': 4007, 'bavarian': 4008, 'crunchie': 4009, 'munchie': 4010, 'tiger': 4011, 'exotic': 4012, 'pomegranate': 4013, 'buffy': 4014, 'refuel': 4015, 'exercise': 4016, 'liven': 4017, 'jarring': 4018, 'awry': 4019, 'mail': 4020, 'orangey': 4021, 'tangeriney': 4022, 'tin': 4023, 'utz': 4024, 'iraq': 4025, 'pickle': 4026, 'flawless': 4027, 'glaze': 4028, 'provided': 4029, 'francaise': 4030, 'bleeds': 4031, 'exaclty': 4032, 'heads': 4033, 'disapointing': 4034, 'face': 4035, 'freshest': 4036, 'dense': 4037, 'vinigrette': 4038, 'heed': 4039, 'advice': 4040, 'poppers': 4041, 'margarita': 4042, 'clock': 4043, 'ferrets': 4044, 'dust': 4045, 'canadies': 4046, 'gamble': 4047, 'crap': 4048, 'shoot': 4049, 'favoritte': 4050, 'concrete': 4051, 'unsweet': 4052, 'chock': 4053, 'amazingness': 4054, 'yeast': 4055, 'pei': 4056, 'wei': 4057, 'pf': 4058, 'changs': 4059, 'flackers': 4060, 'jays': 4061, 'duck': 4062, 'rillettes': 4063, 'ah': 4064, 'dumplings': 4065, 'cave': 4066, 'zany': 4067, 'values': 4068, 'detectable': 4069, 'scarf': 4070, 'replacing': 4071, 'choclate': 4072, 'doa': 4073, 'data': 4074, 'toothpicks': 4075, 'redbard': 4076, 'buttered': 4077, 'cocolate': 4078}\n"
     ]
    }
   ],
   "source": [
    "print(target_word_index)"
   ]
  },
  {
   "cell_type": "code",
   "execution_count": 21,
   "metadata": {},
   "outputs": [
    {
     "name": "stdout",
     "output_type": "stream",
     "text": [
      "{1: 'start', 2: 'end', 3: 'great', 4: 'good', 5: 'best', 6: 'coffee', 7: 'love', 8: 'product', 9: 'taste', 10: 'delicious', 11: 'tea', 12: 'flavor', 13: 'food', 14: 'excellent', 15: 'dog', 16: 'yummy', 17: 'tasty', 18: 'chips', 19: 'like', 20: 'price', 21: 'ever', 22: 'hot', 23: 'favorite', 24: 'chocolate', 25: 'stuff', 26: 'free', 27: 'better', 28: 'k', 29: 'healthy', 30: 'sweet', 31: 'perfect', 32: 'awesome', 33: 'loves', 34: 'cup', 35: 'snack', 36: 'nice', 37: 'really', 38: 'mix', 39: 'bad', 40: 'yum', 41: 'one', 42: 'quality', 43: 'tasting', 44: 'gluten', 45: 'cocoa', 46: 'wonderful', 47: 'tastes', 48: 'easy', 49: 'little', 50: 'cups', 51: 'cat', 52: 'much', 53: 'buy', 54: 'cats', 55: 'dogs', 56: 'organic', 57: 'drink', 58: 'ok', 59: 'treat', 60: 'baby', 61: 'sugar', 62: 'treats', 63: 'soda', 64: 'pretty', 65: 'alternative', 66: 'fresh', 67: 'way', 68: 'works', 69: 'amazing', 70: 'water', 71: 'value', 72: 'popcorn', 73: 'cookies', 74: 'low', 75: 'find', 76: 'sauce', 77: 'fantastic', 78: 'real', 79: 'decaf', 80: 'juice', 81: 'amazon', 82: 'use', 83: 'milk', 84: 'smooth', 85: 'beans', 86: 'hard', 87: 'gift', 88: 'makes', 89: 'expensive', 90: 'natural', 91: 'pop', 92: 'happy', 93: 'eat', 94: 'orange', 95: 'vanilla', 96: 'pancakes', 97: 'deal', 98: 'new', 99: 'get', 100: 'make', 101: 'energy', 102: 'go', 103: 'small', 104: 'nothing', 105: 'work', 106: 'gum', 107: 'disappointed', 108: 'breakfast', 109: 'right', 110: 'high', 111: 'salt', 112: 'money', 113: 'chip', 114: 'bit', 115: 'far', 116: 'service', 117: 'licorice', 118: 'bread', 119: 'cannot', 120: 'would', 121: 'coconut', 122: 'bisquick', 123: 'spicy', 124: 'okay', 125: 'decent', 126: 'seeds', 127: 'item', 128: 'strong', 129: 'wow', 130: 'popchips', 131: 'green', 132: 'made', 133: 'convenient', 134: 'baking', 135: 'variety', 136: 'without', 137: 'awful', 138: 'keurig', 139: 'refreshing', 140: 'candy', 141: 'white', 142: 'puck', 143: 'review', 144: 'rich', 145: 'fruit', 146: 'old', 147: 'worth', 148: 'well', 149: 'soup', 150: 'light', 151: 'could', 152: 'blend', 153: 'poor', 154: 'expected', 155: 'instant', 156: 'disposakups', 157: 'wolfgang', 158: 'calorie', 159: 'packaging', 160: 'shipping', 161: 'fun', 162: 'enough', 163: 'rice', 164: 'time', 165: 'potato', 166: 'tasted', 167: 'absolutely', 168: 'special', 169: 'never', 170: 'substitute', 171: 'roast', 172: 'quick', 173: 'switch', 174: 'jerky', 175: 'flavored', 176: 'worst', 177: 'choice', 178: 'still', 179: 'flavors', 180: 'loved', 181: 'oil', 182: 'super', 183: 'weak', 184: 'big', 185: 'kettle', 186: 'terrible', 187: 'got', 188: 'size', 189: 'bitter', 190: 'first', 191: 'wrong', 192: 'gf', 193: 'kids', 194: 'different', 195: 'order', 196: 'horrible', 197: 'diet', 198: 'corn', 199: 'salty', 200: 'powder', 201: 'bag', 202: 'dark', 203: 'stale', 204: 'almost', 205: 'disappointing', 206: 'whole', 207: 'mild', 208: 'found', 209: 'brand', 210: 'life', 211: 'vinegar', 212: 'french', 213: 'simply', 214: 'senseo', 215: 'fat', 216: 'pricey', 217: 'fast', 218: 'even', 219: 'goodness', 220: 'formula', 221: 'day', 222: 'crunchy', 223: 'surprisingly', 224: 'pods', 225: 'earth', 226: 'flavorful', 227: 'pancake', 228: 'chicken', 229: 'e', 230: 'regular', 231: 'beware', 232: 'cereal', 233: 'hazelnut', 234: 'fan', 235: 'nuts', 236: 'soy', 237: 'oz', 238: 'yuck', 239: 'grass', 240: 'honey', 241: 'butter', 242: 'picky', 243: 'cake', 244: 'idea', 245: 'disposable', 246: 'unique', 247: 'crackers', 248: 'n', 249: 'something', 250: 'soft', 251: 'store', 252: 'tangerine', 253: 'carbonated', 254: 'try', 255: 'name', 256: 'every', 257: 'nasty', 258: 'beef', 259: 'full', 260: 'family', 261: 'goat', 262: 'true', 263: 'brew', 264: 'canned', 265: 'calories', 266: 'lot', 267: 'pack', 268: 'miracle', 269: 'waste', 270: 'syrup', 271: 'tried', 272: 'spice', 273: 'thing', 274: 'ingredients', 275: 'addictive', 276: 'non', 277: 'red', 278: 'less', 279: 'dessert', 280: 'crunch', 281: 'likes', 282: 'pleased', 283: 'medium', 284: 'another', 285: 'cans', 286: 'beautiful', 287: 'customer', 288: 'cost', 289: 'bland', 290: 'lots', 291: 'snacks', 292: 'sticks', 293: 'used', 294: 'stars', 295: 'highly', 296: 'son', 297: 'cracker', 298: 'must', 299: 'oatmeal', 300: 'yet', 301: 'bought', 302: 'newman', 303: 'smell', 304: 'wish', 305: 'grove', 306: 'available', 307: 'back', 308: 'mini', 309: 'around', 310: 'cookie', 311: 'fabulous', 312: 'pasta', 313: 'needs', 314: 'aftertaste', 315: 'waffles', 316: 'overpriced', 317: 'totally', 318: 'crispy', 319: 'ordered', 320: 'sure', 321: 'bold', 322: 'oh', 323: 'dressing', 324: 'bed', 325: 'cheese', 326: 'always', 327: 'helps', 328: 'espresso', 329: 'please', 330: 'need', 331: 'priced', 332: 'clam', 333: 'finally', 334: 'bbq', 335: 'recommended', 336: 'fine', 337: 'think', 338: 'gravy', 339: 'want', 340: 'quite', 341: 'smells', 342: 'know', 343: 'ground', 344: 'texture', 345: 'two', 346: 'crazy', 347: 'worked', 348: 'muffins', 349: 'thin', 350: 'batch', 351: 'protein', 352: 'products', 353: 'lovers', 354: 'cute', 355: 'cheap', 356: 'packaged', 357: 'english', 358: 'disappointment', 359: 'health', 360: 'caramel', 361: 'lover', 362: 'many', 363: 'received', 364: 'dry', 365: 'bar', 366: 'exactly', 367: 'square', 368: 'say', 369: 'beverage', 370: 'reviews', 371: 'raw', 372: 'tangy', 373: 'plant', 374: 'peanut', 375: 'outstanding', 376: 'iced', 377: 'home', 378: 'things', 379: 'heaven', 380: 'black', 381: 'favorites', 382: 'artificial', 383: 'bars', 384: 'cheaper', 385: 'open', 386: 'mmm', 387: 'delight', 388: 'delish', 389: 'wild', 390: 'interesting', 391: 'delivery', 392: 'loose', 393: 'bags', 394: 'weight', 395: 'maybe', 396: 'slightly', 397: 'arrived', 398: 'hit', 399: 'house', 400: 'simple', 401: 'box', 402: 'bean', 403: 'contains', 404: 'meal', 405: 'aroma', 406: 'solution', 407: 'advertised', 408: 'mustard', 409: 'foods', 410: 'world', 411: 'last', 412: 'market', 413: 'cool', 414: 'thought', 415: 'seasoning', 416: 'chia', 417: 'inexpensive', 418: 'option', 419: 'summer', 420: 'premium', 421: 'though', 422: 'healthier', 423: 'satisfying', 424: 'eating', 425: 'mill', 426: 'leaf', 427: 'grow', 428: 'omg', 429: 'everything', 430: 'misleading', 431: 'gourmet', 432: 'add', 433: 'tart', 434: 'plain', 435: 'ounce', 436: 'cherry', 437: 'agree', 438: 'olive', 439: 'problems', 440: 'cold', 441: 'long', 442: 'em', 443: 'bite', 444: 'tofu', 445: 'chowder', 446: 'flour', 447: 'year', 448: 'kitty', 449: 'away', 450: 'aluminum', 451: 'brown', 452: 'difference', 453: 'salad', 454: 'purchase', 455: 'berry', 456: 'dairy', 457: 'tortilla', 458: 'waffle', 459: 'b', 460: 'dont', 461: 'awsome', 462: 'allergy', 463: 'date', 464: 'looking', 465: 'thai', 466: 'cooking', 467: 'buying', 468: 'surprise', 469: 'us', 470: 'broken', 471: 'lovely', 472: 'china', 473: 'beer', 474: 'oreo', 475: 'baked', 476: 'getting', 477: 'chili', 478: 'people', 479: 'onion', 480: 'edible', 481: 'rock', 482: 'sweetener', 483: 'pineapple', 484: 'greatest', 485: 'gave', 486: 'bpa', 487: 'company', 488: 'addicted', 489: 'sensitive', 490: 'u', 491: 'daughter', 492: 'effective', 493: 'crisps', 494: 'experience', 495: 'anywhere', 496: 'keeps', 497: 'miss', 498: 'top', 499: 'versatile', 500: 'thick', 501: 'looks', 502: 'stevia', 503: 'others', 504: 'watery', 505: 'wine', 506: 'saver', 507: 'everyone', 508: 'sour', 509: 'wanted', 510: 'average', 511: 'nutrition', 512: 'fruity', 513: 'extract', 514: 'mint', 515: 'dinner', 516: 'terrific', 517: 'making', 518: 'homemade', 519: 'key', 520: 'guilt', 521: 'creamy', 522: 'yes', 523: 'sunflower', 524: 'yuban', 525: 'scrumptious', 526: 'hate', 527: 'added', 528: 'boxes', 529: 'g', 530: 'star', 531: 'recipe', 532: 'smaller', 533: 'longer', 534: 'caribou', 535: 'pick', 536: 'damaged', 537: 'lamb', 538: 'days', 539: 'wheat', 540: 'filters', 541: 'jars', 542: 'keep', 543: 'r', 544: 'banana', 545: 'lids', 546: 'ice', 547: 'seems', 548: 'changed', 549: 'man', 550: 'version', 551: 'save', 552: 'allergies', 553: 'huge', 554: 'dr', 555: 'original', 556: 'authentic', 557: 'c', 558: 'earl', 559: 'grey', 560: 'safe', 561: 'false', 562: 'enjoy', 563: 'meh', 564: 'p', 565: 'ginger', 566: 'jelly', 567: 'belly', 568: 'sodium', 569: 'stores', 570: 'amazingly', 571: 'sooo', 572: 'close', 573: 'extremely', 574: 'pound', 575: 'sweetner', 576: 'toddler', 577: 'look', 578: 'coco', 579: 'w', 580: 'pumpkin', 581: 'basket', 582: 'lime', 583: 'hint', 584: 'acidic', 585: 'powdered', 586: 'dented', 587: 'almond', 588: 'biscuits', 589: 'weird', 590: 'fans', 591: 'feel', 592: 'boost', 593: 'machine', 594: 'liquor', 595: 'paris', 596: 'delivered', 597: 'base', 598: 'crisp', 599: 'described', 600: 'single', 601: 'give', 602: 'lacks', 603: 'custard', 604: 'beat', 605: 'brewers', 606: 'paste', 607: 'pizza', 608: 'plastic', 609: 'friend', 610: 'disapointed', 611: 'vegan', 612: 'thanks', 613: 'care', 614: 'runny', 615: 'grandpa', 616: 'po', 617: 'addicting', 618: 'selection', 619: 'chocolates', 620: 'winner', 621: 'salsa', 622: 'kind', 623: 'ones', 624: 'sick', 625: 'clean', 626: 'msg', 627: 'shipped', 628: 'sea', 629: 'mmmmm', 630: 'kona', 631: 'live', 632: 'nutritious', 633: 'panda', 634: 'lunch', 635: 'mic', 636: 'touch', 637: 'fragrant', 638: 'hands', 639: 'heavenly', 640: 'stash', 641: 'glad', 642: 'mixed', 643: 'tell', 644: 'pepper', 645: 'puppy', 646: 'help', 647: 'going', 648: 'warning', 649: 'mouth', 650: 'husband', 651: 'actually', 652: 'liked', 653: 'garlic', 654: 'disgusting', 655: 'surprised', 656: 'watch', 657: 'instead', 658: 'odd', 659: 'carb', 660: 'gone', 661: 'extra', 662: 'brands', 663: 'messy', 664: 'enjoyable', 665: 'jar', 666: 'babies', 667: 'eater', 668: 'j', 669: 'pieces', 670: 'vitamin', 671: 'twice', 672: 'recommend', 673: 'windows', 674: 'training', 675: 'dirty', 676: 'organics', 677: 'rocks', 678: 'line', 679: 'stomach', 680: 'handy', 681: 'else', 682: 'local', 683: 'tasteless', 684: 'bob', 685: 'tummy', 686: 'ate', 687: 'mushy', 688: 'packs', 689: 'impressed', 690: 'may', 691: 'happened', 692: 'solid', 693: 'barely', 694: 'morning', 695: 'replacement', 696: 'caution', 697: 'control', 698: 'moldy', 699: 'perfection', 700: 'side', 701: 'delightful', 702: 'mostly', 703: 'skittles', 704: 'creme', 705: 'online', 706: 'amish', 707: 'rating', 708: 'fizzy', 709: 'serve', 710: 'teeth', 711: 'oreos', 712: 'mellow', 713: 'everyday', 714: 'mediocre', 715: 'issues', 716: 'forever', 717: 'martini', 718: 'goes', 719: 'dishes', 720: 'paws', 721: 'italian', 722: 'liver', 723: 'dried', 724: 'four', 725: 'seed', 726: 'absolute', 727: 'rose', 728: 'coffees', 729: 'superb', 730: 'problem', 731: 'com', 732: 'gross', 733: 'nut', 734: 'change', 735: 'busy', 736: 'bone', 737: 'needed', 738: 'bother', 739: 'pops', 740: 'pearl', 741: 'teas', 742: 'either', 743: 'wife', 744: 'easily', 745: 'sinus', 746: 'sucralose', 747: 'amount', 748: 'rule', 749: 'oily', 750: 'bones', 751: 'sorry', 752: 'month', 753: 'party', 754: 'lemon', 755: 'herbal', 756: 'chews', 757: 'advertising', 758: 'jamaica', 759: 'picture', 760: 'kitchen', 761: 'anything', 762: 'bubble', 763: 'says', 764: 'balance', 765: 'leaves', 766: 'country', 767: 'anytime', 768: 'nearly', 769: 'definitely', 770: 'mahogany', 771: 'compared', 772: 'meat', 773: 'pleasing', 774: 'description', 775: 'curry', 776: 'cuppa', 777: 'thank', 778: 'ingredient', 779: 'thumbs', 780: 'belgian', 781: 'yuk', 782: 'starbucks', 783: 'pay', 784: 'nom', 785: 'potatoes', 786: 'body', 787: 'apple', 788: 'gummy', 789: 'bears', 790: 'come', 791: 'lives', 792: 'daily', 793: 'especially', 794: 'fave', 795: 'lollipops', 796: 'usa', 797: 'stopped', 798: 'tree', 799: 'sometimes', 800: 'tiny', 801: 'vita', 802: 'grocery', 803: 'eh', 804: 'nd', 805: 'five', 806: 'bacon', 807: 'saves', 808: 'cinnamon', 809: 'taffy', 810: 'icicle', 811: 'creamer', 812: 'using', 813: 'put', 814: 'together', 815: 'ghirardelli', 816: 'noodles', 817: 'mrs', 818: 'funny', 819: 'million', 820: 'cow', 821: 'meyenberg', 822: 'joe', 823: 'careful', 824: 'pure', 825: 'brownie', 826: 'ranch', 827: 'truly', 828: 'guess', 829: 'blood', 830: 'someone', 831: 'filling', 832: 'unusual', 833: 'peppermint', 834: 'drops', 835: 'threw', 836: 'wafers', 837: 'nature', 838: 'strips', 839: 'answer', 840: 'strange', 841: 'frosting', 842: 'mueslix', 843: 'pie', 844: 'mocha', 845: 'gotta', 846: 'columbian', 847: 'kcups', 848: 'dream', 849: 'spoiled', 850: 'harbor', 851: 'uncle', 852: 'fluffy', 853: 'done', 854: 'serving', 855: 'satisfied', 856: 'fructose', 857: 'part', 858: 'bubbly', 859: 'except', 860: 'cacao', 861: 'medicine', 862: 'allergic', 863: 'bird', 864: 'expired', 865: 'peppered', 866: 'form', 867: 'stop', 868: 'smokey', 869: 'fair', 870: 'planet', 871: 'least', 872: 'rip', 873: 'reminds', 874: 'de', 875: 'holiday', 876: 'slices', 877: 'bottle', 878: 'affordable', 879: 'package', 880: 'alive', 881: 'came', 882: 'zero', 883: 'gritty', 884: 'limited', 885: 'sodas', 886: 'watermelon', 887: 'pocky', 888: 'air', 889: 'working', 890: 'chewy', 891: 'chipotle', 892: 'gold', 893: 'ahmad', 894: 'hype', 895: 'decaff', 896: 'strawberry', 897: 'serious', 898: 'classic', 899: 'tender', 900: 'actual', 901: 'king', 902: 'elsewhere', 903: 'muffin', 904: 'choc', 905: 'peach', 906: 'fondarific', 907: 'power', 908: 'issue', 909: 'packed', 910: 'cook', 911: 'office', 912: 'bargain', 913: 'source', 914: 'highest', 915: 'kcup', 916: 'slight', 917: 'portable', 918: 'fried', 919: 'naturally', 920: 'snacking', 921: 'altoids', 922: 'mints', 923: 'word', 924: 'mberry', 925: 'cafe', 926: 'mr', 927: 'shelf', 928: 'buster', 929: 'enjoyed', 930: 'heat', 931: 'tang', 932: 'ugh', 933: 'v', 934: 'design', 935: 'mixes', 936: 'winter', 937: 'night', 938: 'cream', 939: 'iron', 940: 'pups', 941: 'hodgson', 942: 'condiment', 943: 'convenience', 944: 'wake', 945: 'oats', 946: 'lobster', 947: 'half', 948: 'mushrooms', 949: 'lol', 950: 'standard', 951: 'egg', 952: 'prefer', 953: 'granola', 954: 'dissapointed', 955: 'short', 956: 'spot', 957: 'chi', 958: 'plocky', 959: 'acid', 960: 'packets', 961: 'tablets', 962: 'cakes', 963: 'raspberry', 964: 'somewhat', 965: 'concept', 966: 'lemons', 967: 'finicky', 968: 'mmmm', 969: 'inconsistent', 970: 'sardines', 971: 'soothing', 972: 'tad', 973: 'pricy', 974: 'christmas', 975: 'boring', 976: 'stonewall', 977: 'rodeo', 978: 'drive', 979: 'gets', 980: 'stock', 981: 'vs', 982: 'mmmmmm', 983: 'balanced', 984: 'digestion', 985: 'caviar', 986: 'scratch', 987: 'set', 988: 'grain', 989: 'lightly', 990: 'agar', 991: 'newmans', 992: 'gives', 993: 'gas', 994: 'doggie', 995: 'count', 996: 'guests', 997: 'consistency', 998: 'erin', 999: 'toddlers', 1000: 'describe', 1001: 'pre', 1002: 'take', 1003: 'pounds', 1004: 'city', 1005: 'terribly', 1006: 'arrival', 1007: 'pink', 1008: 'fav', 1009: 'easier', 1010: 'buffalo', 1011: 'deliver', 1012: 'america', 1013: 'filled', 1014: 'vidalia', 1015: 'dish', 1016: 'deliciously', 1017: 'sugars', 1018: 'latte', 1019: 'st', 1020: 'rate', 1021: 'dipping', 1022: 'community', 1023: 'monitor', 1024: 'action', 1025: 'pets', 1026: 'cough', 1027: 'shows', 1028: 'colic', 1029: 'also', 1030: 'lb', 1031: 'cal', 1032: 'harvest', 1033: 'eb', 1034: 'believe', 1035: 'locally', 1036: 'overall', 1037: 'pet', 1038: 'acquired', 1039: 'grammy', 1040: 'pot', 1041: 'risotto', 1042: 'strength', 1043: 'rave', 1044: 'vegetable', 1045: 'melitta', 1046: 'bitterness', 1047: 'similac', 1048: 'barbeque', 1049: 'definately', 1050: 'oils', 1051: 'inside', 1052: 'news', 1053: 'vomiting', 1054: 'plum', 1055: 'lifesaver', 1056: 'jack', 1057: 'usual', 1058: 'firm', 1059: 'maker', 1060: 'quickly', 1061: 'drinks', 1062: 'soo', 1063: 'sugary', 1064: 'subscription', 1065: 'tastey', 1066: 'chemicals', 1067: 'ramen', 1068: 'blueberries', 1069: 'soups', 1070: 'reasonably', 1071: 'place', 1072: 'ketchup', 1073: 'barbecue', 1074: 'mountain', 1075: 'delicate', 1076: 'crumbs', 1077: 'hooked', 1078: 'meats', 1079: 'pressure', 1080: 'overly', 1081: 'despite', 1082: 'aid', 1083: 'success', 1084: 'x', 1085: 'break', 1086: 'neat', 1087: 'brewer', 1088: 'relief', 1089: 'pod', 1090: 'offer', 1091: 'chemical', 1092: 'budget', 1093: 'exceptional', 1094: 'beats', 1095: 'shipment', 1096: 'juices', 1097: 'incredible', 1098: 'pleasant', 1099: 'drinkers', 1100: 'additive', 1101: 'sauces', 1102: 'check', 1103: 'marinade', 1104: 'drop', 1105: 'digestive', 1106: 'rather', 1107: 'twizzlers', 1108: 'anymore', 1109: 'larger', 1110: 'dop', 1111: 'major', 1112: 'breed', 1113: 'hand', 1114: 'oolong', 1115: 'yay', 1116: 'mother', 1117: 'late', 1118: 'peanuts', 1119: 'pictured', 1120: 'uses', 1121: 'american', 1122: 'diets', 1123: 'caveat', 1124: 'fondant', 1125: 'chew', 1126: 'island', 1127: 'starter', 1128: 'via', 1129: 'period', 1130: 'years', 1131: 'quantity', 1132: 'combination', 1133: 'carbonation', 1134: 'cheaply', 1135: 'superior', 1136: 'pudding', 1137: 'certified', 1138: 'mango', 1139: 'shot', 1140: 'senior', 1141: 'aromatic', 1142: 'bottles', 1143: 'wasa', 1144: 'indeed', 1145: 'comes', 1146: 'graham', 1147: 'effect', 1148: 'kick', 1149: 'unbelievable', 1150: 'rest', 1151: 'dipped', 1152: 'trans', 1153: 'escapes', 1154: 'purpose', 1155: 'job', 1156: 'called', 1157: 'brownies', 1158: 'pleasure', 1159: 'fly', 1160: 'pb', 1161: 'sandwich', 1162: 'poorly', 1163: 'sealed', 1164: 'doctor', 1165: 'nutty', 1166: 'hidden', 1167: 'hawaiian', 1168: 'sold', 1169: 'um', 1170: 'large', 1171: 'risk', 1172: 'asian', 1173: 'mary', 1174: 'avoid', 1175: 'vitakraft', 1176: 'constipation', 1177: 'smoked', 1178: 'crowd', 1179: 'fooled', 1180: 'reliable', 1181: 'sweetness', 1182: 'killed', 1183: 'expiration', 1184: 'warm', 1185: 'keebler', 1186: 'cheddar', 1187: 'slow', 1188: 'pretzel', 1189: 'impressive', 1190: 'clams', 1191: 'mine', 1192: 'call', 1193: 'nana', 1194: 'ummm', 1195: 'might', 1196: 'aware', 1197: 'kups', 1198: 'pretzels', 1199: 'grape', 1200: 'surprising', 1201: 'perfectly', 1202: 'weeks', 1203: 'reviewers', 1204: 'definite', 1205: 'golden', 1206: 'shells', 1207: 'leave', 1208: 'shop', 1209: 'list', 1210: 'yummmmm', 1211: 'unless', 1212: 'ol', 1213: 'packages', 1214: 'lost', 1215: 'habanero', 1216: 'robust', 1217: 'however', 1218: 'berries', 1219: 'garbage', 1220: 'omaha', 1221: 'koma', 1222: 'sugarless', 1223: 'higher', 1224: 'trip', 1225: 'friendly', 1226: 'greek', 1227: 'pleasantly', 1228: 'hopes', 1229: 'deceptive', 1230: 'venus', 1231: 'bright', 1232: 'ole', 1233: 'next', 1234: 'said', 1235: 'mate', 1236: 'near', 1237: 'ener', 1238: 'contain', 1239: 'seller', 1240: 'cigars', 1241: 'finish', 1242: 'darn', 1243: 'relaxing', 1244: 'hey', 1245: 'lite', 1246: 'molasses', 1247: 'yummo', 1248: 'case', 1249: 'yummm', 1250: 'colombian', 1251: 'approved', 1252: 'macaroni', 1253: 'assortment', 1254: 'mac', 1255: 'popular', 1256: 'pantry', 1257: 'plus', 1258: 'basic', 1259: 'cha', 1260: 'flat', 1261: 'wash', 1262: 'thats', 1263: 'staple', 1264: 'throw', 1265: 'truffle', 1266: 'defective', 1267: 'read', 1268: 'since', 1269: 'secret', 1270: 'h', 1271: 'rotten', 1272: 'snyder', 1273: 'hannah', 1274: 'tahini', 1275: 'tough', 1276: 'completely', 1277: 'hour', 1278: 'tuna', 1279: 'agave', 1280: 'nectar', 1281: 'difficult', 1282: 'wont', 1283: 'mistake', 1284: 'breath', 1285: 'soooo', 1286: 'color', 1287: 'jacks', 1288: 'mm', 1289: 'dieters', 1290: 'partially', 1291: 'hydrogenated', 1292: 'seriously', 1293: 'spices', 1294: 'naturals', 1295: 'walnut', 1296: 'tops', 1297: 'shots', 1298: 'kosher', 1299: 'see', 1300: 'diabetic', 1301: 'golf', 1302: 'tic', 1303: 'noodle', 1304: 'children', 1305: 'ordering', 1306: 'spiced', 1307: 'tested', 1308: 'yummers', 1309: 'adult', 1310: 'infant', 1311: 'beyond', 1312: 'paprika', 1313: 'results', 1314: 'traditional', 1315: 'dulce', 1316: 'leche', 1317: 'disposa', 1318: 'goats', 1319: 'caffeine', 1320: 'snob', 1321: 'sticky', 1322: 'greasy', 1323: 'im', 1324: 'delicioso', 1325: 'lays', 1326: 'eats', 1327: 'feed', 1328: 'childhood', 1329: 'glass', 1330: 'jarred', 1331: 'peas', 1332: 'ch', 1333: 'shake', 1334: 'bake', 1335: 'rishi', 1336: 'glorified', 1337: 'java', 1338: 'tip', 1339: 'cayenne', 1340: 'items', 1341: 'penny', 1342: 'gums', 1343: 'baker', 1344: 'experiment', 1345: 'brilliant', 1346: 'ounces', 1347: 'remembered', 1348: 'god', 1349: 'coriander', 1350: 'hawaii', 1351: 'swiss', 1352: 'usda', 1353: 'involved', 1354: 'tripping', 1355: 'tartlets', 1356: 'holy', 1357: 'felt', 1358: 'restaurant', 1359: 'refused', 1360: 'appealing', 1361: 'peace', 1362: 'prize', 1363: 'steam', 1364: 'dreams', 1365: 'nummy', 1366: 'jittery', 1367: 'powerful', 1368: 'fake', 1369: 'volume', 1370: 'adequate', 1371: 'horizon', 1372: 'cartons', 1373: 'stew', 1374: 'grows', 1375: 'sf', 1376: 'tortillas', 1377: 'human', 1378: 'knows', 1379: 'suprisingly', 1380: 'recording', 1381: 'missing', 1382: 'xylichew', 1383: 'spread', 1384: 'plug', 1385: 'play', 1386: 'theres', 1387: 'pc', 1388: 'beefeaters', 1389: 'lifestyle', 1390: 'remember', 1391: 'stix', 1392: 'past', 1393: 'combo', 1394: 'fragrance', 1395: 'min', 1396: 'identity', 1397: 'crisis', 1398: 'deception', 1399: 'wheats', 1400: 'moms', 1401: 'alright', 1402: 'jeremiah', 1403: 'zuke', 1404: 'turn', 1405: 'pesticide', 1406: 'rooibos', 1407: 'cento', 1408: 'san', 1409: 'kisses', 1410: 'died', 1411: 'freeze', 1412: 'seemed', 1413: 'bigger', 1414: 'flax', 1415: 'outthere', 1416: 'unremarkable', 1417: 'evening', 1418: 'england', 1419: 'splash', 1420: 'takes', 1421: 'pleases', 1422: 'economical', 1423: 'rays', 1424: 'ray', 1425: 'buyer', 1426: 'scam', 1427: 'woof', 1428: 'business', 1429: 'rancid', 1430: 'ages', 1431: 'vegetarians', 1432: 'addition', 1433: 'craving', 1434: 'ms', 1435: 'amazed', 1436: 'formulas', 1437: 'pioneer', 1438: 'purina', 1439: 'subscriber', 1440: 'nutritional', 1441: 'content', 1442: 'meaty', 1443: 'blueberry', 1444: 'brewed', 1445: 'tomatoes', 1446: 'melted', 1447: 'runts', 1448: 'carefully', 1449: 'meant', 1450: 'dane', 1451: 'thirst', 1452: 'jasmine', 1453: 'stephens', 1454: 'move', 1455: 'revolution', 1456: 'oyster', 1457: 'kavli', 1458: 'guy', 1459: 'bye', 1460: 'noisy', 1461: 'test', 1462: 'f', 1463: 'sleep', 1464: 'baxter', 1465: 'paper', 1466: 'pamela', 1467: 'healthful', 1468: 'raisins', 1469: 'kill', 1470: 'sports', 1471: 'imo', 1472: 'sell', 1473: 'l', 1474: 'crush', 1475: 'penta', 1476: 'paid', 1477: 'zesty', 1478: 'tight', 1479: 'containers', 1480: 'correct', 1481: 'grind', 1482: 'crab', 1483: 'hates', 1484: 'enriched', 1485: 'guilty', 1486: 'dinners', 1487: 'solved', 1488: 'straight', 1489: 'eaten', 1490: 'taters', 1491: 'roasted', 1492: 'puppies', 1493: 'spray', 1494: 'chocolatey', 1495: 'dissappointed', 1496: 'magical', 1497: 'carry', 1498: 'rescue', 1499: 'heavy', 1500: 'liquid', 1501: 'ass', 1502: 'kickin', 1503: 'sons', 1504: 'fussy', 1505: 'wanna', 1506: 'extreme', 1507: 'adorable', 1508: 'presentation', 1509: 'none', 1510: 'cut', 1511: 'users', 1512: 'indigestion', 1513: 'layer', 1514: 'contents', 1515: 'note', 1516: 'processed', 1517: 'grainy', 1518: 'benefit', 1519: 'acceptable', 1520: 'increased', 1521: 'gatorade', 1522: 'discovery', 1523: 'colors', 1524: 'intense', 1525: 'excellant', 1526: 'whey', 1527: 'bites', 1528: 'nutrient', 1529: 'preserves', 1530: 'jerkey', 1531: 'carries', 1532: 'excelent', 1533: 'candies', 1534: 'dough', 1535: 'earthy', 1536: 'mainly', 1537: 'exciting', 1538: 'pinch', 1539: 'versus', 1540: 'woeber', 1541: 'onions', 1542: 'dirt', 1543: 'puts', 1544: 'india', 1545: 'concentrated', 1546: 'worse', 1547: 'delighted', 1548: 'show', 1549: 'otherwise', 1550: 'decaffeinated', 1551: 'pringles', 1552: 'tins', 1553: 'blah', 1554: 'hoped', 1555: 'dad', 1556: 'shredded', 1557: 'point', 1558: 'ww', 1559: 'general', 1560: 'normal', 1561: 'trap', 1562: 'skip', 1563: 'mean', 1564: 'reason', 1565: 'happier', 1566: 'rub', 1567: 'doubt', 1568: 'mccormick', 1569: 'feline', 1570: 'stains', 1571: 'eaters', 1572: 'expect', 1573: 'improved', 1574: 'bloody', 1575: 'juicy', 1576: 'cents', 1577: 'inedible', 1578: 'condition', 1579: 'neither', 1580: 'words', 1581: 'confused', 1582: 'kitties', 1583: 'pg', 1584: 'tips', 1585: 'fix', 1586: 'usb', 1587: 'sound', 1588: 'setup', 1589: 'os', 1590: 'attention', 1591: 'bang', 1592: 'jell', 1593: 'satay', 1594: 'charges', 1595: 'excessive', 1596: 'aunt', 1597: 'garbanzo', 1598: 'madagascar', 1599: 'bedtime', 1600: 'car', 1601: 'sickness', 1602: 'stick', 1603: 'category', 1604: 'stay', 1605: 'wintergreen', 1606: 'citrus', 1607: 'music', 1608: 'palate', 1609: 'paradise', 1610: 'chopped', 1611: 'gmo', 1612: 'slice', 1613: 'om', 1614: 'trouble', 1615: 'giving', 1616: 'concentrate', 1617: 'steak', 1618: 'experimental', 1619: 'intolerance', 1620: 'carob', 1621: 'doggy', 1622: 'pricing', 1623: 'nespresso', 1624: 'child', 1625: 'insane', 1626: 'bummer', 1627: 'flavour', 1628: 'stir', 1629: 'barley', 1630: 'happen', 1631: 'oranges', 1632: 'godsend', 1633: 'infants', 1634: 'patty', 1635: 'hartz', 1636: 'yep', 1637: 'grounds', 1638: 'holder', 1639: 'reasonable', 1640: 'biscotti', 1641: 'pug', 1642: 'eukanuba', 1643: 'coating', 1644: 'wait', 1645: 'bakery', 1646: 'davidson', 1647: 'munchies', 1648: 'options', 1649: 'bits', 1650: 'refined', 1651: 'possibly', 1652: 'tassimo', 1653: 'educational', 1654: 'junk', 1655: 'preserve', 1656: 'extraordinary', 1657: 'mess', 1658: 'sufferer', 1659: 'ripoff', 1660: 'bucks', 1661: 'cravings', 1662: 'pill', 1663: 'basically', 1664: 'supplement', 1665: 'plenty', 1666: 'sooner', 1667: 'vegetables', 1668: 'gummi', 1669: 'considering', 1670: 'grapefruit', 1671: 'sweeter', 1672: 'refreshingly', 1673: 'recipes', 1674: 'incorrect', 1675: 'biscuit', 1676: 'worries', 1677: 'shocked', 1678: 'mae', 1679: 'ploy', 1680: 'hours', 1681: 'ridiculously', 1682: 'delicous', 1683: 'able', 1684: 'celiac', 1685: 'gag', 1686: 'twinings', 1687: 'moist', 1688: 'lip', 1689: 'trying', 1690: 'hfcs', 1691: 'reviewer', 1692: 'medicinal', 1693: 'gods', 1694: 'fortune', 1695: 'among', 1696: 'flytrap', 1697: 'chiclets', 1698: 'memories', 1699: 'deserves', 1700: 'thomy', 1701: 'alert', 1702: 'oooh', 1703: 'cajun', 1704: 'bubbles', 1705: 'anyone', 1706: 'vendor', 1707: 'smalls', 1708: 'birthday', 1709: 'wary', 1710: 'impossible', 1711: 'skinny', 1712: 'fyi', 1713: 'addiction', 1714: 'drinking', 1715: 'maple', 1716: 'supposed', 1717: 'become', 1718: 'chippoisseur', 1719: 'kit', 1720: 'brittle', 1721: 'thoughts', 1722: 'imitation', 1723: 'sorrento', 1724: 'lazzaroni', 1725: 'celebration', 1726: 'hibiscus', 1727: 'pat', 1728: 'microwave', 1729: 'popper', 1730: 'hull', 1731: 'outrageous', 1732: 'chef', 1733: 'unimpressed', 1734: 'second', 1735: 'pumkin', 1736: 'strongly', 1737: 'seasoned', 1738: 'farts', 1739: 'babka', 1740: 'cobbler', 1741: 'swedish', 1742: 'term', 1743: 'grains', 1744: 'sampler', 1745: 'hope', 1746: 'sized', 1747: 'satisfy', 1748: 'gerber', 1749: 'york', 1750: 'normally', 1751: 'earths', 1752: 'benefits', 1753: 'iffy', 1754: 'olives', 1755: 'directions', 1756: 'snappy', 1757: 'adults', 1758: 'trips', 1759: 'positive', 1760: 'tired', 1761: 'horrid', 1762: 'lavazza', 1763: 'mona', 1764: 'lisa', 1765: 'hemp', 1766: 'blue', 1767: 'style', 1768: 'seasonings', 1769: 'costco', 1770: 'kept', 1771: 'adds', 1772: 'mmmmmmmm', 1773: 'loss', 1774: 'stephen', 1775: 'rules', 1776: 'dents', 1777: 'anti', 1778: 'hmmm', 1779: 'flavoring', 1780: 'roasts', 1781: 'yogurt', 1782: 'uh', 1783: 'pickled', 1784: 'sausage', 1785: 'jr', 1786: 'rolls', 1787: 'azing', 1788: 'miraculous', 1789: 'filter', 1790: 'southwest', 1791: 'bank', 1792: 'friends', 1793: 'sumatra', 1794: 'kopi', 1795: 'perhaps', 1796: 'means', 1797: 'silken', 1798: 'mom', 1799: 'specialty', 1800: 'head', 1801: 'muddy', 1802: 'travel', 1803: 'soooooo', 1804: 'sausages', 1805: 'pub', 1806: 'italy', 1807: 'disposacups', 1808: 'spring', 1809: 'causes', 1810: 'poo', 1811: 'disposakup', 1812: 'pain', 1813: 'ton', 1814: 'royal', 1815: 'canin', 1816: 'matches', 1817: 'spritzer', 1818: 'fresca', 1819: 'trade', 1820: 'pastry', 1821: 'standards', 1822: 'club', 1823: 'deliciousness', 1824: 'izze', 1825: 'jalapeno', 1826: 'boy', 1827: 'multi', 1828: 'roses', 1829: 'shape', 1830: 'melt', 1831: 'cane', 1832: 'usually', 1833: 'saved', 1834: 'starch', 1835: 'wolfgand', 1836: 'brewing', 1837: 'ear', 1838: 'metallic', 1839: 'consistently', 1840: 'bring', 1841: 'purist', 1842: 'truffles', 1843: 'months', 1844: 'sparkling', 1845: 'harmony', 1846: 'vegetarian', 1847: 'carrying', 1848: 'keeping', 1849: 'feeding', 1850: 'school', 1851: 'lunches', 1852: 'skin', 1853: 'vomit', 1854: 'waiting', 1855: 'convienent', 1856: 'schnauzer', 1857: 'fiber', 1858: 'bills', 1859: 'lbs', 1860: 'la', 1861: 'forget', 1862: 'sooooo', 1863: 'veggie', 1864: 'clumpy', 1865: 'shortbread', 1866: 'bomb', 1867: 'overpowering', 1868: 'apriva', 1869: 'gravel', 1870: 'units', 1871: 'promised', 1872: 'empty', 1873: 'yucky', 1874: 'century', 1875: 'tradition', 1876: 'fizz', 1877: 'furniture', 1878: 'polish', 1879: 'tac', 1880: 'timely', 1881: 'harsh', 1882: 'fl', 1883: 'torn', 1884: 'ham', 1885: 'supermarket', 1886: 'salts', 1887: 'punch', 1888: 'celiacs', 1889: 'poop', 1890: 'seaweed', 1891: 'bliss', 1892: 'ripped', 1893: 'safety', 1894: 'tooth', 1895: 'sad', 1896: 'twists', 1897: 'listed', 1898: 'dental', 1899: 'thyme', 1900: 'japanese', 1901: 'jiffy', 1902: 'intolerant', 1903: 'prices', 1904: 'scored', 1905: 'lasting', 1906: 'gain', 1907: 'hits', 1908: 'doubled', 1909: 'photo', 1910: 'kernels', 1911: 'refreshment', 1912: 'bodied', 1913: 'trail', 1914: 'meals', 1915: 'hanover', 1916: 'smokies', 1917: 'ahoy', 1918: 'stuffed', 1919: 'senses', 1920: 'choco', 1921: 'container', 1922: 'gevalia', 1923: 'nite', 1924: 'bully', 1925: 'offering', 1926: 'heart', 1927: 'german', 1928: 'shepherd', 1929: 'cheesecake', 1930: 'returning', 1931: 'kernals', 1932: 'umm', 1933: 'covered', 1934: 'went', 1935: 'stride', 1936: 'tub', 1937: 'improving', 1938: 'google', 1939: 'reports', 1940: 'suspected', 1941: 'poisoning', 1942: 'jgk', 1943: 'transformed', 1944: 'wafer', 1945: 'spicey', 1946: 'successful', 1947: 'mc', 1948: 'cormicks', 1949: 'alfredo', 1950: 'signature', 1951: 'slurp', 1952: 'weigh', 1953: 'fluid', 1954: 'places', 1955: 'newsflash', 1956: 'kobe', 1957: 'jamaca', 1958: 'expecting', 1959: 'reconsider', 1960: 'entire', 1961: 'chalet', 1962: 'bailey', 1963: 'lemonylicious', 1964: 'preferred', 1965: 'guys', 1966: 'elegant', 1967: 'moly', 1968: 'isnt', 1969: 'thief', 1970: 'football', 1971: 'habla', 1972: 'espanol', 1973: 'nobel', 1974: 'smithinsight', 1975: 'mouse', 1976: 'tantalizing', 1977: 'scattered', 1978: 'distribution', 1979: 'ghiardelli', 1980: 'palatable', 1981: 'cause', 1982: 'clogged', 1983: 'decaaff', 1984: 'aseptic', 1985: 'proper', 1986: 'taco', 1987: 'bringing', 1988: 'cows', 1989: 'minority', 1990: 'stepens', 1991: 'candycane', 1992: 'oat', 1993: 'bistro', 1994: 'fazer', 1995: 'charred', 1996: 'lowers', 1997: 'cinn', 1998: 'tst', 1999: 'women', 2000: 'project', 2001: 'trusted', 2002: 'merits', 2003: 'galaxymoney', 2004: 'chain', 2005: 'ehhh', 2006: 'ideas', 2007: 'floral', 2008: 'latency', 2009: 'guiltless', 2010: 'delisious', 2011: 'wherever', 2012: 'type', 2013: 'swizzles', 2014: 'tripe', 2015: 'inch', 2016: 'pixy', 2017: 'tunnel', 2018: 'follow', 2019: 'sublime', 2020: 'pin', 2021: 'skeptical', 2022: 'sunchang', 2023: 'gochujang', 2024: 'cornflour', 2025: 'regualr', 2026: 'jo', 2027: 'cramping', 2028: 'jules', 2029: 'pulp', 2030: 'fiction', 2031: 'margherita', 2032: 'smoky', 2033: 'yowzah', 2034: 'chemo', 2035: 'patient', 2036: 'language', 2037: 'barrier', 2038: 'ricore', 2039: 'perversion', 2040: 'undrinkable', 2041: 'kuhflecken', 2042: 'nose', 2043: 'uuuuum', 2044: 'knees', 2045: 'expires', 2046: 'soon', 2047: 'piggie', 2048: 'skins', 2049: 'marzano', 2050: 'verge', 2051: 'three', 2052: 'receiving', 2053: 'grandson', 2054: 'flamingo', 2055: 'timey', 2056: 'casual', 2057: 'crappy', 2058: 'grew', 2059: 'commercial', 2060: 'originals', 2061: 'greenbox', 2062: 'customers', 2063: 'cashew', 2064: 'mainstream', 2065: 'solves', 2066: 'within', 2067: 'based', 2068: 'yummie', 2069: 'deeelicious', 2070: 'fallin', 2071: 'apart', 2072: 'corroded', 2073: 'west', 2074: 'hella', 2075: 'buffet', 2076: 'trashcan', 2077: 'shell', 2078: 'jitters', 2079: 'smokin', 2080: 'scottie', 2081: 'drain', 2082: 'goji', 2083: 'maca', 2084: 'instruction', 2085: 'translation', 2086: 'solvers', 2087: 'acne', 2088: 'tiniest', 2089: 'plan', 2090: 'sharing', 2091: 'number', 2092: 'eggcellent', 2093: 'supplemental', 2094: 'correction', 2095: 'satisfies', 2096: 'cry', 2097: 'tears', 2098: 'addicitive', 2099: 'sugarfree', 2100: 'ahhhh', 2101: 'salsas', 2102: 'iodine', 2103: 'valentine', 2104: 'teabags', 2105: 'gagging', 2106: 'wet', 2107: 'disguising', 2108: 'dutch', 2109: 'herr', 2110: 'lethal', 2111: 'weighs', 2112: 'label', 2113: 'sharp', 2114: 'object', 2115: 'defend', 2116: 'self', 2117: 'da', 2118: 'vinci', 2119: 'lid', 2120: 'twins', 2121: 'basics', 2122: 'twist', 2123: 'modern', 2124: 'fanastic', 2125: 'match', 2126: 'francisco', 2127: 'bay', 2128: 'subsitute', 2129: 'door', 2130: 'adding', 2131: 'mellowed', 2132: 'quenching', 2133: 'specks', 2134: 'initially', 2135: 'peet', 2136: 'dominant', 2137: 'personally', 2138: 'es', 2139: 'muy', 2140: 'buena', 2141: 'para', 2142: 'bebes', 2143: 'con', 2144: 'problemas', 2145: 'alergias', 2146: 'alimenticias', 2147: 'teaching', 2148: 'quencher', 2149: 'questionable', 2150: 'outta', 2151: 'holistic', 2152: 'select', 2153: 'crumbly', 2154: 'aguas', 2155: 'frescas', 2156: 'greenie', 2157: 'brachs', 2158: 'manderin', 2159: 'rocket', 2160: 'lucini', 2161: 'thumb', 2162: 'rated', 2163: 'frozen', 2164: 'unnatural', 2165: 'schmaffles', 2166: 'blind', 2167: 'wrappers', 2168: 'bulk', 2169: 'sweeteners', 2170: 'restaurants', 2171: 'worry', 2172: 'ladies', 2173: 'dances', 2174: 'spirit', 2175: 'aloha', 2176: 'scared', 2177: 'sophia', 2178: 'diarhea', 2179: 'cozy', 2180: 'listened', 2181: 'cliff', 2182: 'recovery', 2183: 'enjoys', 2184: 'patchi', 2185: 'alcohol', 2186: 'hear', 2187: 'grandma', 2188: 'shopper', 2189: 'oprah', 2190: 'chaser', 2191: 'fleshed', 2192: 'filler', 2193: 'smooooth', 2194: 'wheaten', 2195: 'terrier', 2196: 'tummies', 2197: 'twin', 2198: 'niece', 2199: 'nephew', 2200: 'shower', 2201: 'favor', 2202: 'website', 2203: 'eastern', 2204: 'spearmint', 2205: 'modulated', 2206: 'substantial', 2207: 'potion', 2208: 'measured', 2209: 'storage', 2210: 'figured', 2211: 'eliminate', 2212: 'fibergourmet', 2213: 'penne', 2214: 'competitor', 2215: 'unbeleivable', 2216: 'feeling', 2217: 'bugs', 2218: 'accurate', 2219: 'kebob', 2220: 'ew', 2221: 'gaain', 2222: 'twenty', 2223: 'whatsoever', 2224: 'horribly', 2225: 'heinz', 2226: 'utterly', 2227: 'reviewing', 2228: 'mistakes', 2229: 'safeway', 2230: 'carried', 2231: 'weve', 2232: 'sooooooooooo', 2233: 'imperial', 2234: 'chunky', 2235: 'corral', 2236: 'horse', 2237: 'additional', 2238: 'electric', 2239: 'tape', 2240: 'kittens', 2241: 'ibd', 2242: 'beautifuly', 2243: 'citrusy', 2244: 'menu', 2245: 'reusable', 2246: 'mashed', 2247: 'claims', 2248: 'person', 2249: 'countries', 2250: 'cadbury', 2251: 'pup', 2252: 'hc', 2253: 'lethargic', 2254: 'storm', 2255: 'sass', 2256: 'hulless', 2257: 'ick', 2258: 'cleansing', 2259: 'cloying', 2260: 'funky', 2261: 'canidae', 2262: 'possible', 2263: 'rawhides', 2264: 'scores', 2265: 'risks', 2266: 'comsumers', 2267: 'slim', 2268: 'jim', 2269: 'indonesia', 2270: 'loooooooove', 2271: 'law', 2272: 'graces', 2273: 'un', 2274: 'pschologically', 2275: 'franch', 2276: 'cherrybrook', 2277: 'petite', 2278: 'fabuloous', 2279: 'bladder', 2280: 'cysts', 2281: 'deeeeelicious', 2282: 'blows', 2283: 'majorly', 2284: 'matcha', 2285: 'olate', 2286: 'chest', 2287: 'blow', 2288: 'marry', 2289: 'breezy', 2290: 'crunchiness', 2291: 'moisture', 2292: 'gaaak', 2293: 'choked', 2294: 'crushed', 2295: 'restricted', 2296: 'reflect', 2297: 'mccanns', 2298: 'steel', 2299: 'patience', 2300: 'emptor', 2301: 'dropped', 2302: 'plane', 2303: 'buttercream', 2304: 'hater', 2305: 'proportions', 2306: 'triscuits', 2307: 'deadly', 2308: 'south', 2309: 'enfamil', 2310: 'pk', 2311: 'js', 2312: 'alcoholic', 2313: 'yumminess', 2314: 'wolfgan', 2315: 'bottled', 2316: 'determine', 2317: 'ive', 2318: 'itching', 2319: 'adzuki', 2320: 'mxl', 2321: 'micmate', 2322: 'happiness', 2323: 'deep', 2324: 'hill', 2325: 'painful', 2326: 'al', 2327: 'agricultural', 2328: 'practices', 2329: 'satisfactory', 2330: 'wide', 2331: 'choices', 2332: 'tiki', 2333: 'mays', 2334: 'truely', 2335: 'andrew', 2336: 'weil', 2337: 'recommends', 2338: 'stimulate', 2339: 'flow', 2340: 'allergen', 2341: 'condensor', 2342: 'citizens', 2343: 'fro', 2344: 'camper', 2345: 'tv', 2346: 'bissinger', 2347: 'opening', 2348: 'sees', 2349: 'barbeques', 2350: 'macchiatos', 2351: 'disfigured', 2352: 'unusable', 2353: 'napoletana', 2354: 'mangia', 2355: 'ultra', 2356: 'hail', 2357: 'israelis', 2358: 'popocorn', 2359: 'intro', 2360: 'spherification', 2361: 'seem', 2362: 'carrots', 2363: 'turned', 2364: 'taro', 2365: 'slimy', 2366: 'def', 2367: 'known', 2368: 'fisher', 2369: 'pecan', 2370: 'wolf', 2371: 'gang', 2372: 'sleeper', 2373: 'supreme', 2374: 'gram', 2375: 'apparently', 2376: 'chalk', 2377: 'chalkolate', 2378: 'wu', 2379: 'yi', 2380: 'ehh', 2381: 'rejoice', 2382: 'ye', 2383: 'texans', 2384: 'southerners', 2385: 'uk', 2386: 'natures', 2387: 'logic', 2388: 'venisen', 2389: 'consumer', 2390: 'laser', 2391: 'awesomness', 2392: 'pruduct', 2393: 'stupid', 2394: 'poured', 2395: 'turkey', 2396: 'leads', 2397: 'mmmmmmmmm', 2398: 'cornmeal', 2399: 'grand', 2400: 'cross', 2401: 'bonus', 2402: 'complain', 2403: 'hamburger', 2404: 'eleteamazon', 2405: 'pwdr', 2406: 'cranberries', 2407: 'butters', 2408: 'salmon', 2409: 'purchaser', 2410: 'booster', 2411: 'talked', 2412: 'gal', 2413: 'amout', 2414: 'pomeranian', 2415: 'dash', 2416: 'amedei', 2417: 'melts', 2418: 'uneatable', 2419: 'tulsi', 2420: 'minor', 2421: 'flaws', 2422: 'vinegary', 2423: 'scoffee', 2424: 'buzz', 2425: 'famous', 2426: 'mmmmmmmmmmmmmmmmmmmmmmm', 2427: 'site', 2428: 'sources', 2429: 'shaped', 2430: 'informed', 2431: 'largest', 2432: 'ingrident', 2433: 'revolting', 2434: 'ii', 2435: 'burggirl', 2436: 'sorta', 2437: 'buzzzzzzzzzz', 2438: 'butlers', 2439: 'nutrisentials', 2440: 'lean', 2441: 'decorative', 2442: 'vomits', 2443: 'dandy', 2444: 'warms', 2445: 'soul', 2446: 'shattering', 2447: 'flatter', 2448: 'timothy', 2449: 'dest', 2450: 'level', 2451: 'rumford', 2452: 'double', 2453: 'lugubrious', 2454: 'mcclures', 2455: 'weightwatchers', 2456: 'popcorrn', 2457: 'seloler', 2458: 'chocolately', 2459: 'occassions', 2460: 'per', 2461: 'classy', 2462: 'orbit', 2463: 'weekend', 2464: 'mucus', 2465: 'drainage', 2466: 'sharkies', 2467: 'peaches', 2468: 'imported', 2469: 'hong', 2470: 'kong', 2471: 'intolerable', 2472: 'upon', 2473: 'hickory', 2474: 'families', 2475: 'pleaser', 2476: 'nunaturals', 2477: 'nustevia', 2478: 'chai', 2479: 'cholesterol', 2480: 'fail', 2481: 'problematic', 2482: 'feeder', 2483: 'burnt', 2484: 'toast', 2485: 'xlr', 2486: 'interfaces', 2487: 'helpful', 2488: 'grainfree', 2489: 'liquibuy', 2490: 'create', 2491: 'exquisite', 2492: 'decorations', 2493: 'warmth', 2494: 'dunkin', 2495: 'donuts', 2496: 'cooper', 2497: 'lager', 2498: 'soso', 2499: 'helped', 2500: 'route', 2501: 'compatible', 2502: 'delightfully', 2503: 'gussies', 2504: 'highfat', 2505: 'millet', 2506: 'chocolaty', 2507: 'tijuana', 2508: 'flats', 2509: 'lowered', 2510: 'smelling', 2511: 'bourbon', 2512: 'geliva', 2513: 'motion', 2514: 'village', 2515: 'basmati', 2516: 'marathon', 2517: 'shining', 2518: 'kikkoman', 2519: 'antimo', 2520: 'capputo', 2521: 'matinis', 2522: 'looseleaf', 2523: 'alison', 2524: 'elves', 2525: 'dijon', 2526: 'ny', 2527: 'schrumshist', 2528: 'yah', 2529: 'page', 2530: 'shrunk', 2531: 'took', 2532: 'sweeatners', 2533: 'dead', 2534: 'entree', 2535: 'unpopular', 2536: 'happens', 2537: 'kentucky', 2538: 'sickening', 2539: 'attack', 2540: 'equals', 2541: 'dare', 2542: 'verona', 2543: 'beaufort', 2544: 'decaffeninated', 2545: 'costly', 2546: 'prepare', 2547: 'faygo', 2548: 'pressed', 2549: 'varieties', 2550: 'shure', 2551: 'sm', 2552: 'lacking', 2553: 'happymorning', 2554: 'smoothest', 2555: 'coofee', 2556: 'david', 2557: 'thinking', 2558: 'trial', 2559: 'error', 2560: 'eden', 2561: 'useful', 2562: 'lactose', 2563: 'dandelion', 2564: 'closer', 2565: 'toasty', 2566: 'grandkids', 2567: 'differently', 2568: 'whee', 2569: 'settle', 2570: 'nonthing', 2571: 'deadheads', 2572: 'attacks', 2573: 'particular', 2574: 'table', 2575: 'slipped', 2576: 'award', 2577: 'winning', 2578: 'mmmmmmm', 2579: 'fruitcake', 2580: 'june', 2581: 'champions', 2582: 'exalant', 2583: 'blech', 2584: 'liking', 2585: 'sense', 2586: 'sensation', 2587: 'rudolph', 2588: 'gingerbread', 2589: 'trees', 2590: 'doubtful', 2591: 'whiskers', 2592: 'boulder', 2593: 'malt', 2594: 'heidi', 2595: 'run', 2596: 'diabetics', 2597: 'lows', 2598: 'wp', 2599: 'dine', 2600: 'rawhide', 2601: 'rolled', 2602: 'spews', 2603: 'rode', 2604: 'jamaican', 2605: 'lacey', 2606: 'dorkie', 2607: 'shockingly', 2608: 'prone', 2609: 'resist', 2610: 'pugs', 2611: 'fulfillment', 2612: 'powdery', 2613: 'overdone', 2614: 'aw', 2615: 'ins', 2616: 'popping', 2617: 'manga', 2618: 'till', 2619: 'fall', 2620: 'easter', 2621: 'quaker', 2622: 'darjeeling', 2623: 'madhouse', 2624: 'halal', 2625: 'colcafe', 2626: 'greaatt', 2627: 'wired', 2628: 'skeptic', 2629: 'ignored', 2630: 'mixer', 2631: 'quanty', 2632: 'tropicana', 2633: 'holes', 2634: 'bolder', 2635: 'perplexed', 2636: 'nobody', 2637: 'rosey', 2638: 'oatcakes', 2639: 'wimps', 2640: 'innocence', 2641: 'ddjj', 2642: 'hisbiscus', 2643: 'vallys', 2644: 'thins', 2645: 'lack', 2646: 'coffeemaker', 2647: 'essentials', 2648: 'fantastically', 2649: 'doodle', 2650: 'ferret', 2651: 'thus', 2652: 'capsules', 2653: 'gusta', 2654: 'guayusa', 2655: 'sunbutter', 2656: 'ic', 2657: 'monopoly', 2658: 'told', 2659: 'merchandise', 2660: 'reduced', 2661: 'spit', 2662: 'duncan', 2663: 'hines', 2664: 'penguin', 2665: 'pooper', 2666: 'discouraged', 2667: 'thirty', 2668: 'wallpaper', 2669: 'aspetic', 2670: 'rat', 2671: 'terriers', 2672: 'queen', 2673: 'gravies', 2674: 'flintstone', 2675: 'anticipated', 2676: 'az', 2677: 'notice', 2678: 'lower', 2679: 'er', 2680: 'carbers', 2681: 'fridge', 2682: 'chomping', 2683: 'batman', 2684: 'coma', 2685: 'lumps', 2686: 'stronger', 2687: 'blowing', 2688: 'reeks', 2689: 'lighter', 2690: 'nowadays', 2691: 'mexico', 2692: 'mid', 2693: 'retail', 2694: 'cautious', 2695: 'resealable', 2696: 'ounc', 2697: 'catfish', 2698: 'confirmed', 2699: 'laxative', 2700: 'sells', 2701: 'talent', 2702: 'roy', 2703: 'columbia', 2704: 'ct', 2705: 'acai', 2706: 'brainer', 2707: 'goooood', 2708: 'altering', 2709: 'wonderfully', 2710: 'jello', 2711: 'absotively', 2712: 'posilutely', 2713: 'ummmm', 2714: 'losing', 2715: 'tamer', 2716: 'stated', 2717: 'smackin', 2718: 'flavorice', 2719: 'yea', 2720: 'wilted', 2721: 'zing', 2722: 'previous', 2723: 'reflux', 2724: 'bucket', 2725: 'angel', 2726: 'puffs', 2727: 'stocking', 2728: 'adaptor', 2729: 'computer', 2730: 'pico', 2731: 'pica', 2732: 'wrapped', 2733: 'securely', 2734: 'produced', 2735: 'chile', 2736: 'medaglia', 2737: 'oro', 2738: 'richest', 2739: 'muesli', 2740: 'bees', 2741: 'jz', 2742: 'fond', 2743: 'fudge', 2744: 'running', 2745: 'batter', 2746: 'scharfer', 2747: 'senf', 2748: 'repeated', 2749: 'deliveries', 2750: 'college', 2751: 'student', 2752: 'biryani', 2753: 'graet', 2754: 'share', 2755: 'tomalley', 2756: 'thinks', 2757: 'carbon', 2758: 'footprint', 2759: 'similar', 2760: 'afford', 2761: 'thailand', 2762: 'iv', 2763: 'lousey', 2764: 'lookin', 2765: 'breaking', 2766: 'saviour', 2767: 'distressed', 2768: 'juniper', 2769: 'kiss', 2770: 'yerba', 2771: 'superhot', 2772: 'seemingly', 2773: 'minty', 2774: 'premade', 2775: 'nutter', 2776: 'tabs', 2777: 'opposed', 2778: 'rewarding', 2779: 'rubber', 2780: 'carbs', 2781: 'decadent', 2782: 'porcini', 2783: 'watching', 2784: 'intake', 2785: 'personal', 2786: 'kup', 2787: 'chutney', 2788: 'princess', 2789: 'latin', 2790: 'disco', 2791: 'fever', 2792: 'teeny', 2793: 'reward', 2794: 'following', 2795: 'commands', 2796: 'spam', 2797: 'farmhouse', 2798: 'kidding', 2799: 'goo', 2800: 'ridiculous', 2801: 'soothingly', 2802: 'amarettini', 2803: 'apfelsaftschorle', 2804: 'americans', 2805: 'cheat', 2806: 'superlative', 2807: 'awesomely', 2808: 'glycemic', 2809: 'aritfical', 2810: 'ohgave', 2811: 'dependable', 2812: 'announcement', 2813: 'smokers', 2814: 'tatsy', 2815: 'monin', 2816: 'sassafrass', 2817: 'herbals', 2818: 'recommendation', 2819: 'saba', 2820: 'poppin', 2821: 'easiest', 2822: 'burning', 2823: 'ex', 2824: 'australian', 2825: 'glorious', 2826: 'transportable', 2827: 'buen', 2828: 'sonido', 2829: 'champagne', 2830: 'intend', 2831: 'decorate', 2832: 'outdated', 2833: 'comment', 2834: 'casablanca', 2835: 'changes', 2836: 'sweeeeet', 2837: 'tot', 2838: 'enthusiasm', 2839: 'zukes', 2840: 'goatmilkdrinker', 2841: 'exceptions', 2842: 'rotel', 2843: 'basis', 2844: 'ehkkkkkkkkkkkkkkk', 2845: 'hefty', 2846: 'kiwi', 2847: 'martinis', 2848: 'standout', 2849: 'yumm', 2850: 'fish', 2851: 'burn', 2852: 'awesomeness', 2853: 'morton', 2854: 'quanity', 2855: 'discontinued', 2856: 'seasonal', 2857: 'superfoods', 2858: 'xmas', 2859: 'motto', 2860: 'fits', 2861: 'walley', 2862: 'movies', 2863: 'ways', 2864: 'rounded', 2865: 'relationship', 2866: 'smiles', 2867: 'bait', 2868: 'target', 2869: 'according', 2870: 'stinger', 2871: 'moderately', 2872: 'spongetastic', 2873: 'girls', 2874: 'diappointed', 2875: 'yummmyyyy', 2876: 'bisphenol', 2877: 'scarce', 2878: 'honest', 2879: 'politicians', 2880: 'fully', 2881: 'choloate', 2882: 'fencing', 2883: 'saddlebag', 2884: 'dispenser', 2885: 'ziwipeak', 2886: 'fluorescent', 2887: 'mishmash', 2888: 'unfortunately', 2889: 'pathetic', 2890: 'response', 2891: 'info', 2892: 'weavers', 2893: 'temptations', 2894: 'belong', 2895: 'various', 2896: 'elaborate', 2897: 'hight', 2898: 'dessicated', 2899: 'pepperoni', 2900: 'dee', 2901: 'lish', 2902: 'imagined', 2903: 'calming', 2904: 'allows', 2905: 'relax', 2906: 'hydration', 2907: 'zippy', 2908: 'refrigeration', 2909: 'hormones', 2910: 'antibiotics', 2911: 'chinese', 2912: 'titled', 2913: 'sweets', 2914: 'au', 2915: 'gratin', 2916: 'birds', 2917: 'critters', 2918: 'halves', 2919: 'preventing', 2920: 'cramps', 2921: 'seen', 2922: 'twangy', 2923: 'shopping', 2924: 'displayed', 2925: 'woofs', 2926: 'eeevvveeerrr', 2927: 'squism', 2928: 'saying', 2929: 'mackeral', 2930: 'artifical', 2931: 'riviera', 2932: 'sunset', 2933: 'wowwie', 2934: 'tepid', 2935: 'mmmmmmmeeeeeeeeeeooooooooooowwwwwww', 2936: 'grrrrrreat', 2937: 'dissapointing', 2938: 'amended', 2939: 'death', 2940: 'increasing', 2941: 'fiesta', 2942: 'fudgy', 2943: 'wudgy', 2944: 'unparalleled', 2945: 'gingery', 2946: 'kefir', 2947: 'grreat', 2948: 'tropical', 2949: 'styrofoam', 2950: 'mention', 2951: 'evaporated', 2952: 'orgasmic', 2953: 'folgers', 2954: 'inorganic', 2955: 'arsenic', 2956: 'throat', 2957: 'flavia', 2958: 'explosion', 2959: 'unbeatable', 2960: 'oldest', 2961: 'nescafe', 2962: 'availability', 2963: 'flaxseed', 2964: 'bagged', 2965: 'cofffee', 2966: 'promising', 2967: 'guaranteed', 2968: 'pluses', 2969: 'texasgirl', 2970: 'jv', 2971: 'envelope', 2972: 'guidance', 2973: 'americano', 2974: 'mist', 2975: 'kibble', 2976: 'habit', 2977: 'forming', 2978: 'bent', 2979: 'michigan', 2980: 'sheds', 2981: 'patties', 2982: 'puked', 2983: 'slop', 2984: 'alittle', 2985: 'soupy', 2986: 'reorder', 2987: 'poison', 2988: 'presence', 2989: 'pez', 2990: 'scott', 2991: 'chowda', 2992: 'replicator', 2993: 'neighborhood', 2994: 'festival', 2995: 'baldwin', 2996: 'dachshunds', 2997: 'perker', 2998: 'upper', 2999: 'oxidant', 3000: 'smoothie', 3001: 'hated', 3002: 'simplicity', 3003: 'teen', 3004: 'hmmmm', 3005: 'ehhhhhh', 3006: 'cavemen', 3007: 'wealthy', 3008: 'anyway', 3009: 'argentina', 3010: 'wasabi', 3011: 'traveling', 3012: 'throwing', 3013: 'diaper', 3014: 'ho', 3015: 'hum', 3016: 'woflgang', 3017: 'yuh', 3018: 'gallon', 3019: 'unlisted', 3020: 'bisque', 3021: 'dehydrated', 3022: 'unsafe', 3023: 'specialties', 3024: 'royce', 3025: 'providers', 3026: 'reminiscent', 3027: 'irish', 3028: 'appreciate', 3029: 'aight', 3030: 'yeah', 3031: 'improvement', 3032: 'due', 3033: 'broke', 3034: 'several', 3035: 'internet', 3036: 'county', 3037: 'remebered', 3038: 'catfood', 3039: 'lucas', 3040: 'lindt', 3041: 'pistachio', 3042: 'bi', 3043: 'witch', 3044: 'moan', 3045: 'pkg', 3046: 'addictively', 3047: 'certain', 3048: 'efforts', 3049: 'raya', 3050: 'oldie', 3051: 'ideal', 3052: 'cornhusker', 3053: 'cured', 3054: 'pregnancy', 3055: 'heartburn', 3056: 'themed', 3057: 'ewwwww', 3058: 'misnamed', 3059: 'sucks', 3060: 'cloudy', 3061: 'impurities', 3062: 'strictly', 3063: 'wallop', 3064: 'marley', 3065: 'mood', 3066: 'lemonade', 3067: 'costa', 3068: 'rican', 3069: 'export', 3070: 'luzianne', 3071: 'bellini', 3072: 'sourced', 3073: 'searching', 3074: 'q', 3075: 'dye', 3076: 'bulldogs', 3077: 'decilious', 3078: 'planning', 3079: 'mori', 3080: 'nu', 3081: 'chives', 3082: 'soap', 3083: 'ceral', 3084: 'overweight', 3085: 'orphan', 3086: 'foal', 3087: 'backup', 3088: 'minutes', 3089: 'lucy', 3090: 'dogfood', 3091: 'dripping', 3092: 'flu', 3093: 'seconds', 3094: 'heals', 3095: 'mug', 3096: 'spectrum', 3097: 'otto', 3098: 'moment', 3099: 'smash', 3100: 'shabby', 3101: 'saving', 3102: 'amyjon', 3103: 'polenta', 3104: 'legendary', 3105: 'delicioius', 3106: 'talkingrain', 3107: 'beaver', 3108: 'mayonnaise', 3109: 'endurance', 3110: 'athletes', 3111: 'indian', 3112: 'dhall', 3113: 'bisquik', 3114: 'toss', 3115: 'gadget', 3116: 'tortill', 3117: 'thymes', 3118: 'meyer', 3119: 'train', 3120: 'stage', 3121: 'dill', 3122: 'healing', 3123: 'conversation', 3124: 'piece', 3125: 'crown', 3126: 'jewels', 3127: 'sheltie', 3128: 'adores', 3129: 'defeat', 3130: 'nanas', 3131: 'orzo', 3132: 'cholestrol', 3133: 'snaggle', 3134: 'toothed', 3135: 'riceworks', 3136: 'mongolian', 3137: 'tasten', 3138: 'olds', 3139: 'prime', 3140: 'rib', 3141: 'qaulity', 3142: 'nestle', 3143: 'unavailable', 3144: 'meeeeeeowwwwwww', 3145: 'performance', 3146: 'thses', 3147: 'dining', 3148: 'dentest', 3149: 'chair', 3150: 'amazingclubs', 3151: 'lou', 3152: 'offers', 3153: 'wallet', 3154: 'multiple', 3155: 'settings', 3156: 'claimed', 3157: 'potent', 3158: 'dachshund', 3159: 'early', 3160: 'pace', 3161: 'ultimate', 3162: 'goody', 3163: 'ahead', 3164: 'worthy', 3165: 'thrilled', 3166: 'lame', 3167: 'skim', 3168: 'germ', 3169: 'minimal', 3170: 'cupcakes', 3171: 'laden', 3172: 'cooked', 3173: 'hydrating', 3174: 'ewweee', 3175: 'wazoo', 3176: 'girl', 3177: 'scout', 3178: 'milka', 3179: 'sounds', 3180: 'attractive', 3181: 'eggs', 3182: 'masters', 3183: 'cutter', 3184: 'unnaturally', 3185: 'formed', 3186: 'sporting', 3187: 'carbing', 3188: 'diamond', 3189: 'maximum', 3190: 'smoothies', 3191: 'shavings', 3192: 'doh', 3193: 'wonka', 3194: 'tarts', 3195: 'art', 3196: 'finished', 3197: 'tacs', 3198: 'wants', 3199: 'written', 3200: 'fowl', 3201: 'turducken', 3202: 'pasty', 3203: 'mash', 3204: 'parties', 3205: 'bleh', 3206: 'rd', 3207: 'ingred', 3208: 'paul', 3209: 'ethical', 3210: 'lousy', 3211: 'gmos', 3212: 'cheetos', 3213: 'paella', 3214: 'decently', 3215: 'cooks', 3216: 'process', 3217: 'sinfully', 3218: 'cereals', 3219: 'twizlers', 3220: 'decreased', 3221: 'yorkiepoo', 3222: 'truthfull', 3223: 'numbers', 3224: 'breaks', 3225: 'grinds', 3226: 'ambrosia', 3227: 'ship', 3228: 'pleasingly', 3229: 'tons', 3230: 'audience', 3231: 'pickup', 3232: 'satisifed', 3233: 'infections', 3234: 'bottoms', 3235: 'cubes', 3236: 'sassafras', 3237: 'placebo', 3238: 'favors', 3239: 'treets', 3240: 'reboot', 3241: 'processors', 3242: 'lea', 3243: 'omega', 3244: 'effervescent', 3245: 'households', 3246: 'particularly', 3247: 'buttah', 3248: 'sheen', 3249: 'airbrush', 3250: 'animals', 3251: 'hormel', 3252: 'compleats', 3253: 'week', 3254: 'scottish', 3255: 'fold', 3256: 'kitten', 3257: 'salted', 3258: 'superbowl', 3259: 'scooores', 3260: 'excellence', 3261: 'caramet', 3262: 'promise', 3263: 'clouds', 3264: 'fattening', 3265: 'corgi', 3266: 'hubby', 3267: 'ky', 3268: 'subscribe', 3269: 'consider', 3270: 'crack', 3271: 'additions', 3272: 'stink', 3273: 'mold', 3274: 'goaty', 3275: 'rosamonte', 3276: 'especial', 3277: 'yummies', 3278: 'tootsie', 3279: 'drip', 3280: 'lively', 3281: 'sumatran', 3282: 'hell', 3283: 'whatever', 3284: 'met', 3285: 'expections', 3286: 'rejuvenating', 3287: 'addict', 3288: 'cofee', 3289: 'greens', 3290: 'range', 3291: 'dublin', 3292: 'fight', 3293: 'beefaroni', 3294: 'awefull', 3295: 'nausea', 3296: 'danger', 3297: 'mouthful', 3298: 'realemon', 3299: 'shiba', 3300: 'inu', 3301: 'eatin', 3302: 'koala', 3303: 'exquisitely', 3304: 'polyvalent', 3305: 'mind', 3306: 'valley', 3307: 'savory', 3308: 'toasted', 3309: 'sesame', 3310: 'topping', 3311: 'culinary', 3312: 'creations', 3313: 'complaints', 3314: 'opinion', 3315: 'vet', 3316: 'tao', 3317: 'latice', 3318: 'lathers', 3319: 'bath', 3320: 'terrrrific', 3321: 'bulldog', 3322: 'bevvie', 3323: 'begin', 3324: 'awesom', 3325: 'palm', 3326: 'canola', 3327: 'detailed', 3328: 'reply', 3329: 'dha', 3330: 'ara', 3331: 'mommy', 3332: 'russell', 3333: 'crumbles', 3334: 'priority', 3335: 'syrupy', 3336: 'fanfreakintastic', 3337: 'anus', 3338: 'weaker', 3339: 'skinless', 3340: 'glitery', 3341: 'jeremiahs', 3342: 'toffifay', 3343: 'sun', 3344: 'selling', 3345: 'geat', 3346: 'origin', 3347: 'calorific', 3348: 'annie', 3349: 'homegrown', 3350: 'bolds', 3351: 'switched', 3352: 'pepsi', 3353: 'br', 3354: 'milder', 3355: 'class', 3356: 'offerings', 3357: 'user', 3358: 'system', 3359: 'brazil', 3360: 'orangy', 3361: 'gumbo', 3362: 'ur', 3363: 'shortcake', 3364: 'stand', 3365: 'devine', 3366: 'miniature', 3367: 'confusing', 3368: 'freely', 3369: 'acutually', 3370: 'trifle', 3371: 'ooooh', 3372: 'ask', 3373: 'tums', 3374: 'tastic', 3375: 'pork', 3376: 'rinds', 3377: 'burger', 3378: 'wellness', 3379: 'citron', 3380: 'jja', 3381: 'appetizing', 3382: 'consistent', 3383: 'nutritionally', 3384: 'cassoulet', 3385: 'unsatisfied', 3386: 'followers', 3387: 'hungarian', 3388: 'obsession', 3389: 'extermely', 3390: 'blackstrap', 3391: 'delights', 3392: 'gravey', 3393: 'film', 3394: 'annual', 3395: 'houseboat', 3396: 'compare', 3397: 'artificially', 3398: 'dalmatian', 3399: 'beast', 3400: 'mode', 3401: 'seahawks', 3402: 'trucker', 3403: 'lentil', 3404: 'oysters', 3405: 'passed', 3406: 'noticablely', 3407: 'affect', 3408: 'wholesome', 3409: 'hints', 3410: 'babybmom', 3411: 'snapple', 3412: 'safely', 3413: 'superfood', 3414: 'chocophile', 3415: 'crispbread', 3416: 'blecch', 3417: 'rum', 3418: 'hummy', 3419: 'makers', 3420: 'worthwhile', 3421: 'kernel', 3422: 'desserts', 3423: 'amaretto', 3424: 'fig', 3425: 'greater', 3426: 'originally', 3427: 'boo', 3428: 'sustainer', 3429: 'scoville', 3430: 'cakesters', 3431: 'appearance', 3432: 'fingers', 3433: 'dollar', 3434: 'chocolot', 3435: 'completly', 3436: 'cant', 3437: 'pina', 3438: 'colada', 3439: 'kool', 3440: 'alternatives', 3441: 'wyzykoski', 3442: 'buble', 3443: 'gun', 3444: 'yahoo', 3445: 'flecks', 3446: 'cuttiest', 3447: 'compensation', 3448: 'organinc', 3449: 'disposacup', 3450: 'jolokia', 3451: 'infusion', 3452: 'dragon', 3453: 'ovine', 3454: 'maniac', 3455: 'secretly', 3456: 'speedy', 3457: 'quailty', 3458: 'region', 3459: 'ruby', 3460: 'yummmmmmmmmm', 3461: 'greenies', 3462: 'shcoked', 3463: 'handle', 3464: 'matters', 3465: 'bueno', 3466: 'duty', 3467: 'fit', 3468: 'consumption', 3469: 'road', 3470: 'yoli', 3471: 'frankenwheat', 3472: 'gfcfsf', 3473: 'discription', 3474: 'lead', 3475: 'article', 3476: 'marathons', 3477: 'labradors', 3478: 'discs', 3479: 'groups', 3480: 'tasking', 3481: 'danes', 3482: 'pamelas', 3483: 'continue', 3484: 'thrives', 3485: 'sardine', 3486: 'weather', 3487: 'co', 3488: 'mamma', 3489: 'mia', 3490: 'plump', 3491: 'master', 3492: 'df', 3493: 'jamica', 3494: 'superman', 3495: 'snacked', 3496: 'jeri', 3497: 'ca', 3498: 'sojos', 3499: 'dietetic', 3500: 'disease', 3501: 'eco', 3502: 'hazard', 3503: 'fennel', 3504: 'sparkles', 3505: 'floor', 3506: 'times', 3507: 'encouragement', 3508: 'preamp', 3509: 'prompt', 3510: 'misrepresented', 3511: 'silly', 3512: 'press', 3513: 'kid', 3514: 'chowdah', 3515: 'hog', 3516: 'nt', 3517: 'peta', 3518: 'pigs', 3519: 'foodie', 3520: 'unhealthy', 3521: 'cocker', 3522: 'vickie', 3523: 'sweetners', 3524: 'doubts', 3525: 'modifications', 3526: 'unsalted', 3527: 'asparagus', 3528: 'bonsai', 3529: 'carrot', 3530: 'slipping', 3531: 'diameter', 3532: 'flavorfull', 3533: 'defacto', 3534: 'coffeei', 3535: 'cultures', 3536: 'vendors', 3537: 'friskies', 3538: 'nevertheless', 3539: 'roland', 3540: 'instructions', 3541: 'coca', 3542: 'afternoon', 3543: 'crumbled', 3544: 'bonk', 3545: 'matter', 3546: 'socks', 3547: 'widely', 3548: 'enjoying', 3549: 'yummmmmazing', 3550: 'toy', 3551: 'sahlen', 3552: 'hollywood', 3553: 'pregnant', 3554: 'lil', 3555: 'munchkins', 3556: 'severe', 3557: 'disposible', 3558: 'outcome', 3559: 'woderful', 3560: 'rasberry', 3561: 'versitile', 3562: 'mmmmmmmmmm', 3563: 'autimatic', 3564: 'started', 3565: 'tinged', 3566: 'fizzlicious', 3567: 'wings', 3568: 'paint', 3569: 'pepermint', 3570: 'kracker', 3571: 'bllue', 3572: 'snackfood', 3573: 'chivey', 3574: 'coffeemate', 3575: 'wished', 3576: 'supermarkets', 3577: 'allays', 3578: 'concerns', 3579: 'yeeeee', 3580: 'hawww', 3581: 'spinach', 3582: 'giants', 3583: 'herbs', 3584: 'awkward', 3585: 'sale', 3586: 'choose', 3587: 'minced', 3588: 'fruits', 3589: 'wayy', 3590: 'wonders', 3591: 'popularity', 3592: 'carousel', 3593: 'anyhoe', 3594: 'unbalanced', 3595: 'flashback', 3596: 'naked', 3597: 'growth', 3598: 'season', 3599: 'mackerels', 3600: 'badly', 3601: 'tomato', 3602: 'spelt', 3603: 'sparkly', 3604: 'whonu', 3605: 'vote', 3606: 'tast', 3607: 'lard', 3608: 'stylish', 3609: 'khz', 3610: 'mono', 3611: 'accidents', 3612: 'favored', 3613: 'hippy', 3614: 'eucharist', 3615: 'hershey', 3616: 'cashews', 3617: 'assembly', 3618: 'alpacas', 3619: 'demi', 3620: 'tasse', 3621: 'subtly', 3622: 'eligible', 3623: 'return', 3624: 'teabag', 3625: 'chance', 3626: 'climbing', 3627: 'finiky', 3628: 'nights', 3629: 'helping', 3630: 'psoriasis', 3631: 'material', 3632: 'hummus', 3633: 'result', 3634: 'companions', 3635: 'greyhounds', 3636: 'existent', 3637: 'eliminates', 3638: 'starbuck', 3639: 'kleri', 3640: 'diversion', 3641: 'colas', 3642: 'luuuv', 3643: 'potatoe', 3644: 'astounding', 3645: 'decafe', 3646: 'petals', 3647: 'yellow', 3648: 'split', 3649: 'burns', 3650: 'preservatives', 3651: 'longtime', 3652: 'containing', 3653: 'turkish', 3654: 'gobble', 3655: 'factor', 3656: 'gem', 3657: 'deelish', 3658: 'bobby', 3659: 'cj', 3660: 'stingers', 3661: 'recomended', 3662: 'banged', 3663: 'brush', 3664: 'already', 3665: 'probably', 3666: 'pok', 3667: 'chops', 3668: 'cocktail', 3669: 'heartier', 3670: 'impression', 3671: 'changing', 3672: 'evaporate', 3673: 'mega', 3674: 'libby', 3675: 'noticeable', 3676: 'noise', 3677: 'output', 3678: 'responce', 3679: 'pickles', 3680: 'mixture', 3681: 'cockers', 3682: 'thickener', 3683: 'hubbard', 3684: 'nuttier', 3685: 'charlee', 3686: 'mentos', 3687: 'unsweetened', 3688: 'demand', 3689: 'shortening', 3690: 'alternate', 3691: 'longest', 3692: 'rj', 3693: 'custom', 3694: 'total', 3695: 'elliott', 3696: 'pass', 3697: 'comparison', 3698: 'alter', 3699: 'swirled', 3700: 'ready', 3701: 'manufacturing', 3702: 'diminish', 3703: 'wonderfulness', 3704: 'fill', 3705: 'perceptible', 3706: 'crisco', 3707: 'useable', 3708: 'buds', 3709: 'pucker', 3710: 'wasting', 3711: 'cucumber', 3712: 'shame', 3713: 'ritual', 3714: 'wouldnt', 3715: 'caibou', 3716: 'runs', 3717: 'babysitter', 3718: 'granules', 3719: 'cheers', 3720: 'improperly', 3721: 'unpopped', 3722: 'unsulphered', 3723: 'tagerine', 3724: 'farms', 3725: 'headache', 3726: 'boys', 3727: 'deceitful', 3728: 'gma', 3729: 'satisfaction', 3730: 'skyflakes', 3731: 'glucose', 3732: 'pockets', 3733: 'guinea', 3734: 'pig', 3735: 'sweetly', 3736: 'purchases', 3737: 'wilton', 3738: 'dissatisfied', 3739: 'snickerdoodles', 3740: 'glitter', 3741: 'chrysanthemum', 3742: 'happily', 3743: 'doesnt', 3744: 'por', 3745: 'kwan', 3746: 'chilli', 3747: 'basil', 3748: 'sort', 3749: 'easrly', 3750: 'yey', 3751: 'namaste', 3752: 'donut', 3753: 'customary', 3754: 'vomitting', 3755: 'rita', 3756: 'vimto', 3757: 'yummier', 3758: 'jonesing', 3759: 'marinated', 3760: 'morsals', 3761: 'dingo', 3762: 'unfilled', 3763: 'reasonabale', 3764: 'hardly', 3765: 'skimpy', 3766: 'charged', 3767: 'sore', 3768: 'joints', 3769: 'muscles', 3770: 'untitled', 3771: 'including', 3772: 'willing', 3773: 'provides', 3774: 'flies', 3775: 'begone', 3776: 'falafel', 3777: 'potatoies', 3778: 'wholesale', 3779: 'hat', 3780: 'invention', 3781: 'relatively', 3782: 'cherries', 3783: 'crackerbreads', 3784: 'shedding', 3785: 'toxic', 3786: 'suzie', 3787: 'puffed', 3788: 'smoke', 3789: 'whew', 3790: 'krinos', 3791: 'bill', 3792: 'overrated', 3793: 'plated', 3794: 'godly', 3795: 'pal', 3796: 'molecular', 3797: 'gastronomy', 3798: 'rockes', 3799: 'absolutel', 3800: 'shakes', 3801: 'passion', 3802: 'shared', 3803: 'fronts', 3804: 'flowers', 3805: 'bil', 3806: 'jac', 3807: 'wins', 3808: 'sandwiches', 3809: 'nantucket', 3810: 'coming', 3811: 'ten', 3812: 'doxie', 3813: 'disappoints', 3814: 'luwak', 3815: 'today', 3816: 'leak', 3817: 'inferior', 3818: 'folks', 3819: 'parisian', 3820: 'sevice', 3821: 'wheatgrass', 3822: 'berres', 3823: 'brothers', 3824: 'scovilles', 3825: 'marvelous', 3826: 'figure', 3827: 'uniquely', 3828: 'lacquat', 3829: 'plague', 3830: 'killing', 3831: 'honeybees', 3832: 'claim', 3833: 'prison', 3834: 'die', 3835: 'moisturizing', 3836: 'softener', 3837: 'nicely', 3838: 'buck', 3839: 'comforting', 3840: 'veggies', 3841: 'caused', 3842: 'durable', 3843: 'touchy', 3844: 'freshness', 3845: 'seal', 3846: 'piquillos', 3847: 'inadequate', 3848: 'sayan', 3849: 'bloating', 3850: 'passover', 3851: 'unsorted', 3852: 'assorted', 3853: 'steaks', 3854: 'suger', 3855: 'grrrrrrrreat', 3856: 'wicked', 3857: 'ket', 3858: 'notes', 3859: 'mama', 3860: 'tully', 3861: 'fixed', 3862: 'warnings', 3863: 'appeal', 3864: 'spike', 3865: 'insulin', 3866: 'salads', 3867: 'pear', 3868: 'chardonnay', 3869: 'halfway', 3870: 'receive', 3871: 'shrimp', 3872: 'fry', 3873: 'wore', 3874: 'caf', 3875: 'cakeing', 3876: 'agents', 3877: 'garbonzo', 3878: 'owned', 3879: 'deeee', 3880: 'licious', 3881: 'pupstar', 3882: 'wondering', 3883: 'bet', 3884: 'lilly', 3885: 'nsa', 3886: 'knew', 3887: 'advanced', 3888: 'active', 3889: 'roxy', 3890: 'equidorian', 3891: 'ojio', 3892: 'arriba', 3893: 'carillo', 3894: 'oranic', 3895: 'martha', 3896: 'malta', 3897: 'baffling', 3898: 'model', 3899: 'fishy', 3900: 'devils', 3901: 'kinetic', 3902: 'kraziness', 3903: 'almonds', 3904: 'puroast', 3905: 'hulls', 3906: 'eye', 3907: 'tasteful', 3908: 'tazo', 3909: 'closest', 3910: 'execution', 3911: 'simpliest', 3912: 'labels', 3913: 'munch', 3914: 'systemic', 3915: 'insecticide', 3916: 'born', 3917: 'hammer', 3918: 'conflakes', 3919: 'older', 3920: 'unbelievably', 3921: 'fur', 3922: 'babie', 3923: 'expresso', 3924: 'lie', 3925: 'chase', 3926: 'notification', 3927: 'cancelled', 3928: 'placed', 3929: 'selections', 3930: 'brews', 3931: 'wise', 3932: 'cheapest', 3933: 'escape', 3934: 'popchip', 3935: 'lasts', 3936: 'excuse', 3937: 'starting', 3938: 'eatten', 3939: 'splendid', 3940: 'exceeded', 3941: 'expectations', 3942: 'tho', 3943: 'roasters', 3944: 'chocoholic', 3945: 'view', 3946: 'joke', 3947: 'fats', 3948: 'freakin', 3949: 'barb', 3950: 'hooray', 3951: 'situation', 3952: 'support', 3953: 'students', 3954: 'garrotxa', 3955: 'freezed', 3956: 'grown', 3957: 'ups', 3958: 'attempt', 3959: 'failed', 3960: 'points', 3961: 'watchers', 3962: 'swisshot', 3963: 'oranginaish', 3964: 'indulgence', 3965: 'along', 3966: 'lines', 3967: 'remarkable', 3968: 'congou', 3969: 'hairballs', 3970: 'digs', 3971: 'bulky', 3972: 'cuisinart', 3973: 'game', 3974: 'walnuts', 3975: 'allergens', 3976: 'cage', 3977: 'guayaki', 3978: 'chestnuts', 3979: 'mg', 3980: 'electrolytes', 3981: 'toppings', 3982: 'freah', 3983: 'southeastern', 3984: 'mills', 3985: 'recieved', 3986: 'seals', 3987: 'busting', 3988: 'healtier', 3989: 'rosematic', 3990: 'loyal', 3991: 'melange', 3992: 'maison', 3993: 'corse', 3994: 'kelloggs', 3995: 'muselix', 3996: 'lapped', 3997: 'stablizer', 3998: 'shimmer', 3999: 'vegans', 4000: 'allday', 4001: 'overtones', 4002: 'cardboard', 4003: 'kellogg', 4004: 'dum', 4005: 'dums', 4006: 'twisted', 4007: 'feliciaflan', 4008: 'bavarian', 4009: 'crunchie', 4010: 'munchie', 4011: 'tiger', 4012: 'exotic', 4013: 'pomegranate', 4014: 'buffy', 4015: 'refuel', 4016: 'exercise', 4017: 'liven', 4018: 'jarring', 4019: 'awry', 4020: 'mail', 4021: 'orangey', 4022: 'tangeriney', 4023: 'tin', 4024: 'utz', 4025: 'iraq', 4026: 'pickle', 4027: 'flawless', 4028: 'glaze', 4029: 'provided', 4030: 'francaise', 4031: 'bleeds', 4032: 'exaclty', 4033: 'heads', 4034: 'disapointing', 4035: 'face', 4036: 'freshest', 4037: 'dense', 4038: 'vinigrette', 4039: 'heed', 4040: 'advice', 4041: 'poppers', 4042: 'margarita', 4043: 'clock', 4044: 'ferrets', 4045: 'dust', 4046: 'canadies', 4047: 'gamble', 4048: 'crap', 4049: 'shoot', 4050: 'favoritte', 4051: 'concrete', 4052: 'unsweet', 4053: 'chock', 4054: 'amazingness', 4055: 'yeast', 4056: 'pei', 4057: 'wei', 4058: 'pf', 4059: 'changs', 4060: 'flackers', 4061: 'jays', 4062: 'duck', 4063: 'rillettes', 4064: 'ah', 4065: 'dumplings', 4066: 'cave', 4067: 'zany', 4068: 'values', 4069: 'detectable', 4070: 'scarf', 4071: 'replacing', 4072: 'choclate', 4073: 'doa', 4074: 'data', 4075: 'toothpicks', 4076: 'redbard', 4077: 'buttered', 4078: 'cocolate'}\n"
     ]
    }
   ],
   "source": [
    "print (reverse_target_word_index)"
   ]
  },
  {
   "cell_type": "code",
   "execution_count": 23,
   "metadata": {},
   "outputs": [],
   "source": [
    "# encoder inference\n",
    "encoder_model = Model(inputs=encoder_inputs,outputs=[encoder_outputs, state_h, state_c])\n",
    "\n",
    "# decoder inference\n",
    "# Below tensors will hold the states of the previous time step\n",
    "decoder_state_input_h = Input(shape=(latent_dim,))\n",
    "decoder_state_input_c = Input(shape=(latent_dim,))\n",
    "decoder_hidden_state_input = Input(shape=(max_len_text,latent_dim))\n",
    "\n",
    "# Get the embeddings of the decoder sequence\n",
    "dec_emb2= dec_emb_layer(decoder_inputs)\n",
    "\n",
    "# To predict the next word in the sequence, set the initial states to the states from the previous time step\n",
    "decoder_outputs2, state_h2, state_c2 = decoder_lstm(dec_emb2, initial_state=[decoder_state_input_h, decoder_state_input_c])\n",
    "\n",
    "#attention inference\n",
    "attn_out_inf, attn_states_inf = attn_layer([decoder_hidden_state_input, decoder_outputs2])\n",
    "decoder_inf_concat = Concatenate(axis=-1, name='concat')([decoder_outputs2, attn_out_inf])\n",
    "\n",
    "# A dense softmax layer to generate prob dist. over the target vocabulary\n",
    "decoder_outputs2 = decoder_dense(decoder_inf_concat)\n",
    "\n",
    "# Final decoder model\n",
    "decoder_model = Model(\n",
    "[decoder_inputs] + [decoder_hidden_state_input,decoder_state_input_h, decoder_state_input_c],\n",
    "[decoder_outputs2] + [state_h2, state_c2])"
   ]
  },
  {
   "cell_type": "code",
   "execution_count": 24,
   "metadata": {},
   "outputs": [],
   "source": [
    "def decode_sequence(input_seq):\n",
    "    # Encode the input as state vectors.\n",
    "    e_out, e_h, e_c = encoder_model.predict(input_seq)\n",
    "\n",
    "    # Generate empty target sequence of length 1.\n",
    "    target_seq = np.zeros((1,1))\n",
    "\n",
    "    # Choose the 'start' word as the first word of the target sequence\n",
    "    target_seq[0, 0] = target_word_index['start']\n",
    "\n",
    "    stop_condition = False\n",
    "    decoded_sentence = ''\n",
    "    while not stop_condition:\n",
    "        output_tokens, h, c = decoder_model.predict([target_seq] + [e_out, e_h, e_c])\n",
    "\n",
    "        # Sample a token\n",
    "        sampled_token_index = np.argmax(output_tokens[0, -1, :])\n",
    "        sampled_token = reverse_target_word_index[sampled_token_index]\n",
    "\n",
    "        if(sampled_token!='end'):\n",
    "            decoded_sentence += ' '+sampled_token\n",
    "\n",
    "            # Exit condition: either hit max length or find stop word.\n",
    "            if (sampled_token == 'end' or len(decoded_sentence.split()) >= (max_len_summary-1)):\n",
    "                stop_condition = True\n",
    "\n",
    "        # Update the target sequence (of length 1).\n",
    "        target_seq = np.zeros((1,1))\n",
    "        target_seq[0, 0] = sampled_token_index\n",
    "\n",
    "        # Update internal states\n",
    "        e_h, e_c = h, c\n",
    "\n",
    "    return decoded_sentence"
   ]
  },
  {
   "cell_type": "code",
   "execution_count": 25,
   "metadata": {},
   "outputs": [],
   "source": [
    "def seq2summary(input_seq):\n",
    "    newString=''\n",
    "    for i in input_seq:\n",
    "      if((i!=0 and i!=target_word_index['start']) and i!=target_word_index['end']):\n",
    "        newString=newString+reverse_target_word_index[i]+' '\n",
    "    return newString\n",
    "\n",
    "def seq2text(input_seq):\n",
    "    newString=''\n",
    "    for i in input_seq:\n",
    "      if(i!=0):\n",
    "        newString=newString+reverse_source_word_index[i]+' '\n",
    "    return newString"
   ]
  },
  {
   "cell_type": "code",
   "execution_count": 26,
   "metadata": {},
   "outputs": [],
   "source": [
    "import sys"
   ]
  },
  {
   "cell_type": "code",
   "execution_count": 27,
   "metadata": {},
   "outputs": [
    {
     "name": "stdout",
     "output_type": "stream",
     "text": [
      "Review: wellness never anymore amazing percent eating real food along sawdust chicken hearts still feed eating twice day cup total eating three times day cup total eats morning walks away eats hours later looks dinner twelve hours initial feeding knocking things dad papers desk deliberately spilled water floor incredible feel bad long really thought dramatic whatever genuinely hungry eating real food cat favor buy food made real ingredients things would eat wellness halo innova evo whatever figure please feed cat garbage \n",
      "Original summary: filler food empty leaves cat always \n",
      "Predicted summary: some issue.\n",
      "\n",
      "\n",
      "Review: like smoked sweet paprika better styles sweet paprika came fresh reasonable price \n",
      "Original summary: smoked paprika \n",
      "Predicted summary: some issue.\n",
      "\n",
      "\n",
      "Review: caribou coffees weak one delicious exception right revv emeril bold van houtte eclipse dark bold coffee without tasting burned bitter \n",
      "Original summary: wonderful dark coffee \n",
      "Predicted summary: some issue.\n",
      "\n",
      "\n",
      "Review: british yeasts leave mess german could easily pass lager yeast simple wheat pale malt light ale fermented give take grain bottle week concerned haze cracked day get taste extremely clean taste every single grain malt hop much maybe tops nice beer blow tube mandatory next project american wheat blew gallons gallon carboy wanted enough space gallons want absolutely crisp clean yeast produces lager like beers tolerate temps seems really malt nice yeast like little yeast profile know love impressed clean \n",
      "Original summary: super clean crisp yeast close lager gets \n",
      "Predicted summary: some issue.\n",
      "\n",
      "\n",
      "Review: know nothing co method decaffeinating thought would give try usually buy swiss water processed wonderful chocolatey taste also claimed caffein free hopefully true really best tried decaf \n",
      "Original summary: delicious chocolatey taste \n",
      "Predicted summary: some issue.\n",
      "\n",
      "\n",
      "Review: intrigued particular blend got exotic name disappointed ever slight coconut aftertaste makes delicious like strong coffee perfect husband get send regularly one favorites second jamaica crazy wolfgang puck wolfgang much tastier brands \n",
      "Original summary: wonderfully yummy \n",
      "Predicted summary: some issue.\n",
      "\n",
      "\n",
      "Review: turned fantastic little sweeter expecting still great may even consider dessert wine nice using cornucopia kits come complete supplies need corks labels toppers etc use distilled water making wine dont want chance anything else always turned great give try \n",
      "Original summary: white pear delight \n",
      "Predicted summary: some issue.\n",
      "\n",
      "\n",
      "Review: best tasting pancake mix market easy make \n",
      "Original summary: great tasting pancake mix \n",
      "Predicted summary: some issue.\n",
      "\n",
      "\n",
      "Review: great real coconut young coconut taste usual overwhelming sweet taste seen coconut water canned drinks good environment made brazil even better really taste fruit labelled product besides coconut water taste \n",
      "Original summary: great taste nice fruit flavor serve \n",
      "Predicted summary: some issue.\n",
      "\n",
      "\n",
      "Review: good bars gluten free favorite bar everything carry still good keep around hunger attack really want try something great try coconut cashew incredible like naughty \n",
      "Original summary: good go \n",
      "Predicted summary: some issue.\n",
      "\n",
      "\n"
     ]
    }
   ],
   "source": [
    "for i in range(10):\n",
    "# for i in range(len(x_val)):\n",
    "    print(\"Review:\",seq2text(x_val[i]))\n",
    "    print(\"Original summary:\",seq2summary(y_val[i]))\n",
    "    try:\n",
    "        print(\"Predicted summary:\",decode_sequence(x_val[i].reshape(1,max_len_text)))\n",
    "    except: # catch *all* exceptions\n",
    "        print(\"Predicted summary: some issue.\")\n",
    "    print(\"\\n\")"
   ]
  },
  {
   "cell_type": "code",
   "execution_count": null,
   "metadata": {},
   "outputs": [],
   "source": []
  }
 ],
 "metadata": {
  "kernelspec": {
   "display_name": "Python 3",
   "language": "python",
   "name": "python3"
  },
  "language_info": {
   "codemirror_mode": {
    "name": "ipython",
    "version": 3
   },
   "file_extension": ".py",
   "mimetype": "text/x-python",
   "name": "python",
   "nbconvert_exporter": "python",
   "pygments_lexer": "ipython3",
   "version": "3.8.3"
  }
 },
 "nbformat": 4,
 "nbformat_minor": 4
}
