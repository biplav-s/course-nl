{
 "cells": [
  {
   "cell_type": "markdown",
   "metadata": {},
   "source": [
    "# First Introduction"
   ]
  },
  {
   "cell_type": "code",
   "execution_count": 1,
   "metadata": {},
   "outputs": [],
   "source": [
    "# Based on https://machinelearningmastery.com/develop-word-embeddings-python-gensim/\n",
    "# Import\n",
    "from gensim.models import Word2Vec"
   ]
  },
  {
   "cell_type": "code",
   "execution_count": 2,
   "metadata": {},
   "outputs": [],
   "source": [
    "corpus = [\n",
    "['An', 'alpha', 'document', '.'],\n",
    "['A', 'beta', 'document', '.'],\n",
    "['Guten', 'Morgen', '!'],\n",
    "['Gamma', 'manuscript', 'is', 'old', '.'],\n",
    "['Whither', 'my', 'document', '?']\n",
    "]"
   ]
  },
  {
   "cell_type": "code",
   "execution_count": 3,
   "metadata": {},
   "outputs": [
    {
     "name": "stdout",
     "output_type": "stream",
     "text": [
      "INFO: Model - \n",
      "Word2Vec(vocab=16, size=100, alpha=0.025)\n"
     ]
    }
   ],
   "source": [
    "# train model\n",
    "model = Word2Vec(corpus, min_count=1)\n",
    "# summarize the loaded model\n",
    "print(\"INFO: Model - \\n\" + str(model))"
   ]
  },
  {
   "cell_type": "code",
   "execution_count": 4,
   "metadata": {},
   "outputs": [
    {
     "name": "stdout",
     "output_type": "stream",
     "text": [
      "INFO: Words found - \n",
      "['An', 'alpha', 'document', '.', 'A', 'beta', 'Guten', 'Morgen', '!', 'Gamma', 'manuscript', 'is', 'old', 'Whither', 'my', '?']\n"
     ]
    }
   ],
   "source": [
    "# summarize vocabulary\n",
    "words = list(model.wv.vocab)\n",
    "print(\"INFO: Words found - \\n\" + str(words))"
   ]
  },
  {
   "cell_type": "code",
   "execution_count": 5,
   "metadata": {},
   "outputs": [
    {
     "name": "stdout",
     "output_type": "stream",
     "text": [
      "INFO: Model of 'document' - \n",
      "[-2.4414996e-03  2.6622412e-03 -3.0177636e-03  3.2341545e-03\n",
      "  2.7868759e-03 -8.0836623e-04 -2.7568194e-03 -9.8301226e-04\n",
      " -4.9753767e-03 -4.3506171e-03  3.4021356e-03  3.0122376e-03\n",
      "  4.2746733e-03  1.8962767e-04  3.8011130e-03 -2.6230237e-03\n",
      "  2.3607069e-03  2.6423734e-04 -8.3725079e-04 -4.0987371e-03\n",
      " -2.4278930e-03 -8.1508531e-04  4.3672943e-03 -1.7755051e-03\n",
      " -4.5722127e-03 -1.5989904e-03  2.7475185e-03 -4.1078446e-03\n",
      "  4.8740730e-03 -2.8241226e-03  2.5529547e-03 -1.9859953e-03\n",
      "  4.0683937e-03 -4.0076894e-04 -3.8113804e-03 -1.0060021e-03\n",
      "  2.4440982e-03  1.7245926e-03  2.3956454e-04  2.8477099e-03\n",
      " -2.8460389e-03  3.8492999e-03  1.6536568e-03  3.9764848e-03\n",
      " -3.6650000e-04 -4.4846153e-03  4.1305758e-03  3.0103759e-03\n",
      " -1.7798992e-03 -3.5809260e-04  2.5686924e-03 -2.6307274e-03\n",
      " -1.7510224e-03  2.4429525e-03  1.1701276e-04  2.9069011e-04\n",
      "  3.0633255e-03 -4.6290536e-04  2.1549740e-03  2.7690046e-03\n",
      " -4.7105481e-03  2.8129166e-03  4.7868816e-03  3.8892095e-04\n",
      " -3.0217474e-04  1.5879645e-03  1.1575058e-03  2.3696022e-03\n",
      " -3.9787227e-03  2.0108104e-03 -2.9138487e-03  3.0013481e-03\n",
      " -2.4293053e-03 -1.8413435e-03 -4.0246436e-04 -3.4308885e-03\n",
      "  2.6239043e-03 -6.4142462e-04  1.0767326e-03 -1.5278280e-03\n",
      " -3.4052425e-03  2.0104947e-03  1.2726536e-03 -4.7812676e-03\n",
      " -2.6684217e-04 -2.1302279e-03  2.8905654e-03  6.1179750e-04\n",
      "  4.6679759e-03  4.0740548e-03  4.5602848e-03 -4.2071445e-03\n",
      " -1.8929217e-03  1.4760091e-03  3.9314241e-03 -3.7244433e-03\n",
      " -1.8450000e-03 -1.8249759e-03 -2.8342532e-03 -2.6469741e-05]\n"
     ]
    },
    {
     "name": "stderr",
     "output_type": "stream",
     "text": [
      "/Users/biplavs/opt/anaconda3/lib/python3.7/site-packages/ipykernel_launcher.py:3: DeprecationWarning: Call to deprecated `__getitem__` (Method will be removed in 4.0.0, use self.wv.__getitem__() instead).\n",
      "  This is separate from the ipykernel package so we can avoid doing imports until\n"
     ]
    }
   ],
   "source": [
    "# access vector for one word - specified by myword\n",
    "myword = 'document'\n",
    "print(\"INFO: Model of '\" + myword + \"' - \\n\" + str(model[myword]))"
   ]
  },
  {
   "cell_type": "code",
   "execution_count": 6,
   "metadata": {},
   "outputs": [],
   "source": [
    "# save model\n",
    "model.save('../data/model.bin')\n",
    "model.wv.save_word2vec_format('../data/model.txt', binary=False)"
   ]
  },
  {
   "cell_type": "code",
   "execution_count": 7,
   "metadata": {},
   "outputs": [
    {
     "name": "stdout",
     "output_type": "stream",
     "text": [
      "INFO: Reloaded Model - \n",
      "Word2Vec(vocab=16, size=100, alpha=0.025)\n"
     ]
    }
   ],
   "source": [
    "# load model\n",
    "new_model = Word2Vec.load('../data/model.bin')\n",
    "print(\"INFO: Reloaded Model - \\n\" + str(new_model))"
   ]
  },
  {
   "cell_type": "code",
   "execution_count": null,
   "metadata": {},
   "outputs": [],
   "source": []
  }
 ],
 "metadata": {
  "kernelspec": {
   "display_name": "Python 3",
   "language": "python",
   "name": "python3"
  },
  "language_info": {
   "codemirror_mode": {
    "name": "ipython",
    "version": 3
   },
   "file_extension": ".py",
   "mimetype": "text/x-python",
   "name": "python",
   "nbconvert_exporter": "python",
   "pygments_lexer": "ipython3",
   "version": "3.7.6"
  }
 },
 "nbformat": 4,
 "nbformat_minor": 4
}
