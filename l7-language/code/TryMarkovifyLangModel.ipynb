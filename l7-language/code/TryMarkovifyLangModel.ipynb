{
 "cells": [
  {
   "cell_type": "code",
   "execution_count": 1,
   "metadata": {},
   "outputs": [],
   "source": [
    "## Using sample from:\n",
    "# * https://datascienceplus.com/natural-language-generation-with-markovify-in-python/\n",
    "# * https://github.com/amrrs/nlg_for_fun/blob/master/headlines_generator.ipynb\n",
    "## Markovify, https://github.com/jsvine/markovify"
   ]
  },
  {
   "cell_type": "code",
   "execution_count": 2,
   "metadata": {},
   "outputs": [
    {
     "name": "stdout",
     "output_type": "stream",
     "text": [
      "Requirement already satisfied: markovify in /Users/biplavs/opt/anaconda3/lib/python3.7/site-packages (0.8.3)\r\n",
      "Requirement already satisfied: unidecode in /Users/biplavs/opt/anaconda3/lib/python3.7/site-packages (from markovify) (1.1.1)\r\n"
     ]
    }
   ],
   "source": [
    "!pip install markovify"
   ]
  },
  {
   "cell_type": "code",
   "execution_count": 3,
   "metadata": {},
   "outputs": [],
   "source": [
    "import markovify #Markov Chain Generator"
   ]
  },
  {
   "cell_type": "code",
   "execution_count": 4,
   "metadata": {},
   "outputs": [],
   "source": [
    "# Get raw text as string.\n",
    "with open(\"../data/data-covid-law.txt\") as f:\n",
    "    text = f.read()"
   ]
  },
  {
   "cell_type": "code",
   "execution_count": 5,
   "metadata": {},
   "outputs": [],
   "source": [
    "# Building the text model with Markov Chain\n",
    "text_model1 = markovify.Text(text, state_size = 2)"
   ]
  },
  {
   "cell_type": "code",
   "execution_count": 6,
   "metadata": {},
   "outputs": [
    {
     "name": "stdout",
     "output_type": "stream",
     "text": [
      "Sentence 0: DIVISION E <<NOTE: Emergency Paid Sick Leave Act.>> --EMERGENCY FAMILY AND MEDICAL LEAVE SEC.\n",
      "Sentence 1: 25 USC 1621q note.>> COVERAGE OF TESTING FOR COVID-19 AT NO COST SHARING UNDER THE MEDICARE PROGRAM FOR CERTAIN EMPLOYERS.\n",
      "Sentence 2: AMENDMENTS TO THE FAMILY AND MEDICAL LEAVE EXPANSION ACT SEC.\n",
      "Sentence 3: DIVISION C <<NOTE: Emergency Paid Sick Leave Act''.\n",
      "Sentence 4: <<NOTE: 26 USC 3111 note.>> SPECIAL RULE FOR HEALTH CARE PROVIDERS AND EMERGENCY RESPONDERS.\n",
      "Sentence 5: <<NOTE: 42 USC 1320b-5 note.>> COVERAGE OF TESTING FOR COVID-19 AT NO COST SHARING OF COVID-19 TESTING UNDER MEDICAID AND CHIP.\n",
      "Sentence 6: AMENDMENTS TO THE FAMILY AND MEDICAL LEAVE EXPANSION ACT SEC.\n",
      "Sentence 7: Any wages taken into account in determining the credit allowed under section 45S of such Code.\n",
      "Sentence 8: This Act shall take effect not later than 30 days after the date of enactment of this Act.\n",
      "Sentence 9: <<NOTE: 26 USC 3111 note.>> SPECIAL RULE FOR HEALTH CARE PROVIDERS AND EMERGENCY RESPONDERS.\n"
     ]
    }
   ],
   "source": [
    "# Randomly generate some text - 10 here\n",
    "for i in range(10):\n",
    "    print('Sentence ' + str(i) + ': ' + text_model1.make_short_sentence(140))"
   ]
  },
  {
   "cell_type": "code",
   "execution_count": 7,
   "metadata": {},
   "outputs": [],
   "source": [
    "# Get raw text as string.\n",
    "with open(\"../data/data-agreements.txt\") as f:\n",
    "    text = f.read()"
   ]
  },
  {
   "cell_type": "code",
   "execution_count": 8,
   "metadata": {},
   "outputs": [],
   "source": [
    "# Building the text model with Markov Chain\n",
    "text_model2 = markovify.Text(text, state_size = 2)"
   ]
  },
  {
   "cell_type": "code",
   "execution_count": 9,
   "metadata": {},
   "outputs": [
    {
     "name": "stdout",
     "output_type": "stream",
     "text": [
      "Sentence 0: You and Frontiers may remove any links and/or to require two or more of you opens an Account with right of set-off and security interest.\n",
      "Sentence 1: IN NO EVENT SHALL FRONTIERS OR THROUGH OR Terms and Conditions 34.\n",
      "Sentence 2: You can manage your privacy settings with Frontiers and Loop, where possible, to avoid the monthly maintenance fee on your part.\n",
      "Sentence 3: Your right to deduct the bonus will be determined according to this policy.\n",
      "Sentence 4: Interest not withdrawn will be reflected in your Account to your Account.\n",
      "Sentence 5: If we are open.\n",
      "Sentence 6: You agree not to disclose or otherwise domiciled in, the United States Postal Service without notice to you.\n",
      "Sentence 7: To request a certified copy of any pyramid scheme or other problem with the amount of your Grace Period.\n",
      "Sentence 8: Fees and Service Charges You agree that we will have acted within a reasonable period of time permitted under applicable law.\n",
      "Sentence 9: Checks for all CDs.\n"
     ]
    }
   ],
   "source": [
    "# Randomly generate some text - 10 here\n",
    "for i in range(10):\n",
    "    print('Sentence ' + str(i) + ': ' + text_model2.make_short_sentence(140))"
   ]
  },
  {
   "cell_type": "code",
   "execution_count": 10,
   "metadata": {},
   "outputs": [],
   "source": [
    "# One can combine models from two different domains\n",
    "model_combo = markovify.combine([ text_model1, text_model2 ], [ 1, 1 ])"
   ]
  },
  {
   "cell_type": "code",
   "execution_count": 11,
   "metadata": {},
   "outputs": [
    {
     "name": "stdout",
     "output_type": "stream",
     "text": [
      "Sentence 0: Death/Incompetence Your death, or a withdrawal will reduce earnings.\n",
      "Sentence 1: Any content posted by users, will be adjusted to reflect this change.\n",
      "Sentence 2: Passbook Accounts are typically eligible.\n",
      "Sentence 3: Likewise, we could withdraw money from other people.\n",
      "Sentence 4: We may retain deleted comments in our discretion we may change your privacy settings.\n",
      "Sentence 5: You will be paid.\n",
      "Sentence 6: If you believe that you have read, understood and agree that you have selected which Accounts to secure all loans or other withdrawal.\n",
      "Sentence 7: The following describes how we use it and you are registered with us.\n",
      "Sentence 8: If we do change our processing order for checks and other content, such as those payable by the IRS and applied by the Secretary of Labor.\n",
      "Sentence 9: If your password security may have been inactive for more information.\n"
     ]
    }
   ],
   "source": [
    "# Randomly generate some text - 10 here - using the model combo.\n",
    "# Has sentences from COVID and agreements datasets\n",
    "for i in range(10):\n",
    "    print('Sentence ' + str(i) + ': ' + model_combo.make_short_sentence(140))"
   ]
  },
  {
   "cell_type": "code",
   "execution_count": null,
   "metadata": {},
   "outputs": [],
   "source": []
  }
 ],
 "metadata": {
  "kernelspec": {
   "display_name": "Python 3",
   "language": "python",
   "name": "python3"
  },
  "language_info": {
   "codemirror_mode": {
    "name": "ipython",
    "version": 3
   },
   "file_extension": ".py",
   "mimetype": "text/x-python",
   "name": "python",
   "nbconvert_exporter": "python",
   "pygments_lexer": "ipython3",
   "version": "3.8.3"
  }
 },
 "nbformat": 4,
 "nbformat_minor": 2
}
