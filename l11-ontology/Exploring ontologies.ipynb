{
 "cells": [
  {
   "cell_type": "code",
   "execution_count": 1,
   "metadata": {},
   "outputs": [],
   "source": [
    "## Do if not installed \n",
    "#!pip install Owlready2"
   ]
  },
  {
   "cell_type": "code",
   "execution_count": 2,
   "metadata": {},
   "outputs": [],
   "source": [
    "# Based on descriptions at: \n",
    "# - https://pypi.org/project/Owlready2/\n",
    "# - https://pythonhosted.org/Owlready2/intro.html#short-example-what-can-i-do-with-owlready\n",
    "from owlready2 import *"
   ]
  },
  {
   "cell_type": "code",
   "execution_count": 3,
   "metadata": {},
   "outputs": [
    {
     "data": {
      "text/plain": [
       "get_ontology(\"http://www.lesfleursdunormal.fr/static/_downloads/pizza_onto.owl#\")"
      ]
     },
     "execution_count": 3,
     "metadata": {},
     "output_type": "execute_result"
    }
   ],
   "source": [
    "onto = get_ontology(\"http://www.lesfleursdunormal.fr/static/_downloads/pizza_onto.owl\")\n",
    "onto.load()"
   ]
  },
  {
   "cell_type": "code",
   "execution_count": 4,
   "metadata": {},
   "outputs": [
    {
     "data": {
      "text/plain": [
       "[pizza_onto.CheeseTopping,\n",
       " pizza_onto.FishTopping,\n",
       " pizza_onto.MeatTopping,\n",
       " pizza_onto.Pizza,\n",
       " pizza_onto.TomatoTopping,\n",
       " pizza_onto.Topping]"
      ]
     },
     "execution_count": 4,
     "metadata": {},
     "output_type": "execute_result"
    }
   ],
   "source": [
    "# Getting the list of classes\n",
    "list(onto.classes())"
   ]
  },
  {
   "cell_type": "code",
   "execution_count": 5,
   "metadata": {},
   "outputs": [
    {
     "data": {
      "text/plain": [
       "[pizza_onto.CheeseTopping,\n",
       " pizza_onto.FishTopping,\n",
       " pizza_onto.MeatTopping,\n",
       " pizza_onto.Pizza,\n",
       " pizza_onto.TomatoTopping,\n",
       " pizza_onto.Topping]"
      ]
     },
     "execution_count": 5,
     "metadata": {},
     "output_type": "execute_result"
    }
   ],
   "source": [
    "# Load ontology from local location, load and list its classes\n",
    "onto2 = get_ontology(\"data/pizza_onto.owl.xml\")\n",
    "onto2.load()\n",
    "list(onto2.classes())"
   ]
  },
  {
   "cell_type": "code",
   "execution_count": 6,
   "metadata": {},
   "outputs": [
    {
     "data": {
      "text/plain": [
       "[pizza_onto.MeatTopping, pizza_onto.TomatoTopping]"
      ]
     },
     "execution_count": 6,
     "metadata": {},
     "output_type": "execute_result"
    }
   ],
   "source": [
    "# Searching in a number of ways\n",
    "# Details: https://pythonhosted.org/Owlready2/onto.html#accessing-the-content-of-an-ontology\n",
    "# - iri, for searching entities by its full IRI\n",
    "# - type, for searching Individuals of a given Class\n",
    "# - subclass_of, for searching subclasses of a given Class\n",
    "# - is_a, for searching both Individuals and subclasses of a given Class\n",
    "# - any object, data or annotation property name\n",
    "onto.search(iri = \"*[to]Topping\")"
   ]
  },
  {
   "cell_type": "code",
   "execution_count": 7,
   "metadata": {},
   "outputs": [
    {
     "data": {
      "text/plain": [
       "owlready2.namespace.Ontology"
      ]
     },
     "execution_count": 7,
     "metadata": {},
     "output_type": "execute_result"
    }
   ],
   "source": [
    "onto.__class__"
   ]
  },
  {
   "cell_type": "code",
   "execution_count": null,
   "metadata": {},
   "outputs": [],
   "source": []
  }
 ],
 "metadata": {
  "kernelspec": {
   "display_name": "Python 3",
   "language": "python",
   "name": "python3"
  },
  "language_info": {
   "codemirror_mode": {
    "name": "ipython",
    "version": 3
   },
   "file_extension": ".py",
   "mimetype": "text/x-python",
   "name": "python",
   "nbconvert_exporter": "python",
   "pygments_lexer": "ipython3",
   "version": "3.8.3"
  }
 },
 "nbformat": 4,
 "nbformat_minor": 4
}
