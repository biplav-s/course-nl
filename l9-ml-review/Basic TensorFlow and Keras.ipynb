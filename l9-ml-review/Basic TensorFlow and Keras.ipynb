{
 "cells": [
  {
   "cell_type": "code",
   "execution_count": null,
   "metadata": {},
   "outputs": [],
   "source": [
    "## References\n",
    "#  - Keras for prediction: https://machinelearningmastery.com/tutorial-first-neural-network-python-keras/\n",
    "#  - Visalizing: https://towardsdatascience.com/visualizing-artificial-neural-networks-anns-with-just-one-line-of-code-b4233607209e"
   ]
  },
  {
   "cell_type": "code",
   "execution_count": 1,
   "metadata": {},
   "outputs": [],
   "source": [
    "## For installation, if not present \n",
    "# !pip install tensorflow\n",
    "# !pip install keras\n",
    "# !pip install ann_visualizer\n",
    "# !pip install graphviz"
   ]
  },
  {
   "cell_type": "markdown",
   "metadata": {},
   "source": [
    "## Basic TensorFlow Usage"
   ]
  },
  {
   "cell_type": "code",
   "execution_count": 2,
   "metadata": {},
   "outputs": [],
   "source": [
    "# Import TensorFlow\n",
    "import tensorflow as tf"
   ]
  },
  {
   "cell_type": "code",
   "execution_count": 3,
   "metadata": {},
   "outputs": [],
   "source": [
    "x = tf.constant(2, name=\"input_x\")\n",
    "y = tf.constant(3, name=\"input_y\")"
   ]
  },
  {
   "cell_type": "code",
   "execution_count": 4,
   "metadata": {},
   "outputs": [],
   "source": [
    "sum_ = tf.add(x, y, name=\"sum\")"
   ]
  },
  {
   "cell_type": "code",
   "execution_count": 5,
   "metadata": {},
   "outputs": [
    {
     "name": "stdout",
     "output_type": "stream",
     "text": [
      "5\n"
     ]
    }
   ],
   "source": [
    "## Reference on change from V1 to V2\n",
    "#  - https://www.tensorflow.org/guide/migrate\n",
    "\n",
    "    \n",
    "## TensforFlow V2.0\n",
    "tf.print(sum_)\n",
    "## TensorFlow V1.0\n",
    "# sess = tf.Session()\n",
    "# sess.run(sum_)"
   ]
  },
  {
   "cell_type": "markdown",
   "metadata": {},
   "source": [
    "## Using TF via Keras"
   ]
  },
  {
   "cell_type": "code",
   "execution_count": 6,
   "metadata": {},
   "outputs": [],
   "source": [
    "from keras.models import Sequential\n",
    "from keras.layers import Dense\n",
    "# first neural network with keras tutorial\n",
    "from numpy import loadtxt"
   ]
  },
  {
   "cell_type": "code",
   "execution_count": 7,
   "metadata": {},
   "outputs": [],
   "source": [
    "# load the dataset\n",
    "dataset = loadtxt('./data/pima-indians-diabetes.csv', delimiter=',')"
   ]
  },
  {
   "cell_type": "markdown",
   "metadata": {},
   "source": [
    "### Data format\n",
    "Input Variables (X):\n",
    "\n",
    "    Number of times pregnant\n",
    "    Plasma glucose concentration a 2 hours in an oral glucose tolerance test\n",
    "    Diastolic blood pressure (mm Hg)\n",
    "    Triceps skin fold thickness (mm)\n",
    "    2-Hour serum insulin (mu U/ml)\n",
    "    Body mass index (weight in kg/(height in m)^2)\n",
    "    Diabetes pedigree function\n",
    "    Age (years)\n",
    "\n",
    "Output Variables (y):\n",
    "\n",
    "    Class variable (0 or 1)"
   ]
  },
  {
   "cell_type": "code",
   "execution_count": 8,
   "metadata": {},
   "outputs": [],
   "source": [
    "# First 8 columns are the input to NN, last is output label\n",
    "X = dataset[:,0:8]\n",
    "y = dataset[:,8]"
   ]
  },
  {
   "cell_type": "code",
   "execution_count": 9,
   "metadata": {},
   "outputs": [],
   "source": [
    "# The keras model\n",
    "model = Sequential()\n",
    "model.add(Dense(12, input_dim=8, activation='relu'))\n",
    "model.add(Dense(8, activation='relu'))\n",
    "model.add(Dense(1, activation='sigmoid'))"
   ]
  },
  {
   "cell_type": "code",
   "execution_count": 10,
   "metadata": {},
   "outputs": [],
   "source": [
    "# compile the keras model\n",
    "model.compile(loss='binary_crossentropy', optimizer='adam', metrics=['accuracy'])"
   ]
  },
  {
   "cell_type": "code",
   "execution_count": 11,
   "metadata": {},
   "outputs": [],
   "source": [
    "# For visualization of network\n",
    "from ann_visualizer.visualize import ann_viz;\n",
    "\n",
    "ann_viz(model, view=True, filename=\"./data/network.gv\", title=\"Prediction Neural Network\")"
   ]
  },
  {
   "cell_type": "code",
   "execution_count": 12,
   "metadata": {},
   "outputs": [
    {
     "name": "stdout",
     "output_type": "stream",
     "text": [
      "Epoch 1/150\n",
      "77/77 [==============================] - 0s 790us/step - loss: 8.6748 - accuracy: 0.4323\n",
      "Epoch 2/150\n",
      "77/77 [==============================] - 0s 809us/step - loss: 2.1533 - accuracy: 0.5091\n",
      "Epoch 3/150\n",
      "77/77 [==============================] - 0s 797us/step - loss: 1.2578 - accuracy: 0.5482\n",
      "Epoch 4/150\n",
      "77/77 [==============================] - 0s 820us/step - loss: 1.0739 - accuracy: 0.5924\n",
      "Epoch 5/150\n",
      "77/77 [==============================] - 0s 806us/step - loss: 0.9530 - accuracy: 0.6250\n",
      "Epoch 6/150\n",
      "77/77 [==============================] - 0s 712us/step - loss: 0.8515 - accuracy: 0.6419\n",
      "Epoch 7/150\n",
      "77/77 [==============================] - 0s 699us/step - loss: 0.7890 - accuracy: 0.6445\n",
      "Epoch 8/150\n",
      "77/77 [==============================] - 0s 721us/step - loss: 0.7445 - accuracy: 0.6523\n",
      "Epoch 9/150\n",
      "77/77 [==============================] - 0s 928us/step - loss: 0.7440 - accuracy: 0.6432\n",
      "Epoch 10/150\n",
      "77/77 [==============================] - 0s 986us/step - loss: 0.7258 - accuracy: 0.6628\n",
      "Epoch 11/150\n",
      "77/77 [==============================] - 0s 775us/step - loss: 0.7256 - accuracy: 0.6693\n",
      "Epoch 12/150\n",
      "77/77 [==============================] - 0s 825us/step - loss: 0.7653 - accuracy: 0.6562\n",
      "Epoch 13/150\n",
      "77/77 [==============================] - 0s 821us/step - loss: 0.7179 - accuracy: 0.6484\n",
      "Epoch 14/150\n",
      "77/77 [==============================] - 0s 792us/step - loss: 0.7130 - accuracy: 0.6576\n",
      "Epoch 15/150\n",
      "77/77 [==============================] - 0s 824us/step - loss: 0.6961 - accuracy: 0.6667\n",
      "Epoch 16/150\n",
      "77/77 [==============================] - 0s 1ms/step - loss: 0.6697 - accuracy: 0.6758\n",
      "Epoch 17/150\n",
      "77/77 [==============================] - 0s 804us/step - loss: 0.6462 - accuracy: 0.6823\n",
      "Epoch 18/150\n",
      "77/77 [==============================] - 0s 929us/step - loss: 0.6360 - accuracy: 0.6823\n",
      "Epoch 19/150\n",
      "77/77 [==============================] - 0s 1ms/step - loss: 0.6393 - accuracy: 0.6758\n",
      "Epoch 20/150\n",
      "77/77 [==============================] - 0s 793us/step - loss: 0.6563 - accuracy: 0.6784\n",
      "Epoch 21/150\n",
      "77/77 [==============================] - 0s 808us/step - loss: 0.6110 - accuracy: 0.6940\n",
      "Epoch 22/150\n",
      "77/77 [==============================] - 0s 835us/step - loss: 0.6139 - accuracy: 0.6875\n",
      "Epoch 23/150\n",
      "77/77 [==============================] - 0s 846us/step - loss: 0.6265 - accuracy: 0.6875\n",
      "Epoch 24/150\n",
      "77/77 [==============================] - 0s 904us/step - loss: 0.6127 - accuracy: 0.6862\n",
      "Epoch 25/150\n",
      "77/77 [==============================] - 0s 960us/step - loss: 0.6050 - accuracy: 0.6901\n",
      "Epoch 26/150\n",
      "77/77 [==============================] - 0s 1ms/step - loss: 0.6055 - accuracy: 0.6914\n",
      "Epoch 27/150\n",
      "77/77 [==============================] - 0s 842us/step - loss: 0.6133 - accuracy: 0.6771\n",
      "Epoch 28/150\n",
      "77/77 [==============================] - 0s 823us/step - loss: 0.5795 - accuracy: 0.7031\n",
      "Epoch 29/150\n",
      "77/77 [==============================] - 0s 957us/step - loss: 0.5902 - accuracy: 0.7122\n",
      "Epoch 30/150\n",
      "77/77 [==============================] - 0s 959us/step - loss: 0.5941 - accuracy: 0.7109\n",
      "Epoch 31/150\n",
      "77/77 [==============================] - 0s 734us/step - loss: 0.5794 - accuracy: 0.7096\n",
      "Epoch 32/150\n",
      "77/77 [==============================] - 0s 812us/step - loss: 0.5694 - accuracy: 0.7109\n",
      "Epoch 33/150\n",
      "77/77 [==============================] - 0s 726us/step - loss: 0.5833 - accuracy: 0.6914\n",
      "Epoch 34/150\n",
      "77/77 [==============================] - 0s 820us/step - loss: 0.6226 - accuracy: 0.6927\n",
      "Epoch 35/150\n",
      "77/77 [==============================] - 0s 851us/step - loss: 0.6041 - accuracy: 0.7018\n",
      "Epoch 36/150\n",
      "77/77 [==============================] - 0s 948us/step - loss: 0.5888 - accuracy: 0.7070\n",
      "Epoch 37/150\n",
      "77/77 [==============================] - 0s 1ms/step - loss: 0.5721 - accuracy: 0.7174\n",
      "Epoch 38/150\n",
      "77/77 [==============================] - 0s 805us/step - loss: 0.5621 - accuracy: 0.7174\n",
      "Epoch 39/150\n",
      "77/77 [==============================] - 0s 845us/step - loss: 0.5752 - accuracy: 0.7109\n",
      "Epoch 40/150\n",
      "77/77 [==============================] - 0s 954us/step - loss: 0.5719 - accuracy: 0.7188\n",
      "Epoch 41/150\n",
      "77/77 [==============================] - 0s 989us/step - loss: 0.5633 - accuracy: 0.7344\n",
      "Epoch 42/150\n",
      "77/77 [==============================] - 0s 779us/step - loss: 0.5632 - accuracy: 0.7266\n",
      "Epoch 43/150\n",
      "77/77 [==============================] - 0s 860us/step - loss: 0.5684 - accuracy: 0.7174\n",
      "Epoch 44/150\n",
      "77/77 [==============================] - 0s 785us/step - loss: 0.5539 - accuracy: 0.7227\n",
      "Epoch 45/150\n",
      "77/77 [==============================] - 0s 809us/step - loss: 0.5664 - accuracy: 0.7253\n",
      "Epoch 46/150\n",
      "77/77 [==============================] - 0s 821us/step - loss: 0.5500 - accuracy: 0.7318\n",
      "Epoch 47/150\n",
      "77/77 [==============================] - 0s 809us/step - loss: 0.5693 - accuracy: 0.7214\n",
      "Epoch 48/150\n",
      "77/77 [==============================] - 0s 670us/step - loss: 0.5545 - accuracy: 0.7240\n",
      "Epoch 49/150\n",
      "77/77 [==============================] - 0s 792us/step - loss: 0.5536 - accuracy: 0.7188\n",
      "Epoch 50/150\n",
      "77/77 [==============================] - 0s 684us/step - loss: 0.5631 - accuracy: 0.7148\n",
      "Epoch 51/150\n",
      "77/77 [==============================] - 0s 691us/step - loss: 0.5544 - accuracy: 0.7331\n",
      "Epoch 52/150\n",
      "77/77 [==============================] - 0s 666us/step - loss: 0.5582 - accuracy: 0.7266\n",
      "Epoch 53/150\n",
      "77/77 [==============================] - 0s 712us/step - loss: 0.5531 - accuracy: 0.7227\n",
      "Epoch 54/150\n",
      "77/77 [==============================] - 0s 715us/step - loss: 0.5319 - accuracy: 0.7240\n",
      "Epoch 55/150\n",
      "77/77 [==============================] - 0s 663us/step - loss: 0.5828 - accuracy: 0.7109\n",
      "Epoch 56/150\n",
      "77/77 [==============================] - 0s 646us/step - loss: 0.5621 - accuracy: 0.7305\n",
      "Epoch 57/150\n",
      "77/77 [==============================] - 0s 642us/step - loss: 0.6099 - accuracy: 0.6862\n",
      "Epoch 58/150\n",
      "77/77 [==============================] - 0s 631us/step - loss: 0.5563 - accuracy: 0.7188\n",
      "Epoch 59/150\n",
      "77/77 [==============================] - 0s 672us/step - loss: 0.5731 - accuracy: 0.7279\n",
      "Epoch 60/150\n",
      "77/77 [==============================] - 0s 639us/step - loss: 0.5573 - accuracy: 0.7305\n",
      "Epoch 61/150\n",
      "77/77 [==============================] - 0s 645us/step - loss: 0.5248 - accuracy: 0.7513\n",
      "Epoch 62/150\n",
      "77/77 [==============================] - 0s 638us/step - loss: 0.5496 - accuracy: 0.7266\n",
      "Epoch 63/150\n",
      "77/77 [==============================] - 0s 676us/step - loss: 0.5645 - accuracy: 0.7357\n",
      "Epoch 64/150\n",
      "77/77 [==============================] - 0s 675us/step - loss: 0.5636 - accuracy: 0.7018\n",
      "Epoch 65/150\n",
      "77/77 [==============================] - 0s 630us/step - loss: 0.5323 - accuracy: 0.7435\n",
      "Epoch 66/150\n",
      "77/77 [==============================] - 0s 664us/step - loss: 0.5637 - accuracy: 0.7214\n",
      "Epoch 67/150\n",
      "77/77 [==============================] - 0s 646us/step - loss: 0.5432 - accuracy: 0.7279\n",
      "Epoch 68/150\n",
      "77/77 [==============================] - 0s 638us/step - loss: 0.5366 - accuracy: 0.7370\n",
      "Epoch 69/150\n",
      "77/77 [==============================] - 0s 641us/step - loss: 0.5448 - accuracy: 0.7331\n",
      "Epoch 70/150\n",
      "77/77 [==============================] - 0s 645us/step - loss: 0.5471 - accuracy: 0.7188\n",
      "Epoch 71/150\n",
      "77/77 [==============================] - 0s 647us/step - loss: 0.5310 - accuracy: 0.7448\n",
      "Epoch 72/150\n",
      "77/77 [==============================] - 0s 725us/step - loss: 0.5361 - accuracy: 0.7344\n",
      "Epoch 73/150\n",
      "77/77 [==============================] - 0s 644us/step - loss: 0.5905 - accuracy: 0.7005\n",
      "Epoch 74/150\n",
      "77/77 [==============================] - 0s 633us/step - loss: 0.5840 - accuracy: 0.7070\n",
      "Epoch 75/150\n",
      "77/77 [==============================] - 0s 641us/step - loss: 0.5605 - accuracy: 0.7201\n",
      "Epoch 76/150\n",
      "77/77 [==============================] - 0s 664us/step - loss: 0.5350 - accuracy: 0.7448\n",
      "Epoch 77/150\n",
      "77/77 [==============================] - 0s 668us/step - loss: 0.5224 - accuracy: 0.7500\n",
      "Epoch 78/150\n",
      "77/77 [==============================] - 0s 644us/step - loss: 0.5324 - accuracy: 0.7448\n",
      "Epoch 79/150\n",
      "77/77 [==============================] - 0s 641us/step - loss: 0.5363 - accuracy: 0.7487\n",
      "Epoch 80/150\n",
      "77/77 [==============================] - 0s 687us/step - loss: 0.5292 - accuracy: 0.7487\n",
      "Epoch 81/150\n"
     ]
    },
    {
     "name": "stdout",
     "output_type": "stream",
     "text": [
      "77/77 [==============================] - 0s 661us/step - loss: 0.5233 - accuracy: 0.7539\n",
      "Epoch 82/150\n",
      "77/77 [==============================] - 0s 638us/step - loss: 0.5432 - accuracy: 0.7253\n",
      "Epoch 83/150\n",
      "77/77 [==============================] - 0s 631us/step - loss: 0.5233 - accuracy: 0.7409\n",
      "Epoch 84/150\n",
      "77/77 [==============================] - 0s 701us/step - loss: 0.5238 - accuracy: 0.7409\n",
      "Epoch 85/150\n",
      "77/77 [==============================] - 0s 672us/step - loss: 0.5308 - accuracy: 0.7500\n",
      "Epoch 86/150\n",
      "77/77 [==============================] - 0s 771us/step - loss: 0.5212 - accuracy: 0.7552\n",
      "Epoch 87/150\n",
      "77/77 [==============================] - 0s 959us/step - loss: 0.5170 - accuracy: 0.7630\n",
      "Epoch 88/150\n",
      "77/77 [==============================] - 0s 980us/step - loss: 0.5158 - accuracy: 0.7513\n",
      "Epoch 89/150\n",
      "77/77 [==============================] - 0s 977us/step - loss: 0.5227 - accuracy: 0.7643\n",
      "Epoch 90/150\n",
      "77/77 [==============================] - 0s 932us/step - loss: 0.5299 - accuracy: 0.7461\n",
      "Epoch 91/150\n",
      "77/77 [==============================] - 0s 869us/step - loss: 0.5352 - accuracy: 0.7240\n",
      "Epoch 92/150\n",
      "77/77 [==============================] - 0s 690us/step - loss: 0.5342 - accuracy: 0.7448\n",
      "Epoch 93/150\n",
      "77/77 [==============================] - 0s 662us/step - loss: 0.5382 - accuracy: 0.7344\n",
      "Epoch 94/150\n",
      "77/77 [==============================] - 0s 642us/step - loss: 0.5229 - accuracy: 0.7396\n",
      "Epoch 95/150\n",
      "77/77 [==============================] - 0s 631us/step - loss: 0.5398 - accuracy: 0.7357\n",
      "Epoch 96/150\n",
      "77/77 [==============================] - 0s 688us/step - loss: 0.5669 - accuracy: 0.7331\n",
      "Epoch 97/150\n",
      "77/77 [==============================] - 0s 639us/step - loss: 0.5221 - accuracy: 0.7344\n",
      "Epoch 98/150\n",
      "77/77 [==============================] - 0s 627us/step - loss: 0.5436 - accuracy: 0.7227\n",
      "Epoch 99/150\n",
      "77/77 [==============================] - 0s 641us/step - loss: 0.5196 - accuracy: 0.7500\n",
      "Epoch 100/150\n",
      "77/77 [==============================] - 0s 623us/step - loss: 0.5530 - accuracy: 0.7292\n",
      "Epoch 101/150\n",
      "77/77 [==============================] - 0s 636us/step - loss: 0.5200 - accuracy: 0.7487\n",
      "Epoch 102/150\n",
      "77/77 [==============================] - 0s 696us/step - loss: 0.5353 - accuracy: 0.7552\n",
      "Epoch 103/150\n",
      "77/77 [==============================] - 0s 755us/step - loss: 0.5050 - accuracy: 0.7630\n",
      "Epoch 104/150\n",
      "77/77 [==============================] - 0s 900us/step - loss: 0.5249 - accuracy: 0.7435\n",
      "Epoch 105/150\n",
      "77/77 [==============================] - 0s 939us/step - loss: 0.5156 - accuracy: 0.7474\n",
      "Epoch 106/150\n",
      "77/77 [==============================] - 0s 726us/step - loss: 0.5233 - accuracy: 0.7487\n",
      "Epoch 107/150\n",
      "77/77 [==============================] - 0s 703us/step - loss: 0.5379 - accuracy: 0.7448\n",
      "Epoch 108/150\n",
      "77/77 [==============================] - 0s 649us/step - loss: 0.5218 - accuracy: 0.7669\n",
      "Epoch 109/150\n",
      "77/77 [==============================] - 0s 644us/step - loss: 0.5208 - accuracy: 0.7539\n",
      "Epoch 110/150\n",
      "77/77 [==============================] - 0s 625us/step - loss: 0.5215 - accuracy: 0.7474\n",
      "Epoch 111/150\n",
      "77/77 [==============================] - 0s 633us/step - loss: 0.5284 - accuracy: 0.7161\n",
      "Epoch 112/150\n",
      "77/77 [==============================] - 0s 627us/step - loss: 0.5063 - accuracy: 0.7500\n",
      "Epoch 113/150\n",
      "77/77 [==============================] - 0s 619us/step - loss: 0.5192 - accuracy: 0.7435\n",
      "Epoch 114/150\n",
      "77/77 [==============================] - 0s 651us/step - loss: 0.5023 - accuracy: 0.7591\n",
      "Epoch 115/150\n",
      "77/77 [==============================] - 0s 633us/step - loss: 0.5064 - accuracy: 0.7578\n",
      "Epoch 116/150\n",
      "77/77 [==============================] - 0s 691us/step - loss: 0.5203 - accuracy: 0.7500\n",
      "Epoch 117/150\n",
      "77/77 [==============================] - 0s 639us/step - loss: 0.5352 - accuracy: 0.7383\n",
      "Epoch 118/150\n",
      "77/77 [==============================] - 0s 628us/step - loss: 0.5561 - accuracy: 0.7383\n",
      "Epoch 119/150\n",
      "77/77 [==============================] - 0s 595us/step - loss: 0.5177 - accuracy: 0.7448\n",
      "Epoch 120/150\n",
      "77/77 [==============================] - 0s 649us/step - loss: 0.5496 - accuracy: 0.7318\n",
      "Epoch 121/150\n",
      "77/77 [==============================] - 0s 633us/step - loss: 0.5107 - accuracy: 0.7617\n",
      "Epoch 122/150\n",
      "77/77 [==============================] - 0s 626us/step - loss: 0.5186 - accuracy: 0.7643\n",
      "Epoch 123/150\n",
      "77/77 [==============================] - 0s 643us/step - loss: 0.5148 - accuracy: 0.7526\n",
      "Epoch 124/150\n",
      "77/77 [==============================] - 0s 644us/step - loss: 0.4969 - accuracy: 0.7591\n",
      "Epoch 125/150\n",
      "77/77 [==============================] - 0s 639us/step - loss: 0.5174 - accuracy: 0.7474\n",
      "Epoch 126/150\n",
      "77/77 [==============================] - 0s 664us/step - loss: 0.5082 - accuracy: 0.7617\n",
      "Epoch 127/150\n",
      "77/77 [==============================] - 0s 693us/step - loss: 0.5112 - accuracy: 0.7591\n",
      "Epoch 128/150\n",
      "77/77 [==============================] - 0s 641us/step - loss: 0.5105 - accuracy: 0.7630\n",
      "Epoch 129/150\n",
      "77/77 [==============================] - 0s 633us/step - loss: 0.5145 - accuracy: 0.7591\n",
      "Epoch 130/150\n",
      "77/77 [==============================] - 0s 666us/step - loss: 0.4969 - accuracy: 0.7734\n",
      "Epoch 131/150\n",
      "77/77 [==============================] - 0s 735us/step - loss: 0.5025 - accuracy: 0.7656\n",
      "Epoch 132/150\n",
      "77/77 [==============================] - 0s 761us/step - loss: 0.5101 - accuracy: 0.7669\n",
      "Epoch 133/150\n",
      "77/77 [==============================] - 0s 986us/step - loss: 0.5152 - accuracy: 0.7630\n",
      "Epoch 134/150\n",
      "77/77 [==============================] - 0s 948us/step - loss: 0.5134 - accuracy: 0.7409\n",
      "Epoch 135/150\n",
      "77/77 [==============================] - 0s 964us/step - loss: 0.5045 - accuracy: 0.7708\n",
      "Epoch 136/150\n",
      "77/77 [==============================] - 0s 1ms/step - loss: 0.5065 - accuracy: 0.7578\n",
      "Epoch 137/150\n",
      "77/77 [==============================] - 0s 941us/step - loss: 0.5134 - accuracy: 0.7357\n",
      "Epoch 138/150\n",
      "77/77 [==============================] - 0s 951us/step - loss: 0.4951 - accuracy: 0.7565\n",
      "Epoch 139/150\n",
      "77/77 [==============================] - 0s 998us/step - loss: 0.4920 - accuracy: 0.7617\n",
      "Epoch 140/150\n",
      "77/77 [==============================] - 0s 975us/step - loss: 0.5170 - accuracy: 0.7474\n",
      "Epoch 141/150\n",
      "77/77 [==============================] - 0s 970us/step - loss: 0.4997 - accuracy: 0.7578\n",
      "Epoch 142/150\n",
      "77/77 [==============================] - 0s 926us/step - loss: 0.5125 - accuracy: 0.7617\n",
      "Epoch 143/150\n",
      "77/77 [==============================] - 0s 943us/step - loss: 0.4988 - accuracy: 0.7682\n",
      "Epoch 144/150\n",
      "77/77 [==============================] - 0s 950us/step - loss: 0.4930 - accuracy: 0.7773\n",
      "Epoch 145/150\n",
      "77/77 [==============================] - 0s 888us/step - loss: 0.5175 - accuracy: 0.7695\n",
      "Epoch 146/150\n",
      "77/77 [==============================] - 0s 710us/step - loss: 0.5375 - accuracy: 0.7266\n",
      "Epoch 147/150\n",
      "77/77 [==============================] - 0s 664us/step - loss: 0.5614 - accuracy: 0.7422\n",
      "Epoch 148/150\n",
      "77/77 [==============================] - 0s 638us/step - loss: 0.5005 - accuracy: 0.7539\n",
      "Epoch 149/150\n",
      "77/77 [==============================] - 0s 649us/step - loss: 0.4986 - accuracy: 0.7773\n",
      "Epoch 150/150\n",
      "77/77 [==============================] - 0s 648us/step - loss: 0.5126 - accuracy: 0.7487\n"
     ]
    },
    {
     "data": {
      "text/plain": [
       "<tensorflow.python.keras.callbacks.History at 0x7f92f06bdc90>"
      ]
     },
     "execution_count": 12,
     "metadata": {},
     "output_type": "execute_result"
    }
   ],
   "source": [
    "# fit the keras model on the dataset\n",
    "model.fit(X, y, epochs=150, batch_size=10)"
   ]
  },
  {
   "cell_type": "code",
   "execution_count": 13,
   "metadata": {},
   "outputs": [
    {
     "name": "stdout",
     "output_type": "stream",
     "text": [
      "24/24 [==============================] - 0s 668us/step - loss: 0.4683 - accuracy: 0.7878\n",
      "Accuracy: 78.78\n"
     ]
    }
   ],
   "source": [
    "# evaluate the keras model\n",
    "_, accuracy = model.evaluate(X, y)\n",
    "print('Accuracy: %.2f' % (accuracy*100))"
   ]
  },
  {
   "cell_type": "code",
   "execution_count": 14,
   "metadata": {},
   "outputs": [
    {
     "name": "stdout",
     "output_type": "stream",
     "text": [
      "Model: \"sequential\"\n",
      "_________________________________________________________________\n",
      "Layer (type)                 Output Shape              Param #   \n",
      "=================================================================\n",
      "dense (Dense)                (None, 12)                108       \n",
      "_________________________________________________________________\n",
      "dense_1 (Dense)              (None, 8)                 104       \n",
      "_________________________________________________________________\n",
      "dense_2 (Dense)              (None, 1)                 9         \n",
      "=================================================================\n",
      "Total params: 221\n",
      "Trainable params: 221\n",
      "Non-trainable params: 0\n",
      "_________________________________________________________________\n"
     ]
    }
   ],
   "source": [
    "# See summary of the model\n",
    "model.summary()"
   ]
  },
  {
   "cell_type": "code",
   "execution_count": 15,
   "metadata": {},
   "outputs": [
    {
     "name": "stdout",
     "output_type": "stream",
     "text": [
      "WARNING:tensorflow:From <ipython-input-15-553bcfe81457>:2: Sequential.predict_classes (from tensorflow.python.keras.engine.sequential) is deprecated and will be removed after 2021-01-01.\n",
      "Instructions for updating:\n",
      "Please use instead:* `np.argmax(model.predict(x), axis=-1)`,   if your model does multi-class classification   (e.g. if it uses a `softmax` last-layer activation).* `(model.predict(x) > 0.5).astype(\"int32\")`,   if your model does binary classification   (e.g. if it uses a `sigmoid` last-layer activation).\n"
     ]
    }
   ],
   "source": [
    "# Make predictions. Assuming X is also the data to predict on\n",
    "predictions = model.predict_classes(X)"
   ]
  },
  {
   "cell_type": "code",
   "execution_count": 16,
   "metadata": {},
   "outputs": [
    {
     "name": "stdout",
     "output_type": "stream",
     "text": [
      "[6.0, 148.0, 72.0, 35.0, 0.0, 33.6, 0.627, 50.0] => 1 (expected 1)\n",
      "[1.0, 85.0, 66.0, 29.0, 0.0, 26.6, 0.351, 31.0] => 0 (expected 0)\n",
      "[8.0, 183.0, 64.0, 0.0, 0.0, 23.3, 0.672, 32.0] => 1 (expected 1)\n",
      "[1.0, 89.0, 66.0, 23.0, 94.0, 28.1, 0.167, 21.0] => 0 (expected 0)\n",
      "[0.0, 137.0, 40.0, 35.0, 168.0, 43.1, 2.288, 33.0] => 1 (expected 1)\n"
     ]
    }
   ],
   "source": [
    "# summarize the first 5 cases\n",
    "for i in range(5):\n",
    "    print('%s => %d (expected %d)' % (X[i].tolist(), predictions[i], y[i]))"
   ]
  },
  {
   "cell_type": "code",
   "execution_count": null,
   "metadata": {},
   "outputs": [],
   "source": []
  }
 ],
 "metadata": {
  "kernelspec": {
   "display_name": "Python 3",
   "language": "python",
   "name": "python3"
  },
  "language_info": {
   "codemirror_mode": {
    "name": "ipython",
    "version": 3
   },
   "file_extension": ".py",
   "mimetype": "text/x-python",
   "name": "python",
   "nbconvert_exporter": "python",
   "pygments_lexer": "ipython3",
   "version": "3.7.6"
  }
 },
 "nbformat": 4,
 "nbformat_minor": 4
}
