{
 "cells": [
  {
   "cell_type": "code",
   "execution_count": 29,
   "metadata": {},
   "outputs": [],
   "source": [
    "# Based on code at:\n",
    "# - https://nlpforhackers.io/topic-modeling/\n",
    "# - "
   ]
  },
  {
   "cell_type": "code",
   "execution_count": 30,
   "metadata": {},
   "outputs": [],
   "source": [
    "file = '../common-data/Example-TDBank-PersonalAcctAgree.txt'\n",
    "file2 = '../common-data/nobel-2020/dataset-nyt-nobel2020.txt'"
   ]
  },
  {
   "cell_type": "code",
   "execution_count": 34,
   "metadata": {},
   "outputs": [],
   "source": [
    "# Get raw text as string.\n",
    "with open(file) as f:\n",
    "    text = f.read()\n",
    "with open(file2) as f:\n",
    "    text2 = f.read()"
   ]
  },
  {
   "cell_type": "code",
   "execution_count": 35,
   "metadata": {},
   "outputs": [],
   "source": [
    "import re\n",
    "from gensim import models, corpora\n",
    "from nltk import word_tokenize\n",
    "from nltk.corpus import stopwords"
   ]
  },
  {
   "cell_type": "code",
   "execution_count": 36,
   "metadata": {},
   "outputs": [
    {
     "name": "stderr",
     "output_type": "stream",
     "text": [
      "[nltk_data] Downloading package stopwords to\n",
      "[nltk_data]     /Users/biplavs/nltk_data...\n",
      "[nltk_data]   Package stopwords is already up-to-date!\n",
      "[nltk_data] Downloading package punkt to /Users/biplavs/nltk_data...\n",
      "[nltk_data]   Package punkt is already up-to-date!\n"
     ]
    },
    {
     "data": {
      "text/plain": [
       "True"
      ]
     },
     "execution_count": 36,
     "metadata": {},
     "output_type": "execute_result"
    }
   ],
   "source": [
    "import nltk\n",
    "nltk.download('stopwords')\n",
    "nltk.download('punkt')"
   ]
  },
  {
   "cell_type": "code",
   "execution_count": 37,
   "metadata": {},
   "outputs": [],
   "source": [
    "NUM_TOPICS = 10\n",
    "STOPWORDS = stopwords.words('english')\n",
    " \n",
    "def clean_text(text):\n",
    "    tokenized_text = word_tokenize(text.lower())\n",
    "    cleaned_text = [t for t in tokenized_text if t not in STOPWORDS and re.match('[a-zA-Z\\-][a-zA-Z\\-]{2,}', t)]\n",
    "    return cleaned_text"
   ]
  },
  {
   "cell_type": "code",
   "execution_count": 38,
   "metadata": {},
   "outputs": [],
   "source": [
    "# For gensim we need to tokenize the data and filter out stopwords\n",
    "tokenized_data = []\n",
    "tokenized_data.append(clean_text(text))\n",
    "tokenized_data.append(clean_text(text2))\n",
    "# Added only one document"
   ]
  },
  {
   "cell_type": "code",
   "execution_count": 39,
   "metadata": {},
   "outputs": [],
   "source": [
    "# Build a Dictionary - association word to numeric id\n",
    "dictionary = corpora.Dictionary(tokenized_data)\n",
    " \n",
    "# Transform the collection of texts to a numerical form\n",
    "corpus = [dictionary.doc2bow(text) for text in tokenized_data]\n"
   ]
  },
  {
   "cell_type": "code",
   "execution_count": 40,
   "metadata": {},
   "outputs": [],
   "source": [
    "# Build the LDA model\n",
    "lda_model = models.LdaModel(corpus=corpus, num_topics=NUM_TOPICS, id2word=dictionary)\n"
   ]
  },
  {
   "cell_type": "code",
   "execution_count": 41,
   "metadata": {},
   "outputs": [
    {
     "name": "stdout",
     "output_type": "stream",
     "text": [
      "LDA Model:\n",
      "Topic #0: 0.034*\"account\" + 0.012*\"deposit\" + 0.011*\"funds\" + 0.011*\"may\" + 0.011*\"bank\" + 0.011*\"accounts\" + 0.007*\"personal\" + 0.006*\"day\" + 0.006*\"check\" + 0.006*\"deposits\"\n",
      "Topic #1: 0.025*\"account\" + 0.013*\"deposit\" + 0.013*\"may\" + 0.011*\"accounts\" + 0.009*\"funds\" + 0.007*\"day\" + 0.007*\"check\" + 0.007*\"bank\" + 0.006*\"balance\" + 0.006*\"card\"\n",
      "Topic #2: 0.038*\"account\" + 0.020*\"may\" + 0.012*\"deposit\" + 0.011*\"accounts\" + 0.011*\"funds\" + 0.010*\"bank\" + 0.009*\"check\" + 0.008*\"agreement\" + 0.008*\"checking\" + 0.007*\"available\"\n",
      "Topic #3: 0.033*\"account\" + 0.014*\"may\" + 0.011*\"funds\" + 0.010*\"bank\" + 0.010*\"deposit\" + 0.008*\"accounts\" + 0.008*\"checking\" + 0.007*\"check\" + 0.007*\"available\" + 0.006*\"statement\"\n",
      "Topic #4: 0.036*\"account\" + 0.017*\"may\" + 0.015*\"deposit\" + 0.012*\"bank\" + 0.011*\"accounts\" + 0.009*\"funds\" + 0.008*\"personal\" + 0.008*\"day\" + 0.007*\"check\" + 0.007*\"interest\"\n",
      "Topic #5: 0.028*\"account\" + 0.012*\"may\" + 0.011*\"bank\" + 0.010*\"deposit\" + 0.009*\"accounts\" + 0.006*\"day\" + 0.006*\"personal\" + 0.006*\"available\" + 0.006*\"funds\" + 0.006*\"check\"\n",
      "Topic #6: 0.044*\"account\" + 0.022*\"may\" + 0.011*\"deposit\" + 0.010*\"accounts\" + 0.009*\"funds\" + 0.008*\"bank\" + 0.008*\"day\" + 0.008*\"check\" + 0.007*\"personal\" + 0.007*\"available\"\n",
      "Topic #7: 0.023*\"account\" + 0.013*\"may\" + 0.010*\"deposit\" + 0.010*\"bank\" + 0.009*\"day\" + 0.008*\"personal\" + 0.008*\"accounts\" + 0.007*\"funds\" + 0.007*\"check\" + 0.006*\"statement\"\n",
      "Topic #8: 0.034*\"account\" + 0.012*\"may\" + 0.011*\"deposit\" + 0.010*\"bank\" + 0.009*\"funds\" + 0.008*\"check\" + 0.008*\"accounts\" + 0.007*\"personal\" + 0.007*\"day\" + 0.006*\"balance\"\n",
      "Topic #9: 0.038*\"account\" + 0.016*\"may\" + 0.013*\"deposit\" + 0.013*\"bank\" + 0.012*\"funds\" + 0.010*\"accounts\" + 0.007*\"day\" + 0.007*\"check\" + 0.007*\"available\" + 0.007*\"balance\"\n",
      "====================\n"
     ]
    }
   ],
   "source": [
    "print(\"LDA Model:\")\n",
    " \n",
    "for idx in range(NUM_TOPICS):\n",
    "    # Print the first 10 most representative topics\n",
    "    print(\"Topic #%s:\" % idx, lda_model.print_topic(idx, 10))\n",
    " \n",
    "print(\"=\" * 20)"
   ]
  },
  {
   "cell_type": "code",
   "execution_count": 42,
   "metadata": {},
   "outputs": [],
   "source": [
    "# Build the LSI model\n",
    "lsi_model = models.LsiModel(corpus=corpus, num_topics=NUM_TOPICS, id2word=dictionary)\n",
    " "
   ]
  },
  {
   "cell_type": "code",
   "execution_count": 43,
   "metadata": {},
   "outputs": [
    {
     "name": "stdout",
     "output_type": "stream",
     "text": [
      "LSI Model:\n",
      "Topic #0: 0.606*\"account\" + 0.275*\"may\" + 0.209*\"deposit\" + 0.179*\"bank\" + 0.172*\"accounts\" + 0.167*\"funds\" + 0.128*\"check\" + 0.127*\"day\" + 0.114*\"personal\" + 0.106*\"available\"\n",
      "Topic #1: -0.543*\"prize\" + -0.427*\"nobel\" + -0.155*\"recipients\" + -0.155*\"peace\" + -0.155*\"awarded\" + -0.116*\"work\" + -0.116*\"literature\" + -0.116*\"ceremony\" + -0.116*\"economic\" + -0.116*\"monday\"\n",
      "Topic #2: \n",
      "Topic #3: \n",
      "Topic #4: \n",
      "Topic #5: \n",
      "Topic #6: \n",
      "Topic #7: \n",
      "Topic #8: \n",
      "Topic #9: \n",
      "====================\n"
     ]
    }
   ],
   "source": [
    "print(\"LSI Model:\")\n",
    " \n",
    "for idx in range(NUM_TOPICS):\n",
    "    # Print the first 10 most representative topics\n",
    "    print(\"Topic #%s:\" % idx, lsi_model.print_topic(idx, 10))\n",
    " \n",
    "print(\"=\" * 20)"
   ]
  },
  {
   "cell_type": "code",
   "execution_count": null,
   "metadata": {},
   "outputs": [],
   "source": []
  }
 ],
 "metadata": {
  "kernelspec": {
   "display_name": "Python 3",
   "language": "python",
   "name": "python3"
  },
  "language_info": {
   "codemirror_mode": {
    "name": "ipython",
    "version": 3
   },
   "file_extension": ".py",
   "mimetype": "text/x-python",
   "name": "python",
   "nbconvert_exporter": "python",
   "pygments_lexer": "ipython3",
   "version": "3.8.3"
  }
 },
 "nbformat": 4,
 "nbformat_minor": 4
}
